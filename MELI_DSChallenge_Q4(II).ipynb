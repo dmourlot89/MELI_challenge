{
  "nbformat": 4,
  "nbformat_minor": 0,
  "metadata": {
    "colab": {
      "provenance": [],
      "collapsed_sections": [],
      "authorship_tag": "ABX9TyMrqjWYuC41vensK5aX78pa",
      "include_colab_link": true
    },
    "kernelspec": {
      "name": "python3",
      "display_name": "Python 3"
    },
    "language_info": {
      "name": "python"
    }
  },
  "cells": [
    {
      "cell_type": "markdown",
      "metadata": {
        "id": "view-in-github",
        "colab_type": "text"
      },
      "source": [
        "<a href=\"https://colab.research.google.com/github/dmourlot89/MELI_challenge/blob/main/MELI_DSChallenge_Q4(II).ipynb\" target=\"_parent\"><img src=\"https://colab.research.google.com/assets/colab-badge.svg\" alt=\"Open In Colab\"/></a>"
      ]
    },
    {
      "cell_type": "markdown",
      "source": [
        "## 4. Series de tiempo\n",
        "\n",
        "### **Descripción**\n",
        "\n",
        "Pronosticar las ventas de un producto o de una categoría es un desafío recurrente para cualquier ecommerce.\n",
        "\n",
        "En este caso, el desafío va a ser pronosticar la cantidad de unidades diarias que van a vender 3 categorías distintas de MELI.\n",
        "\n",
        "El dataset “series.csv” tiene las ventas en unidades diarias de 3 categorías que\n",
        "poseen un id único y su fecha de venta.\n",
        "\n",
        "### **Entregable**\n",
        "El objetivo de este desafío es construir un modelo de forecast que permita estimar las ventas de 3 semanas a nivel diario utilizando la historia de ventas de la categoría. Es decir, predecir las ventas de los siguientes 21 días. Las métricas y la medición de la performance del forecast son un punto clave de este desafío.\n",
        "\n",
        "**TIP: Dividir el dataset en entrenamiento, testing y validación correctamente es muy importante en problemas de forecasting!**\n"
      ],
      "metadata": {
        "id": "EBxMlzVn2fNn"
      }
    },
    {
      "cell_type": "code",
      "execution_count": 1,
      "metadata": {
        "id": "FLQHwaToSoav"
      },
      "outputs": [],
      "source": [
        "# Import neccesary libraries and functions\n",
        "import numpy as np\n",
        "import pandas as pd\n",
        "import matplotlib.pyplot as plt\n",
        "import seaborn as sns\n",
        "\n",
        "from sklearn.preprocessing import MinMaxScaler\n",
        "from sklearn.model_selection import train_test_split\n",
        "from sklearn.linear_model import LinearRegression\n",
        "from sklearn.metrics import mean_squared_error"
      ]
    },
    {
      "cell_type": "code",
      "source": [
        "# load dataset from github repository\n",
        "url = 'https://raw.githubusercontent.com/dmourlot89/MELI_challenge/main/series.csv'\n",
        "dtype = {\n",
        "    'CATEGORY': 'category'\n",
        "}\n",
        "series_df = pd.read_csv(url,parse_dates = [\"DATE\"],\n",
        "                        dtype = dtype,\n",
        "                        infer_datetime_format = True)\n",
        "\n",
        "# Set Date column as index\n",
        "#series_df = (series_df.set_index(['DATE']).sort_index(ascending = True))"
      ],
      "metadata": {
        "id": "lmcg8JceS3BB"
      },
      "execution_count": 212,
      "outputs": []
    },
    {
      "cell_type": "code",
      "source": [
        "print(series_df.shape)\n",
        "series_df.head()"
      ],
      "metadata": {
        "colab": {
          "base_uri": "https://localhost:8080/",
          "height": 224
        },
        "id": "tEjx5OBb7Mzx",
        "outputId": "1e8feeb8-ee51-4724-8dad-2c26caf6887b"
      },
      "execution_count": 19,
      "outputs": [
        {
          "output_type": "stream",
          "name": "stdout",
          "text": [
            "(2686, 3)\n"
          ]
        },
        {
          "output_type": "execute_result",
          "data": {
            "text/plain": [
              "  CATEGORY       DATE  UNITS_SOLD\n",
              "0  CATEG-1 2021-08-17          59\n",
              "1  CATEG-1 2020-09-19          40\n",
              "2  CATEG-2 2021-10-26          23\n",
              "3  CATEG-1 2021-04-27          60\n",
              "4  CATEG-2 2021-05-05          61"
            ],
            "text/html": [
              "\n",
              "  <div id=\"df-f35933fa-32b2-4324-8b1c-5050783001c6\">\n",
              "    <div class=\"colab-df-container\">\n",
              "      <div>\n",
              "<style scoped>\n",
              "    .dataframe tbody tr th:only-of-type {\n",
              "        vertical-align: middle;\n",
              "    }\n",
              "\n",
              "    .dataframe tbody tr th {\n",
              "        vertical-align: top;\n",
              "    }\n",
              "\n",
              "    .dataframe thead th {\n",
              "        text-align: right;\n",
              "    }\n",
              "</style>\n",
              "<table border=\"1\" class=\"dataframe\">\n",
              "  <thead>\n",
              "    <tr style=\"text-align: right;\">\n",
              "      <th></th>\n",
              "      <th>CATEGORY</th>\n",
              "      <th>DATE</th>\n",
              "      <th>UNITS_SOLD</th>\n",
              "    </tr>\n",
              "  </thead>\n",
              "  <tbody>\n",
              "    <tr>\n",
              "      <th>0</th>\n",
              "      <td>CATEG-1</td>\n",
              "      <td>2021-08-17</td>\n",
              "      <td>59</td>\n",
              "    </tr>\n",
              "    <tr>\n",
              "      <th>1</th>\n",
              "      <td>CATEG-1</td>\n",
              "      <td>2020-09-19</td>\n",
              "      <td>40</td>\n",
              "    </tr>\n",
              "    <tr>\n",
              "      <th>2</th>\n",
              "      <td>CATEG-2</td>\n",
              "      <td>2021-10-26</td>\n",
              "      <td>23</td>\n",
              "    </tr>\n",
              "    <tr>\n",
              "      <th>3</th>\n",
              "      <td>CATEG-1</td>\n",
              "      <td>2021-04-27</td>\n",
              "      <td>60</td>\n",
              "    </tr>\n",
              "    <tr>\n",
              "      <th>4</th>\n",
              "      <td>CATEG-2</td>\n",
              "      <td>2021-05-05</td>\n",
              "      <td>61</td>\n",
              "    </tr>\n",
              "  </tbody>\n",
              "</table>\n",
              "</div>\n",
              "      <button class=\"colab-df-convert\" onclick=\"convertToInteractive('df-f35933fa-32b2-4324-8b1c-5050783001c6')\"\n",
              "              title=\"Convert this dataframe to an interactive table.\"\n",
              "              style=\"display:none;\">\n",
              "        \n",
              "  <svg xmlns=\"http://www.w3.org/2000/svg\" height=\"24px\"viewBox=\"0 0 24 24\"\n",
              "       width=\"24px\">\n",
              "    <path d=\"M0 0h24v24H0V0z\" fill=\"none\"/>\n",
              "    <path d=\"M18.56 5.44l.94 2.06.94-2.06 2.06-.94-2.06-.94-.94-2.06-.94 2.06-2.06.94zm-11 1L8.5 8.5l.94-2.06 2.06-.94-2.06-.94L8.5 2.5l-.94 2.06-2.06.94zm10 10l.94 2.06.94-2.06 2.06-.94-2.06-.94-.94-2.06-.94 2.06-2.06.94z\"/><path d=\"M17.41 7.96l-1.37-1.37c-.4-.4-.92-.59-1.43-.59-.52 0-1.04.2-1.43.59L10.3 9.45l-7.72 7.72c-.78.78-.78 2.05 0 2.83L4 21.41c.39.39.9.59 1.41.59.51 0 1.02-.2 1.41-.59l7.78-7.78 2.81-2.81c.8-.78.8-2.07 0-2.86zM5.41 20L4 18.59l7.72-7.72 1.47 1.35L5.41 20z\"/>\n",
              "  </svg>\n",
              "      </button>\n",
              "      \n",
              "  <style>\n",
              "    .colab-df-container {\n",
              "      display:flex;\n",
              "      flex-wrap:wrap;\n",
              "      gap: 12px;\n",
              "    }\n",
              "\n",
              "    .colab-df-convert {\n",
              "      background-color: #E8F0FE;\n",
              "      border: none;\n",
              "      border-radius: 50%;\n",
              "      cursor: pointer;\n",
              "      display: none;\n",
              "      fill: #1967D2;\n",
              "      height: 32px;\n",
              "      padding: 0 0 0 0;\n",
              "      width: 32px;\n",
              "    }\n",
              "\n",
              "    .colab-df-convert:hover {\n",
              "      background-color: #E2EBFA;\n",
              "      box-shadow: 0px 1px 2px rgba(60, 64, 67, 0.3), 0px 1px 3px 1px rgba(60, 64, 67, 0.15);\n",
              "      fill: #174EA6;\n",
              "    }\n",
              "\n",
              "    [theme=dark] .colab-df-convert {\n",
              "      background-color: #3B4455;\n",
              "      fill: #D2E3FC;\n",
              "    }\n",
              "\n",
              "    [theme=dark] .colab-df-convert:hover {\n",
              "      background-color: #434B5C;\n",
              "      box-shadow: 0px 1px 3px 1px rgba(0, 0, 0, 0.15);\n",
              "      filter: drop-shadow(0px 1px 2px rgba(0, 0, 0, 0.3));\n",
              "      fill: #FFFFFF;\n",
              "    }\n",
              "  </style>\n",
              "\n",
              "      <script>\n",
              "        const buttonEl =\n",
              "          document.querySelector('#df-f35933fa-32b2-4324-8b1c-5050783001c6 button.colab-df-convert');\n",
              "        buttonEl.style.display =\n",
              "          google.colab.kernel.accessAllowed ? 'block' : 'none';\n",
              "\n",
              "        async function convertToInteractive(key) {\n",
              "          const element = document.querySelector('#df-f35933fa-32b2-4324-8b1c-5050783001c6');\n",
              "          const dataTable =\n",
              "            await google.colab.kernel.invokeFunction('convertToInteractive',\n",
              "                                                     [key], {});\n",
              "          if (!dataTable) return;\n",
              "\n",
              "          const docLinkHtml = 'Like what you see? Visit the ' +\n",
              "            '<a target=\"_blank\" href=https://colab.research.google.com/notebooks/data_table.ipynb>data table notebook</a>'\n",
              "            + ' to learn more about interactive tables.';\n",
              "          element.innerHTML = '';\n",
              "          dataTable['output_type'] = 'display_data';\n",
              "          await google.colab.output.renderOutput(dataTable, element);\n",
              "          const docLink = document.createElement('div');\n",
              "          docLink.innerHTML = docLinkHtml;\n",
              "          element.appendChild(docLink);\n",
              "        }\n",
              "      </script>\n",
              "    </div>\n",
              "  </div>\n",
              "  "
            ]
          },
          "metadata": {},
          "execution_count": 19
        }
      ]
    },
    {
      "cell_type": "code",
      "source": [
        "min_date = series_df.DATE.min()\n",
        "max_date = series_df.DATE.max()\n",
        "\n",
        "print(min_date)\n",
        "print(max_date)"
      ],
      "metadata": {
        "colab": {
          "base_uri": "https://localhost:8080/"
        },
        "id": "uyt2ryS_-9k_",
        "outputId": "667d86ff-7abd-42f7-b87b-5813e40f5a01"
      },
      "execution_count": 213,
      "outputs": [
        {
          "output_type": "stream",
          "name": "stdout",
          "text": [
            "2018-09-24 00:00:00\n",
            "2021-11-12 00:00:00\n"
          ]
        }
      ]
    },
    {
      "cell_type": "markdown",
      "source": [
        "\n",
        "Comprobar si hay fechas faltantes en nuestro dataset\n",
        "\n"
      ],
      "metadata": {
        "id": "odKPCXZQqWGM"
      }
    },
    {
      "cell_type": "code",
      "source": [
        "num_days = ((max_date + pd.Timedelta(days = 1)) - min_date)/pd.Timedelta(days = 1) \n",
        "actual = len(series_df.DATE.unique())\n",
        "\n",
        "print(f\"Days from {min_date} to {min_date}: {num_days}\")\n",
        "print(f\"Days actually present in our dataset: {actual}\")"
      ],
      "metadata": {
        "colab": {
          "base_uri": "https://localhost:8080/"
        },
        "id": "yTEJSf2ZdpDf",
        "outputId": "8ba4fe89-7c1b-43ef-fd27-5e878a5449d6"
      },
      "execution_count": 22,
      "outputs": [
        {
          "output_type": "stream",
          "name": "stdout",
          "text": [
            "Days from 2018-09-24 00:00:00 to 2018-09-24 00:00:00: 1146.0\n",
            "Days actually present in our dataset: 921\n"
          ]
        }
      ]
    },
    {
      "cell_type": "markdown",
      "source": [
        "Hay 225 dias del periodo para los cuales no tenemos registros en ninguna de las categorias."
      ],
      "metadata": {
        "id": "Sbg35UJ4Cmp6"
      }
    },
    {
      "cell_type": "markdown",
      "source": [
        "Inspeccionemos ahora las categorias..."
      ],
      "metadata": {
        "id": "TqGPaiI5DFq_"
      }
    },
    {
      "cell_type": "code",
      "source": [
        "series_df[['CATEGORY', 'DATE']].groupby('CATEGORY').count()"
      ],
      "metadata": {
        "colab": {
          "base_uri": "https://localhost:8080/",
          "height": 175
        },
        "id": "58xEHSBiDMDl",
        "outputId": "d7b5e547-d465-4219-c108-74eacabcb859"
      },
      "execution_count": 24,
      "outputs": [
        {
          "output_type": "execute_result",
          "data": {
            "text/plain": [
              "          DATE\n",
              "CATEGORY      \n",
              "CATEG-1    887\n",
              "CATEG-2    879\n",
              "CATEG-3    920"
            ],
            "text/html": [
              "\n",
              "  <div id=\"df-5fb6a9cb-6c3f-4dcf-8910-f83679bcf77a\">\n",
              "    <div class=\"colab-df-container\">\n",
              "      <div>\n",
              "<style scoped>\n",
              "    .dataframe tbody tr th:only-of-type {\n",
              "        vertical-align: middle;\n",
              "    }\n",
              "\n",
              "    .dataframe tbody tr th {\n",
              "        vertical-align: top;\n",
              "    }\n",
              "\n",
              "    .dataframe thead th {\n",
              "        text-align: right;\n",
              "    }\n",
              "</style>\n",
              "<table border=\"1\" class=\"dataframe\">\n",
              "  <thead>\n",
              "    <tr style=\"text-align: right;\">\n",
              "      <th></th>\n",
              "      <th>DATE</th>\n",
              "    </tr>\n",
              "    <tr>\n",
              "      <th>CATEGORY</th>\n",
              "      <th></th>\n",
              "    </tr>\n",
              "  </thead>\n",
              "  <tbody>\n",
              "    <tr>\n",
              "      <th>CATEG-1</th>\n",
              "      <td>887</td>\n",
              "    </tr>\n",
              "    <tr>\n",
              "      <th>CATEG-2</th>\n",
              "      <td>879</td>\n",
              "    </tr>\n",
              "    <tr>\n",
              "      <th>CATEG-3</th>\n",
              "      <td>920</td>\n",
              "    </tr>\n",
              "  </tbody>\n",
              "</table>\n",
              "</div>\n",
              "      <button class=\"colab-df-convert\" onclick=\"convertToInteractive('df-5fb6a9cb-6c3f-4dcf-8910-f83679bcf77a')\"\n",
              "              title=\"Convert this dataframe to an interactive table.\"\n",
              "              style=\"display:none;\">\n",
              "        \n",
              "  <svg xmlns=\"http://www.w3.org/2000/svg\" height=\"24px\"viewBox=\"0 0 24 24\"\n",
              "       width=\"24px\">\n",
              "    <path d=\"M0 0h24v24H0V0z\" fill=\"none\"/>\n",
              "    <path d=\"M18.56 5.44l.94 2.06.94-2.06 2.06-.94-2.06-.94-.94-2.06-.94 2.06-2.06.94zm-11 1L8.5 8.5l.94-2.06 2.06-.94-2.06-.94L8.5 2.5l-.94 2.06-2.06.94zm10 10l.94 2.06.94-2.06 2.06-.94-2.06-.94-.94-2.06-.94 2.06-2.06.94z\"/><path d=\"M17.41 7.96l-1.37-1.37c-.4-.4-.92-.59-1.43-.59-.52 0-1.04.2-1.43.59L10.3 9.45l-7.72 7.72c-.78.78-.78 2.05 0 2.83L4 21.41c.39.39.9.59 1.41.59.51 0 1.02-.2 1.41-.59l7.78-7.78 2.81-2.81c.8-.78.8-2.07 0-2.86zM5.41 20L4 18.59l7.72-7.72 1.47 1.35L5.41 20z\"/>\n",
              "  </svg>\n",
              "      </button>\n",
              "      \n",
              "  <style>\n",
              "    .colab-df-container {\n",
              "      display:flex;\n",
              "      flex-wrap:wrap;\n",
              "      gap: 12px;\n",
              "    }\n",
              "\n",
              "    .colab-df-convert {\n",
              "      background-color: #E8F0FE;\n",
              "      border: none;\n",
              "      border-radius: 50%;\n",
              "      cursor: pointer;\n",
              "      display: none;\n",
              "      fill: #1967D2;\n",
              "      height: 32px;\n",
              "      padding: 0 0 0 0;\n",
              "      width: 32px;\n",
              "    }\n",
              "\n",
              "    .colab-df-convert:hover {\n",
              "      background-color: #E2EBFA;\n",
              "      box-shadow: 0px 1px 2px rgba(60, 64, 67, 0.3), 0px 1px 3px 1px rgba(60, 64, 67, 0.15);\n",
              "      fill: #174EA6;\n",
              "    }\n",
              "\n",
              "    [theme=dark] .colab-df-convert {\n",
              "      background-color: #3B4455;\n",
              "      fill: #D2E3FC;\n",
              "    }\n",
              "\n",
              "    [theme=dark] .colab-df-convert:hover {\n",
              "      background-color: #434B5C;\n",
              "      box-shadow: 0px 1px 3px 1px rgba(0, 0, 0, 0.15);\n",
              "      filter: drop-shadow(0px 1px 2px rgba(0, 0, 0, 0.3));\n",
              "      fill: #FFFFFF;\n",
              "    }\n",
              "  </style>\n",
              "\n",
              "      <script>\n",
              "        const buttonEl =\n",
              "          document.querySelector('#df-5fb6a9cb-6c3f-4dcf-8910-f83679bcf77a button.colab-df-convert');\n",
              "        buttonEl.style.display =\n",
              "          google.colab.kernel.accessAllowed ? 'block' : 'none';\n",
              "\n",
              "        async function convertToInteractive(key) {\n",
              "          const element = document.querySelector('#df-5fb6a9cb-6c3f-4dcf-8910-f83679bcf77a');\n",
              "          const dataTable =\n",
              "            await google.colab.kernel.invokeFunction('convertToInteractive',\n",
              "                                                     [key], {});\n",
              "          if (!dataTable) return;\n",
              "\n",
              "          const docLinkHtml = 'Like what you see? Visit the ' +\n",
              "            '<a target=\"_blank\" href=https://colab.research.google.com/notebooks/data_table.ipynb>data table notebook</a>'\n",
              "            + ' to learn more about interactive tables.';\n",
              "          element.innerHTML = '';\n",
              "          dataTable['output_type'] = 'display_data';\n",
              "          await google.colab.output.renderOutput(dataTable, element);\n",
              "          const docLink = document.createElement('div');\n",
              "          docLink.innerHTML = docLinkHtml;\n",
              "          element.appendChild(docLink);\n",
              "        }\n",
              "      </script>\n",
              "    </div>\n",
              "  </div>\n",
              "  "
            ]
          },
          "metadata": {},
          "execution_count": 24
        }
      ]
    },
    {
      "cell_type": "markdown",
      "source": [
        "Faltan registros de al menos una categoria en varias fechas de las presentes en nuestro dataset."
      ],
      "metadata": {
        "id": "fRostfSlDj9h"
      }
    },
    {
      "cell_type": "markdown",
      "source": [
        "## Feature Engineering"
      ],
      "metadata": {
        "id": "qRQRJnvvD-Y5"
      }
    },
    {
      "cell_type": "markdown",
      "source": [
        "Primero creemos nuestro working data frame y setiemos la columna DATE como indice. "
      ],
      "metadata": {
        "id": "4dYqp1iGE9TW"
      }
    },
    {
      "cell_type": "code",
      "source": [
        "working_df = series_df.copy()\n",
        "working_df = working_df.set_index('DATE').sort_index(ascending = True)\n",
        "working_df.head()"
      ],
      "metadata": {
        "colab": {
          "base_uri": "https://localhost:8080/",
          "height": 238
        },
        "id": "BvJzBAQFFYhn",
        "outputId": "7506deb3-5562-49fc-bc59-fcaff11da068"
      },
      "execution_count": 214,
      "outputs": [
        {
          "output_type": "execute_result",
          "data": {
            "text/plain": [
              "           CATEGORY  UNITS_SOLD\n",
              "DATE                           \n",
              "2018-09-24  CATEG-3           0\n",
              "2018-09-25  CATEG-3           0\n",
              "2018-09-27  CATEG-3           0\n",
              "2018-09-28  CATEG-3           2\n",
              "2018-09-29  CATEG-3           1"
            ],
            "text/html": [
              "\n",
              "  <div id=\"df-ec706638-8943-4bbe-8727-e65e439c5a19\">\n",
              "    <div class=\"colab-df-container\">\n",
              "      <div>\n",
              "<style scoped>\n",
              "    .dataframe tbody tr th:only-of-type {\n",
              "        vertical-align: middle;\n",
              "    }\n",
              "\n",
              "    .dataframe tbody tr th {\n",
              "        vertical-align: top;\n",
              "    }\n",
              "\n",
              "    .dataframe thead th {\n",
              "        text-align: right;\n",
              "    }\n",
              "</style>\n",
              "<table border=\"1\" class=\"dataframe\">\n",
              "  <thead>\n",
              "    <tr style=\"text-align: right;\">\n",
              "      <th></th>\n",
              "      <th>CATEGORY</th>\n",
              "      <th>UNITS_SOLD</th>\n",
              "    </tr>\n",
              "    <tr>\n",
              "      <th>DATE</th>\n",
              "      <th></th>\n",
              "      <th></th>\n",
              "    </tr>\n",
              "  </thead>\n",
              "  <tbody>\n",
              "    <tr>\n",
              "      <th>2018-09-24</th>\n",
              "      <td>CATEG-3</td>\n",
              "      <td>0</td>\n",
              "    </tr>\n",
              "    <tr>\n",
              "      <th>2018-09-25</th>\n",
              "      <td>CATEG-3</td>\n",
              "      <td>0</td>\n",
              "    </tr>\n",
              "    <tr>\n",
              "      <th>2018-09-27</th>\n",
              "      <td>CATEG-3</td>\n",
              "      <td>0</td>\n",
              "    </tr>\n",
              "    <tr>\n",
              "      <th>2018-09-28</th>\n",
              "      <td>CATEG-3</td>\n",
              "      <td>2</td>\n",
              "    </tr>\n",
              "    <tr>\n",
              "      <th>2018-09-29</th>\n",
              "      <td>CATEG-3</td>\n",
              "      <td>1</td>\n",
              "    </tr>\n",
              "  </tbody>\n",
              "</table>\n",
              "</div>\n",
              "      <button class=\"colab-df-convert\" onclick=\"convertToInteractive('df-ec706638-8943-4bbe-8727-e65e439c5a19')\"\n",
              "              title=\"Convert this dataframe to an interactive table.\"\n",
              "              style=\"display:none;\">\n",
              "        \n",
              "  <svg xmlns=\"http://www.w3.org/2000/svg\" height=\"24px\"viewBox=\"0 0 24 24\"\n",
              "       width=\"24px\">\n",
              "    <path d=\"M0 0h24v24H0V0z\" fill=\"none\"/>\n",
              "    <path d=\"M18.56 5.44l.94 2.06.94-2.06 2.06-.94-2.06-.94-.94-2.06-.94 2.06-2.06.94zm-11 1L8.5 8.5l.94-2.06 2.06-.94-2.06-.94L8.5 2.5l-.94 2.06-2.06.94zm10 10l.94 2.06.94-2.06 2.06-.94-2.06-.94-.94-2.06-.94 2.06-2.06.94z\"/><path d=\"M17.41 7.96l-1.37-1.37c-.4-.4-.92-.59-1.43-.59-.52 0-1.04.2-1.43.59L10.3 9.45l-7.72 7.72c-.78.78-.78 2.05 0 2.83L4 21.41c.39.39.9.59 1.41.59.51 0 1.02-.2 1.41-.59l7.78-7.78 2.81-2.81c.8-.78.8-2.07 0-2.86zM5.41 20L4 18.59l7.72-7.72 1.47 1.35L5.41 20z\"/>\n",
              "  </svg>\n",
              "      </button>\n",
              "      \n",
              "  <style>\n",
              "    .colab-df-container {\n",
              "      display:flex;\n",
              "      flex-wrap:wrap;\n",
              "      gap: 12px;\n",
              "    }\n",
              "\n",
              "    .colab-df-convert {\n",
              "      background-color: #E8F0FE;\n",
              "      border: none;\n",
              "      border-radius: 50%;\n",
              "      cursor: pointer;\n",
              "      display: none;\n",
              "      fill: #1967D2;\n",
              "      height: 32px;\n",
              "      padding: 0 0 0 0;\n",
              "      width: 32px;\n",
              "    }\n",
              "\n",
              "    .colab-df-convert:hover {\n",
              "      background-color: #E2EBFA;\n",
              "      box-shadow: 0px 1px 2px rgba(60, 64, 67, 0.3), 0px 1px 3px 1px rgba(60, 64, 67, 0.15);\n",
              "      fill: #174EA6;\n",
              "    }\n",
              "\n",
              "    [theme=dark] .colab-df-convert {\n",
              "      background-color: #3B4455;\n",
              "      fill: #D2E3FC;\n",
              "    }\n",
              "\n",
              "    [theme=dark] .colab-df-convert:hover {\n",
              "      background-color: #434B5C;\n",
              "      box-shadow: 0px 1px 3px 1px rgba(0, 0, 0, 0.15);\n",
              "      filter: drop-shadow(0px 1px 2px rgba(0, 0, 0, 0.3));\n",
              "      fill: #FFFFFF;\n",
              "    }\n",
              "  </style>\n",
              "\n",
              "      <script>\n",
              "        const buttonEl =\n",
              "          document.querySelector('#df-ec706638-8943-4bbe-8727-e65e439c5a19 button.colab-df-convert');\n",
              "        buttonEl.style.display =\n",
              "          google.colab.kernel.accessAllowed ? 'block' : 'none';\n",
              "\n",
              "        async function convertToInteractive(key) {\n",
              "          const element = document.querySelector('#df-ec706638-8943-4bbe-8727-e65e439c5a19');\n",
              "          const dataTable =\n",
              "            await google.colab.kernel.invokeFunction('convertToInteractive',\n",
              "                                                     [key], {});\n",
              "          if (!dataTable) return;\n",
              "\n",
              "          const docLinkHtml = 'Like what you see? Visit the ' +\n",
              "            '<a target=\"_blank\" href=https://colab.research.google.com/notebooks/data_table.ipynb>data table notebook</a>'\n",
              "            + ' to learn more about interactive tables.';\n",
              "          element.innerHTML = '';\n",
              "          dataTable['output_type'] = 'display_data';\n",
              "          await google.colab.output.renderOutput(dataTable, element);\n",
              "          const docLink = document.createElement('div');\n",
              "          docLink.innerHTML = docLinkHtml;\n",
              "          element.appendChild(docLink);\n",
              "        }\n",
              "      </script>\n",
              "    </div>\n",
              "  </div>\n",
              "  "
            ]
          },
          "metadata": {},
          "execution_count": 214
        }
      ]
    },
    {
      "cell_type": "markdown",
      "source": [
        "### Time-dependent variables"
      ],
      "metadata": {
        "id": "N-pCJh-IkVV-"
      }
    },
    {
      "cell_type": "markdown",
      "source": [
        "Crear una feature 'time dummy' que nos permitira comenzar a explorar la dependencia temporal presente en  nuestra serie."
      ],
      "metadata": {
        "id": "O0xCRmEB4m7X"
      }
    },
    {
      "cell_type": "code",
      "source": [
        "index = pd.date_range(start= min_date, end=max_date)\n",
        "data = range(len(index))\n",
        "aux = pd.DataFrame(data = data, index = index, columns=['Time'])\n",
        "\n",
        "# Create Time column with daily frequency\n",
        "working_df['Time'] = aux[aux.index.isin(working_df.index)].Time\n",
        "working_df['Time']"
      ],
      "metadata": {
        "colab": {
          "base_uri": "https://localhost:8080/"
        },
        "id": "d6UFG43VVqLA",
        "outputId": "f808abd2-6633-4ae0-a1be-8eb8cf16b729"
      },
      "execution_count": 215,
      "outputs": [
        {
          "output_type": "execute_result",
          "data": {
            "text/plain": [
              "DATE\n",
              "2018-09-24       0\n",
              "2018-09-25       1\n",
              "2018-09-27       3\n",
              "2018-09-28       4\n",
              "2018-09-29       5\n",
              "              ... \n",
              "2021-11-11    1144\n",
              "2021-11-11    1144\n",
              "2021-11-12    1145\n",
              "2021-11-12    1145\n",
              "2021-11-12    1145\n",
              "Name: Time, Length: 2686, dtype: int64"
            ]
          },
          "metadata": {},
          "execution_count": 215
        }
      ]
    },
    {
      "cell_type": "markdown",
      "source": [
        "Graficar nuestra serie temporal"
      ],
      "metadata": {
        "id": "mEPxp5nv-1wp"
      }
    },
    {
      "cell_type": "code",
      "source": [
        "sns.regplot(x='Time', y='UNITS_SOLD', data=working_df, ci=None, scatter_kws=dict(color='0.25'))"
      ],
      "metadata": {
        "colab": {
          "base_uri": "https://localhost:8080/",
          "height": 296
        },
        "id": "qo9PHYtQ-CeO",
        "outputId": "ffaca16c-fa6a-40d0-dd91-2e5fb498fc81"
      },
      "execution_count": 37,
      "outputs": [
        {
          "output_type": "execute_result",
          "data": {
            "text/plain": [
              "<matplotlib.axes._subplots.AxesSubplot at 0x7f5de753dc10>"
            ]
          },
          "metadata": {},
          "execution_count": 37
        },
        {
          "output_type": "display_data",
          "data": {
            "text/plain": [
              "<Figure size 432x288 with 1 Axes>"
            ],
            "image/png": "[encoded data removed]"
          },
          "metadata": {
            "needs_background": "light"
          }
        }
      ]
    },
    {
      "cell_type": "markdown",
      "source": [
        "En la grafica anterior podemos apreciar que hay cierta coincidencia (o zolapamiento) en las tendencias de dos de las categorias, pero la otra parece diferir --tanto en volumenes de ventas como en tendencias.\n",
        "\n",
        "Exploremos un poco mas..."
      ],
      "metadata": {
        "id": "yhg-DGdr-PYA"
      }
    },
    {
      "cell_type": "code",
      "source": [
        "fig, axs = plt.subplots(2,2, figsize=(14,7))\n",
        "\n",
        "# Complete TS (All categories)\n",
        "axs[0,0].plot(working_df.Time, working_df.UNITS_SOLD)\n",
        "axs[0, 0].set_title(\"ALL\")\n",
        "\n",
        "# Category 1 \n",
        "axs[0,1].plot(working_df[working_df.CATEGORY == 'CATEG-1'].Time, working_df[working_df.CATEGORY == 'CATEG-1'].UNITS_SOLD)\n",
        "axs[0, 1].set_title(\"CATEG-1\")\n",
        "\n",
        "# Category 2 \n",
        "axs[1,0].plot(working_df[working_df.CATEGORY == 'CATEG-2'].Time, working_df[working_df.CATEGORY == 'CATEG-2'].UNITS_SOLD)\n",
        "axs[1, 0].set_title(\"CATEG-2\")\n",
        "\n",
        "# Category 3\n",
        "axs[1,1].plot(working_df[working_df.CATEGORY == 'CATEG-3'].Time, working_df[working_df.CATEGORY == 'CATEG-3'].UNITS_SOLD)\n",
        "axs[1, 1].set_title(\"CATEG-3\")\n",
        "\n",
        "plt.show()"
      ],
      "metadata": {
        "colab": {
          "base_uri": "https://localhost:8080/",
          "height": 444
        },
        "id": "XgyKX9v--0yH",
        "outputId": "f50cc39b-d51c-431a-f5ed-4b75453219cd"
      },
      "execution_count": 216,
      "outputs": [
        {
          "output_type": "display_data",
          "data": {
            "text/plain": [
              "<Figure size 1008x504 with 4 Axes>"
            ],
            "image/png": "[encoded data removed]"
          },
          "metadata": {
            "needs_background": "light"
          }
        }
      ]
    },
    {
      "cell_type": "code",
      "source": [
        "for d in range(0,1201,200):\n",
        "  print(d, min_date + pd.Timedelta(days = d))"
      ],
      "metadata": {
        "colab": {
          "base_uri": "https://localhost:8080/"
        },
        "id": "T2aLvOa-Hji4",
        "outputId": "76070f68-9049-4032-81ce-7bc9005a7c10"
      },
      "execution_count": 42,
      "outputs": [
        {
          "output_type": "stream",
          "name": "stdout",
          "text": [
            "0 2018-09-24 00:00:00\n",
            "200 2019-04-12 00:00:00\n",
            "400 2019-10-29 00:00:00\n",
            "600 2020-05-16 00:00:00\n",
            "800 2020-12-02 00:00:00\n",
            "1000 2021-06-20 00:00:00\n",
            "1200 2022-01-06 00:00:00\n"
          ]
        }
      ]
    },
    {
      "cell_type": "markdown",
      "source": [
        "Como se preveia, las categorias 1 y 3 muestran muchas similitudes: \n",
        "- tendencias al alza respecto a septiembre de 2019\n",
        "- picos de ventas en los periodos de mayo-junio y noviembre-diciembre\n",
        "(Sin embargo difieren en la cantidad de productos vendidos, siendo la categoria 3 muy superior en este apartado.)\n",
        "\n",
        "La categoria 2, por su parte, muestra una tendencia mas estable a lo largo de todo el periodo. Tambien muestra picos elevados en las ventas alrededor de mayo de 2020 y de 2021 (asi como otro mucho mas pequenho cerca de diciembre de 2020)\n",
        "\n",
        "INSIGHT: Los picos en mayo-junio y noviembre-diciembre una posible informacion de seasonality, la cual podria capturarse con variables para representar los meses, por ejemplo. \n",
        "Asi mismo, debemos explorar si el uso de una variable tipo hot encoding para CATEGORY puede capturar la informacion de las diferencias entre categorias o si, en cambio, es mejor entrenar un modelo para cada categoria."
      ],
      "metadata": {
        "id": "lqLdEUSZJEfM"
      }
    },
    {
      "cell_type": "markdown",
      "source": [
        "Descomponer DATE en distintas features con potencia informacion de seasonality"
      ],
      "metadata": {
        "id": "FEEsI91wP_3h"
      }
    },
    {
      "cell_type": "code",
      "source": [
        "working_df['YEAR'] = working_df.index.year.astype('category')\n",
        "working_df['MONTH'] = working_df.index.month.astype('category')\n",
        "working_df['DAY_IN_WEEK'] = working_df.index.weekday\n",
        "\n",
        "# see new features\n",
        "working_df"
      ],
      "metadata": {
        "colab": {
          "base_uri": "https://localhost:8080/",
          "height": 455
        },
        "id": "U7vOLwpWTWf-",
        "outputId": "3df15295-dd4d-4011-d84f-5c86d039c31e"
      },
      "execution_count": 217,
      "outputs": [
        {
          "output_type": "execute_result",
          "data": {
            "text/plain": [
              "           CATEGORY  UNITS_SOLD  Time  YEAR MONTH  DAY_IN_WEEK\n",
              "DATE                                                          \n",
              "2018-09-24  CATEG-3           0     0  2018     9            0\n",
              "2018-09-25  CATEG-3           0     1  2018     9            1\n",
              "2018-09-27  CATEG-3           0     3  2018     9            3\n",
              "2018-09-28  CATEG-3           2     4  2018     9            4\n",
              "2018-09-29  CATEG-3           1     5  2018     9            5\n",
              "...             ...         ...   ...   ...   ...          ...\n",
              "2021-11-11  CATEG-3        6294  1144  2021    11            3\n",
              "2021-11-11  CATEG-1         194  1144  2021    11            3\n",
              "2021-11-12  CATEG-1         146  1145  2021    11            4\n",
              "2021-11-12  CATEG-2          12  1145  2021    11            4\n",
              "2021-11-12  CATEG-3        3829  1145  2021    11            4\n",
              "\n",
              "[2686 rows x 6 columns]"
            ],
            "text/html": [
              "\n",
              "  <div id=\"df-23eea4b0-8a9f-4536-9410-76b311508fda\">\n",
              "    <div class=\"colab-df-container\">\n",
              "      <div>\n",
              "<style scoped>\n",
              "    .dataframe tbody tr th:only-of-type {\n",
              "        vertical-align: middle;\n",
              "    }\n",
              "\n",
              "    .dataframe tbody tr th {\n",
              "        vertical-align: top;\n",
              "    }\n",
              "\n",
              "    .dataframe thead th {\n",
              "        text-align: right;\n",
              "    }\n",
              "</style>\n",
              "<table border=\"1\" class=\"dataframe\">\n",
              "  <thead>\n",
              "    <tr style=\"text-align: right;\">\n",
              "      <th></th>\n",
              "      <th>CATEGORY</th>\n",
              "      <th>UNITS_SOLD</th>\n",
              "      <th>Time</th>\n",
              "      <th>YEAR</th>\n",
              "      <th>MONTH</th>\n",
              "      <th>DAY_IN_WEEK</th>\n",
              "    </tr>\n",
              "    <tr>\n",
              "      <th>DATE</th>\n",
              "      <th></th>\n",
              "      <th></th>\n",
              "      <th></th>\n",
              "      <th></th>\n",
              "      <th></th>\n",
              "      <th></th>\n",
              "    </tr>\n",
              "  </thead>\n",
              "  <tbody>\n",
              "    <tr>\n",
              "      <th>2018-09-24</th>\n",
              "      <td>CATEG-3</td>\n",
              "      <td>0</td>\n",
              "      <td>0</td>\n",
              "      <td>2018</td>\n",
              "      <td>9</td>\n",
              "      <td>0</td>\n",
              "    </tr>\n",
              "    <tr>\n",
              "      <th>2018-09-25</th>\n",
              "      <td>CATEG-3</td>\n",
              "      <td>0</td>\n",
              "      <td>1</td>\n",
              "      <td>2018</td>\n",
              "      <td>9</td>\n",
              "      <td>1</td>\n",
              "    </tr>\n",
              "    <tr>\n",
              "      <th>2018-09-27</th>\n",
              "      <td>CATEG-3</td>\n",
              "      <td>0</td>\n",
              "      <td>3</td>\n",
              "      <td>2018</td>\n",
              "      <td>9</td>\n",
              "      <td>3</td>\n",
              "    </tr>\n",
              "    <tr>\n",
              "      <th>2018-09-28</th>\n",
              "      <td>CATEG-3</td>\n",
              "      <td>2</td>\n",
              "      <td>4</td>\n",
              "      <td>2018</td>\n",
              "      <td>9</td>\n",
              "      <td>4</td>\n",
              "    </tr>\n",
              "    <tr>\n",
              "      <th>2018-09-29</th>\n",
              "      <td>CATEG-3</td>\n",
              "      <td>1</td>\n",
              "      <td>5</td>\n",
              "      <td>2018</td>\n",
              "      <td>9</td>\n",
              "      <td>5</td>\n",
              "    </tr>\n",
              "    <tr>\n",
              "      <th>...</th>\n",
              "      <td>...</td>\n",
              "      <td>...</td>\n",
              "      <td>...</td>\n",
              "      <td>...</td>\n",
              "      <td>...</td>\n",
              "      <td>...</td>\n",
              "    </tr>\n",
              "    <tr>\n",
              "      <th>2021-11-11</th>\n",
              "      <td>CATEG-3</td>\n",
              "      <td>6294</td>\n",
              "      <td>1144</td>\n",
              "      <td>2021</td>\n",
              "      <td>11</td>\n",
              "      <td>3</td>\n",
              "    </tr>\n",
              "    <tr>\n",
              "      <th>2021-11-11</th>\n",
              "      <td>CATEG-1</td>\n",
              "      <td>194</td>\n",
              "      <td>1144</td>\n",
              "      <td>2021</td>\n",
              "      <td>11</td>\n",
              "      <td>3</td>\n",
              "    </tr>\n",
              "    <tr>\n",
              "      <th>2021-11-12</th>\n",
              "      <td>CATEG-1</td>\n",
              "      <td>146</td>\n",
              "      <td>1145</td>\n",
              "      <td>2021</td>\n",
              "      <td>11</td>\n",
              "      <td>4</td>\n",
              "    </tr>\n",
              "    <tr>\n",
              "      <th>2021-11-12</th>\n",
              "      <td>CATEG-2</td>\n",
              "      <td>12</td>\n",
              "      <td>1145</td>\n",
              "      <td>2021</td>\n",
              "      <td>11</td>\n",
              "      <td>4</td>\n",
              "    </tr>\n",
              "    <tr>\n",
              "      <th>2021-11-12</th>\n",
              "      <td>CATEG-3</td>\n",
              "      <td>3829</td>\n",
              "      <td>1145</td>\n",
              "      <td>2021</td>\n",
              "      <td>11</td>\n",
              "      <td>4</td>\n",
              "    </tr>\n",
              "  </tbody>\n",
              "</table>\n",
              "<p>2686 rows × 6 columns</p>\n",
              "</div>\n",
              "      <button class=\"colab-df-convert\" onclick=\"convertToInteractive('df-23eea4b0-8a9f-4536-9410-76b311508fda')\"\n",
              "              title=\"Convert this dataframe to an interactive table.\"\n",
              "              style=\"display:none;\">\n",
              "        \n",
              "  <svg xmlns=\"http://www.w3.org/2000/svg\" height=\"24px\"viewBox=\"0 0 24 24\"\n",
              "       width=\"24px\">\n",
              "    <path d=\"M0 0h24v24H0V0z\" fill=\"none\"/>\n",
              "    <path d=\"M18.56 5.44l.94 2.06.94-2.06 2.06-.94-2.06-.94-.94-2.06-.94 2.06-2.06.94zm-11 1L8.5 8.5l.94-2.06 2.06-.94-2.06-.94L8.5 2.5l-.94 2.06-2.06.94zm10 10l.94 2.06.94-2.06 2.06-.94-2.06-.94-.94-2.06-.94 2.06-2.06.94z\"/><path d=\"M17.41 7.96l-1.37-1.37c-.4-.4-.92-.59-1.43-.59-.52 0-1.04.2-1.43.59L10.3 9.45l-7.72 7.72c-.78.78-.78 2.05 0 2.83L4 21.41c.39.39.9.59 1.41.59.51 0 1.02-.2 1.41-.59l7.78-7.78 2.81-2.81c.8-.78.8-2.07 0-2.86zM5.41 20L4 18.59l7.72-7.72 1.47 1.35L5.41 20z\"/>\n",
              "  </svg>\n",
              "      </button>\n",
              "      \n",
              "  <style>\n",
              "    .colab-df-container {\n",
              "      display:flex;\n",
              "      flex-wrap:wrap;\n",
              "      gap: 12px;\n",
              "    }\n",
              "\n",
              "    .colab-df-convert {\n",
              "      background-color: #E8F0FE;\n",
              "      border: none;\n",
              "      border-radius: 50%;\n",
              "      cursor: pointer;\n",
              "      display: none;\n",
              "      fill: #1967D2;\n",
              "      height: 32px;\n",
              "      padding: 0 0 0 0;\n",
              "      width: 32px;\n",
              "    }\n",
              "\n",
              "    .colab-df-convert:hover {\n",
              "      background-color: #E2EBFA;\n",
              "      box-shadow: 0px 1px 2px rgba(60, 64, 67, 0.3), 0px 1px 3px 1px rgba(60, 64, 67, 0.15);\n",
              "      fill: #174EA6;\n",
              "    }\n",
              "\n",
              "    [theme=dark] .colab-df-convert {\n",
              "      background-color: #3B4455;\n",
              "      fill: #D2E3FC;\n",
              "    }\n",
              "\n",
              "    [theme=dark] .colab-df-convert:hover {\n",
              "      background-color: #434B5C;\n",
              "      box-shadow: 0px 1px 3px 1px rgba(0, 0, 0, 0.15);\n",
              "      filter: drop-shadow(0px 1px 2px rgba(0, 0, 0, 0.3));\n",
              "      fill: #FFFFFF;\n",
              "    }\n",
              "  </style>\n",
              "\n",
              "      <script>\n",
              "        const buttonEl =\n",
              "          document.querySelector('#df-23eea4b0-8a9f-4536-9410-76b311508fda button.colab-df-convert');\n",
              "        buttonEl.style.display =\n",
              "          google.colab.kernel.accessAllowed ? 'block' : 'none';\n",
              "\n",
              "        async function convertToInteractive(key) {\n",
              "          const element = document.querySelector('#df-23eea4b0-8a9f-4536-9410-76b311508fda');\n",
              "          const dataTable =\n",
              "            await google.colab.kernel.invokeFunction('convertToInteractive',\n",
              "                                                     [key], {});\n",
              "          if (!dataTable) return;\n",
              "\n",
              "          const docLinkHtml = 'Like what you see? Visit the ' +\n",
              "            '<a target=\"_blank\" href=https://colab.research.google.com/notebooks/data_table.ipynb>data table notebook</a>'\n",
              "            + ' to learn more about interactive tables.';\n",
              "          element.innerHTML = '';\n",
              "          dataTable['output_type'] = 'display_data';\n",
              "          await google.colab.output.renderOutput(dataTable, element);\n",
              "          const docLink = document.createElement('div');\n",
              "          docLink.innerHTML = docLinkHtml;\n",
              "          element.appendChild(docLink);\n",
              "        }\n",
              "      </script>\n",
              "    </div>\n",
              "  </div>\n",
              "  "
            ]
          },
          "metadata": {},
          "execution_count": 217
        }
      ]
    },
    {
      "cell_type": "markdown",
      "source": [
        "Veamos las ventas por anho y mes"
      ],
      "metadata": {
        "id": "OQSZ9r_5eAa8"
      }
    },
    {
      "cell_type": "code",
      "source": [
        "monthly_sales = working_df[['YEAR','MONTH','UNITS_SOLD']].groupby(['YEAR','MONTH']).sum()\n",
        "monthly_sales.plot(grid = True)"
      ],
      "metadata": {
        "colab": {
          "base_uri": "https://localhost:8080/",
          "height": 296
        },
        "id": "moKRP4eAPnQ1",
        "outputId": "dbb10a4f-16ef-4c95-91f5-de023cfb5960"
      },
      "execution_count": 218,
      "outputs": [
        {
          "output_type": "execute_result",
          "data": {
            "text/plain": [
              "<matplotlib.axes._subplots.AxesSubplot at 0x7f5de350c250>"
            ]
          },
          "metadata": {},
          "execution_count": 218
        },
        {
          "output_type": "display_data",
          "data": {
            "text/plain": [
              "<Figure size 432x288 with 1 Axes>"
            ],
            "image/png": "[encoded data removed]"
          },
          "metadata": {
            "needs_background": "light"
          }
        }
      ]
    },
    {
      "cell_type": "markdown",
      "source": [
        "Los picos de ventas alrededor de los meses de mayo y diciembre vuelven a hacerse evidentes en esta grafica."
      ],
      "metadata": {
        "id": "Ocn_CuuvQdNa"
      }
    },
    {
      "cell_type": "markdown",
      "source": [
        "Ahora echemos un vistazo a las ventas por dias de la semana"
      ],
      "metadata": {
        "id": "YwYWpG8cePOy"
      }
    },
    {
      "cell_type": "code",
      "source": [
        "weekly_sales = working_df[['DAY_IN_WEEK','UNITS_SOLD']].groupby(['DAY_IN_WEEK']).mean()\n",
        "weekly_sales.plot(grid = True)"
      ],
      "metadata": {
        "colab": {
          "base_uri": "https://localhost:8080/",
          "height": 297
        },
        "id": "H3zkGdDycUiv",
        "outputId": "ac4c172b-1a1a-440c-f98f-6072157f160a"
      },
      "execution_count": 219,
      "outputs": [
        {
          "output_type": "execute_result",
          "data": {
            "text/plain": [
              "<matplotlib.axes._subplots.AxesSubplot at 0x7f5de33d9090>"
            ]
          },
          "metadata": {},
          "execution_count": 219
        },
        {
          "output_type": "display_data",
          "data": {
            "text/plain": [
              "<Figure size 432x288 with 1 Axes>"
            ],
            "image/png": "[encoded data removed]"
          },
          "metadata": {
            "needs_background": "light"
          }
        }
      ]
    },
    {
      "cell_type": "markdown",
      "source": [
        "Parece haber una tendencia, con las ventas decayendo hacia el final de la semana"
      ],
      "metadata": {
        "id": "lOqaw-Y0edAL"
      }
    },
    {
      "cell_type": "code",
      "source": [
        "def minMaxNormalize(df):\n",
        "  '''\n",
        "  Perform MinMax normalization on numerical columns\n",
        "  '''\n",
        "  return (df-df.min())/(df.max()-df.min())"
      ],
      "metadata": {
        "id": "F4QebLVzj2h1"
      },
      "execution_count": 220,
      "outputs": []
    },
    {
      "cell_type": "code",
      "source": [
        "def trainTestModel(model, X_train, X_test, y_train, y_test):\n",
        "  # Fit model model to train data\n",
        "  model.fit(X_train,y_train)\n",
        "\n",
        "  # Train error \n",
        "  train_pred = model.predict(X_train)   # predictions for train dataset\n",
        "  # use RMSE (real scale results) and normalize it to get 0-1 score\n",
        "  error_train = np.sqrt(mean_squared_error(y_train,train_pred))\n",
        "  \n",
        "  # Test error\n",
        "  test_pred = model.predict(X_test)\n",
        "  error_test = np.sqrt(mean_squared_error(y_test,test_pred))\n",
        "\n",
        "  return error_train, error_test"
      ],
      "metadata": {
        "id": "6ZxWGUQqzput"
      },
      "execution_count": 221,
      "outputs": []
    },
    {
      "cell_type": "code",
      "source": [
        "def plotTrainVSTest(x_data, train_errors, test_errors):\n",
        "  plt.plot(x_data,train_errors)\n",
        "  plt.plot(x_data,test_errors)\n",
        "  plt.title(\"Train vs Test Error\")\n",
        "  plt.xlabel(\"Degree\")\n",
        "  plt.ylabel(\"RMSE\")\n",
        "\n",
        "  plt.show()"
      ],
      "metadata": {
        "id": "vrO8ytItZPMH"
      },
      "execution_count": 222,
      "outputs": []
    },
    {
      "cell_type": "markdown",
      "source": [
        "Utilizar solamente nuestra variable time-step (time dummy 'Time') para entrenar nuestro modelo de Regresion Lineal"
      ],
      "metadata": {
        "id": "ETyR5NLBxWn9"
      }
    },
    {
      "cell_type": "code",
      "source": [
        "X = working_df.iloc[:,2].to_frame()\n",
        "print(type(X))\n",
        "# Scale Time column (values too big compared to the other feature's values)\n",
        "#X_norm = minMaxNormalize(X.to_frame())\n",
        "y = working_df.loc[:,'UNITS_SOLD']\n",
        "\n",
        "# Split data into train and test dataset (75-25)\n",
        "X_train, X_test, y_train, y_test = train_test_split(X, y, test_size=0.25, random_state=42)\n",
        "\n",
        "# Create Linear Regression model\n",
        "lr_model = LinearRegression()\n",
        "\n",
        "error_train, error_test = trainTestModel(lr_model, X_train,X_test,y_train,y_test)\n",
        "# Normalize RMSE to get a 0-1 score\n",
        "error_train = error_train/(y_train.max() - y_train.min())\n",
        "error_test = error_test/(y_test.max() - y_test.min())\n",
        "\n",
        "# Print scores\n",
        "print(f\"Error Train: {error_train:.2f}\")\n",
        "print(f\"Error Test: {error_test:.2f}\")"
      ],
      "metadata": {
        "colab": {
          "base_uri": "https://localhost:8080/"
        },
        "id": "5UQigmJWxcfw",
        "outputId": "ae997ee5-038f-4717-89dd-05621e724d53"
      },
      "execution_count": 223,
      "outputs": [
        {
          "output_type": "stream",
          "name": "stdout",
          "text": [
            "<class 'pandas.core.frame.DataFrame'>\n",
            "Error Train: 0.11\n",
            "Error Test: 0.17\n"
          ]
        }
      ]
    },
    {
      "cell_type": "markdown",
      "source": [
        "Ambos errores son muy altos, lo que indica un problema de Bias (i.e. nuestro modelo de una variable es demasiado simple para captar la distribucion de la ST).  En estos casos, una buena estrategia es agregar features (complejidad) a nuestro modelo.\n",
        "\n",
        "Probemos primero utilizando transformaciones polynomiales de nuestro time dummy."
      ],
      "metadata": {
        "id": "RkwscmGOV2xf"
      }
    },
    {
      "cell_type": "code",
      "source": [
        "from sklearn.preprocessing import PolynomialFeatures\n",
        "# get Time column\n",
        "X = series_df.iloc[:,2].to_frame()\n",
        "train_errors = []\n",
        "test_errors = []\n",
        "degrees = range(2,20,2)\n",
        "for d in degrees:\n",
        "  X_poly = PolynomialFeatures(d).fit_transform(X)\n",
        "  # Scale Time column (exponentiated values would be\n",
        "  # to big compared to Time and other feature's values)\n",
        "  X_norm = minMaxNormalize(X_poly)\n",
        "  \n",
        "  # Split data into train and test dataset (75-25)\n",
        "  X_train, X_test, y_train, y_test = train_test_split(X_poly, y, test_size=0.25, random_state=42)\n",
        "\n",
        "  # Create Linear Regression model\n",
        "  lr_model = LinearRegression()\n",
        "\n",
        "  # Train and test LR model\n",
        "  error_train, error_test = trainTestModel(lr_model, X_train,X_test,y_train,y_test)\n",
        "  # Normalize RMSE to get a 0-1 score\n",
        "  error_train = error_train/(y_train.max() - y_train.min())\n",
        "  error_test = error_test/(y_test.max() - y_test.min())\n",
        "  train_errors.append(round(error_train,3))\n",
        "  test_errors.append(round(error_test,3))\n",
        "\n",
        "print(train_errors)\n",
        "print(test_errors)\n",
        "\n",
        "plotTrainVSTest(degrees, train_errors, test_errors)"
      ],
      "metadata": {
        "colab": {
          "base_uri": "https://localhost:8080/",
          "height": 330
        },
        "id": "kWrfbE0Ayg6k",
        "outputId": "41c6864e-37ac-42b8-a6ff-ca70a178afe5"
      },
      "execution_count": 225,
      "outputs": [
        {
          "output_type": "stream",
          "name": "stdout",
          "text": [
            "[0.11, 0.11, 0.11, 0.11, 0.11, 0.11, 0.11, 0.11, 0.11]\n",
            "[0.181, 0.251, 0.913, 11.34, 141.99, 903.846, 4039.598, 14148.053, 35198.57]\n"
          ]
        },
        {
          "output_type": "display_data",
          "data": {
            "text/plain": [
              "<Figure size 432x288 with 1 Axes>"
            ],
            "image/png": "[encoded data removed]"
          },
          "metadata": {
            "needs_background": "light"
          }
        }
      ]
    },
    {
      "cell_type": "code",
      "source": [
        "(y_test.max() - y_test.min())"
      ],
      "metadata": {
        "colab": {
          "base_uri": "https://localhost:8080/"
        },
        "id": "r1-ut9u2fpNW",
        "outputId": "f301124e-008b-4b03-cf5a-200e0a7dc625"
      },
      "execution_count": 226,
      "outputs": [
        {
          "output_type": "execute_result",
          "data": {
            "text/plain": [
              "4773"
            ]
          },
          "metadata": {},
          "execution_count": 226
        }
      ]
    },
    {
      "cell_type": "markdown",
      "source": [
        "Agregar transformaciones polynomiales de la variable Time, no solo falla al intentar aliviar el problema de Bias (underfitting), sino que ademas agrega un problema de alta varianza (nuestro modelo es cada vez menos capaz de generalizar bien a ejemplos no vistos). Por tanto, desechemos esta variante"
      ],
      "metadata": {
        "id": "EvXXhtp-bwZY"
      }
    },
    {
      "cell_type": "markdown",
      "source": [
        "Intentemos ahora agregar la informacion que portan la variable CATEGORY (diferencia en las ventas de una y otra), asi como MONTH y WEEK (posible seasonality), usando one-hot encoding."
      ],
      "metadata": {
        "id": "nT7s-xB_cppY"
      }
    },
    {
      "cell_type": "code",
      "source": [
        "#working_df = pd.get_dummies(series_df, columns = ['CATEGORY','YEAR','MONTH','DAY_IN_WEEK'])\n",
        "working_df = pd.get_dummies(working_df, columns = ['CATEGORY','MONTH', 'DAY_IN_WEEK'])\n",
        "working_df.columns"
      ],
      "metadata": {
        "colab": {
          "base_uri": "https://localhost:8080/"
        },
        "id": "UH8Pn6EybEDs",
        "outputId": "b33f42be-ba5d-480d-c9cb-92681b829aac"
      },
      "execution_count": 227,
      "outputs": [
        {
          "output_type": "execute_result",
          "data": {
            "text/plain": [
              "Index(['UNITS_SOLD', 'Time', 'YEAR', 'CATEGORY_CATEG-1', 'CATEGORY_CATEG-2',\n",
              "       'CATEGORY_CATEG-3', 'MONTH_1', 'MONTH_2', 'MONTH_3', 'MONTH_4',\n",
              "       'MONTH_5', 'MONTH_6', 'MONTH_7', 'MONTH_8', 'MONTH_9', 'MONTH_10',\n",
              "       'MONTH_11', 'MONTH_12', 'DAY_IN_WEEK_0', 'DAY_IN_WEEK_1',\n",
              "       'DAY_IN_WEEK_2', 'DAY_IN_WEEK_3', 'DAY_IN_WEEK_4', 'DAY_IN_WEEK_5',\n",
              "       'DAY_IN_WEEK_6'],\n",
              "      dtype='object')"
            ]
          },
          "metadata": {},
          "execution_count": 227
        }
      ]
    },
    {
      "cell_type": "markdown",
      "source": [
        "Entrenar nuestro modelo de RL con time dummy + las nuevas features creadas"
      ],
      "metadata": {
        "id": "k8kQ7jZ7w815"
      }
    },
    {
      "cell_type": "code",
      "source": [
        "cat_month_days = working_df[['Time','CATEGORY_CATEG-1','CATEGORY_CATEG-2', 'CATEGORY_CATEG-3',\n",
        "               'MONTH_1', 'MONTH_2', 'MONTH_3', 'MONTH_4', 'MONTH_5', 'MONTH_6',\n",
        "               'MONTH_7', 'MONTH_8', 'MONTH_9','MONTH_10', 'MONTH_11', 'MONTH_12',\n",
        "               'DAY_IN_WEEK_0', 'DAY_IN_WEEK_1','DAY_IN_WEEK_2','DAY_IN_WEEK_3',\n",
        "               'DAY_IN_WEEK_4', 'DAY_IN_WEEK_5', 'DAY_IN_WEEK_6']]\n",
        "\n",
        "cat_month = cat_month_days.iloc[:,:-7]"
      ],
      "metadata": {
        "colab": {
          "base_uri": "https://localhost:8080/"
        },
        "id": "lFAXjSd1hvEV",
        "outputId": "f805216f-a652-4f3b-e89a-457cf802ab4f"
      },
      "execution_count": 233,
      "outputs": [
        {
          "output_type": "execute_result",
          "data": {
            "text/plain": [
              "Index(['Time', 'CATEGORY_CATEG-1', 'CATEGORY_CATEG-2', 'CATEGORY_CATEG-3',\n",
              "       'MONTH_1', 'MONTH_2', 'MONTH_3', 'MONTH_4', 'MONTH_5', 'MONTH_6',\n",
              "       'MONTH_7', 'MONTH_8', 'MONTH_9', 'MONTH_10', 'MONTH_11', 'MONTH_12'],\n",
              "      dtype='object')"
            ]
          },
          "metadata": {},
          "execution_count": 233
        }
      ]
    },
    {
      "cell_type": "code",
      "source": [
        "X = cat_month_days\n",
        "# Scale Time column (values too big compared to the other feature's values)\n",
        "X_norm = minMaxNormalize(X)\n",
        "y = working_df.loc[:,'UNITS_SOLD'].to_frame()\n",
        "\n",
        "# Split data into train and test dataset (75-25)\n",
        "X_train, X_test, y_train, y_test = train_test_split(X_norm, y, test_size=0.25, random_state=42)\n",
        "error_train, error_test = trainTestModel(lr_model, X_train,X_test,y_train,y_test)\n",
        "# Normalize RMSE to get a 0-1 score\n",
        "error_train = error_train/(y_train.max() - y_train.min())\n",
        "error_test = error_test/(y_test.max() - y_test.min())\n",
        "print(f\"Error Train: {error_train}\")\n",
        "print(f\"Error Test: {error_test}\")"
      ],
      "metadata": {
        "colab": {
          "base_uri": "https://localhost:8080/"
        },
        "id": "zgK2blg-hPDJ",
        "outputId": "6e090ffe-c7fd-4cc8-816b-a3b0500ddd40"
      },
      "execution_count": 235,
      "outputs": [
        {
          "output_type": "stream",
          "name": "stdout",
          "text": [
            "Error Train: UNITS_SOLD    0.056003\n",
            "dtype: float64\n",
            "Error Test: UNITS_SOLD    0.091366\n",
            "dtype: float64\n"
          ]
        }
      ]
    },
    {
      "cell_type": "markdown",
      "source": [
        "El RMES se reduce en aproximadamente un 50%, demostrando que las nuevas features anhadidas contienen informacion relevante sobre el comportamiento de la ST.\n",
        "\n",
        "(OJO: sin Time el error se reduce considerablemente igual, pero menos que cuando se incluye esta feature tambien. O sea, cuenta.)"
      ],
      "metadata": {
        "id": "NP3e8grpizp0"
      }
    },
    {
      "cell_type": "markdown",
      "source": [
        "### Lag Features\n",
        "\n",
        "Existen dos tipos de features que son unicas de las ST, los time steps (arriba)\n",
        " y las llamadas 'lag features'.\n",
        "\n",
        " Estas ultimas nos permiten modelar la dependencia serial (serial dependence), esto es cuando el valor de una observacion puede predecirse por los valores de las observaciones anteriores. De modo que buscamos crear lag features que esten fuertemente correlacionadas con nuestro target (UNITS_SOLD). \n"
      ],
      "metadata": {
        "id": "jR_46wI4k0Le"
      }
    },
    {
      "cell_type": "markdown",
      "source": [
        "Creeemos algunas..."
      ],
      "metadata": {
        "id": "Y7pyqy-4mOE1"
      }
    },
    {
      "cell_type": "code",
      "source": [
        "# helper functions\n",
        "def lagplot(x, y=None, lag=1, standardize=False, ax=None, **kwargs):\n",
        "    from matplotlib.offsetbox import AnchoredText\n",
        "    x_ = x.shift(lag)\n",
        "    if standardize:\n",
        "        x_ = (x_ - x_.mean()) / x_.std()\n",
        "    if y is not None:\n",
        "        y_ = (y - y.mean()) / y.std() if standardize else y\n",
        "    else:\n",
        "        y_ = x\n",
        "    corr = y_.corr(x_)\n",
        "    if ax is None:\n",
        "        fig, ax = plt.subplots()\n",
        "    scatter_kws = dict(\n",
        "        alpha=0.75,\n",
        "        s=3,\n",
        "    )\n",
        "    line_kws = dict(color='C3', )\n",
        "    ax = sns.regplot(x=x_,\n",
        "                     y=y_,\n",
        "                     scatter_kws=scatter_kws,\n",
        "                     line_kws=line_kws,\n",
        "                     lowess=True,\n",
        "                     ax=ax,\n",
        "                     **kwargs)\n",
        "    at = AnchoredText(\n",
        "        f\"{corr:.2f}\",\n",
        "        prop=dict(size=\"large\"),\n",
        "        frameon=True,\n",
        "        loc=\"upper left\",\n",
        "    )\n",
        "    at.patch.set_boxstyle(\"square, pad=0.0\")\n",
        "    ax.add_artist(at)\n",
        "    ax.set(title=f\"Lag {lag}\", xlabel=x_.name, ylabel=y_.name)\n",
        "    return ax\n",
        "\n",
        "\n",
        "def plot_lags(x, y=None, lags=6, nrows=1, lagplot_kwargs={}, **kwargs):\n",
        "    import math\n",
        "    kwargs.setdefault('nrows', nrows)\n",
        "    kwargs.setdefault('ncols', math.ceil(lags / nrows))\n",
        "    kwargs.setdefault('figsize', (kwargs['ncols'] * 2, nrows * 2 + 0.5))\n",
        "    fig, axs = plt.subplots(sharex=True, sharey=True, squeeze=False, **kwargs)\n",
        "    for ax, k in zip(fig.get_axes(), range(kwargs['nrows'] * kwargs['ncols'])):\n",
        "        if k + 1 <= lags:\n",
        "            ax = lagplot(x, y, lag=k + 1, ax=ax, **lagplot_kwargs)\n",
        "            ax.set_title(f\"Lag {k + 1}\", fontdict=dict(fontsize=14))\n",
        "            ax.set(xlabel=\"\", ylabel=\"\")\n",
        "        else:\n",
        "            ax.axis('off')\n",
        "    plt.setp(axs[-1, :], xlabel=x.name)\n",
        "    plt.setp(axs[:, 0], ylabel=y.name if y is not None else x.name)\n",
        "    fig.tight_layout(w_pad=0.1, h_pad=0.1)\n",
        "    return fig\n",
        "\n",
        "def make_lags(ts, lags):\n",
        "  return pd.concat(\n",
        "      {\n",
        "          f'y_lag_{i}': ts.shift(i)\n",
        "          for i in range(1, lags + 1)\n",
        "      },\n",
        "      axis=1)\n"
      ],
      "metadata": {
        "id": "DCAr0JguDXBQ"
      },
      "execution_count": 242,
      "outputs": []
    },
    {
      "cell_type": "code",
      "source": [
        "fig = plot_lags(working_df.UNITS_SOLD, lags=12, nrows=2)\n",
        "fig.suptitle('All Categories\\n\\n\\n')\n",
        "fig.show()"
      ],
      "metadata": {
        "colab": {
          "base_uri": "https://localhost:8080/",
          "height": 338
        },
        "id": "3W-qi1nw0f6v",
        "outputId": "894a405e-c8a8-4686-b1fe-bc17df87a556"
      },
      "execution_count": 237,
      "outputs": [
        {
          "output_type": "display_data",
          "data": {
            "text/plain": [
              "<Figure size 864x324 with 12 Axes>"
            ],
            "image/png": "[encoded data removed]"
          },
          "metadata": {
            "needs_background": "light"
          }
        }
      ]
    },
    {
      "cell_type": "markdown",
      "source": [
        "Aunque el metodo de correlacion lineal no es capaz de hallarla, al observar la grafica es evidente que existe una fuerte correlacion entre las observaciones pasadas y nuestro target, solo que dentro de una misma categoria!\n",
        "\n",
        "Veamos para las categorias por separado..."
      ],
      "metadata": {
        "id": "zZ_aqZPhp_9V"
      }
    },
    {
      "cell_type": "code",
      "source": [
        "#category = 'CATEGORY_CATEG-1'\n",
        "#category = 'CATEGORY_CATEG-2'\n",
        "category = 'CATEGORY_CATEG-3'\n",
        "\n",
        "fig = plot_lags(working_df[working_df[category] == 1].UNITS_SOLD, lags=12, nrows=3)\n",
        "fig.suptitle(category + '\\n\\n\\n')\n",
        "fig.show()"
      ],
      "metadata": {
        "colab": {
          "base_uri": "https://localhost:8080/",
          "height": 479
        },
        "id": "Tj40mf7tq4lw",
        "outputId": "3c688457-5c4a-4928-8faa-d6b6c8345dfa"
      },
      "execution_count": 238,
      "outputs": [
        {
          "output_type": "display_data",
          "data": {
            "text/plain": [
              "<Figure size 576x468 with 12 Axes>"
            ],
            "image/png": "[encoded data removed]"
          },
          "metadata": {
            "needs_background": "light"
          }
        }
      ]
    },
    {
      "cell_type": "markdown",
      "source": [
        "Cuando analizamos por categorias la correlacion entre los lags y la variable target es fuerte (0.6+) hasta la lag 8, en la categoria 1, y en las otras dos  hasta la lag 22 (por lo menos)!!"
      ],
      "metadata": {
        "id": "iQkkCH6_tM2Y"
      }
    },
    {
      "cell_type": "code",
      "source": [
        "from statsmodels.graphics.tsaplots import plot_pacf\n",
        "\n",
        "_ = plot_pacf(working_df[working_df['CATEGORY_CATEG-3'] == 1].UNITS_SOLD, lags=22)"
      ],
      "metadata": {
        "colab": {
          "base_uri": "https://localhost:8080/",
          "height": 281
        },
        "id": "Q-WGUmyw12mv",
        "outputId": "e921b0ce-6eb2-4466-af4f-ca0df69bf05a"
      },
      "execution_count": 239,
      "outputs": [
        {
          "output_type": "display_data",
          "data": {
            "text/plain": [
              "<Figure size 432x288 with 1 Axes>"
            ],
            "image/png": "[encoded data removed]"
          },
          "metadata": {
            "needs_background": "light"
          }
        }
      ]
    },
    {
      "cell_type": "markdown",
      "source": [
        "Ahora, creemos unas lags y veamos como ayudan a nuestro modelo..."
      ],
      "metadata": {
        "id": "sp8PluSoudy4"
      }
    },
    {
      "cell_type": "code",
      "source": [
        "X = cat_month_days\n",
        "\n",
        "lags = make_lags(working_df.UNITS_SOLD, lags=30)\n",
        "lags = lags.fillna(0.0)\n",
        "\n",
        "X = pd.concat([X,lags], axis = 1)\n",
        "# Scale Time and lags column (values too big compared to the other feature's values)\n",
        "X_norm = minMaxNormalize(X)\n",
        "y = working_df.loc[:,'UNITS_SOLD'].to_frame()\n",
        "\n",
        "error_train, error_test = trainTestModel(lr_model, X_train,X_test,y_train,y_test)\n",
        "# Normalize RMSE to obtain a 0-1 score\n",
        "error_train = error_train/(y_train.max() - y_train.min())\n",
        "error_test = error_test/(y_test.max() - y_test.min())\n",
        "print(f\"Train error: {error_train}\")\n",
        "print(f\"Test error: {error_test}\")\n"
      ],
      "metadata": {
        "colab": {
          "base_uri": "https://localhost:8080/"
        },
        "id": "FYrjnaVFqy9B",
        "outputId": "79871b07-9237-47b5-d610-fc7cec7705b4"
      },
      "execution_count": 243,
      "outputs": [
        {
          "output_type": "stream",
          "name": "stdout",
          "text": [
            "Train error: UNITS_SOLD    0.056003\n",
            "dtype: float64\n",
            "Test error: UNITS_SOLD    0.091366\n",
            "dtype: float64\n"
          ]
        }
      ]
    },
    {
      "cell_type": "markdown",
      "source": [
        "Hasta un lag 30 (dias antes de la prediccion) se obtienen mejoras del error tanto en el set de entrenamiento, como en el prueba -- a partir de ese lag se empiezan a notar signos de overfitting (disminuye el training error pero aumenta el Test error)."
      ],
      "metadata": {
        "id": "EXbz9sfTzYcW"
      }
    },
    {
      "cell_type": "markdown",
      "source": [
        "\n",
        "Probemos a crear modelos especificos para cada categoria y veamos que tal les va."
      ],
      "metadata": {
        "id": "iV9RxQAV0ZX9"
      }
    },
    {
      "cell_type": "code",
      "source": [
        "X = cat_month_days\n",
        "lags = make_lags(working_df.UNITS_SOLD, lags=22)\n",
        "lags = lags.fillna(0.0)\n",
        "\n",
        "X = pd.concat([X,lags], axis = 1)\n",
        "# Select data points for a single category\n",
        "category = 'CATEGORY_CATEG-2'\n",
        "# drop all category-related columns since they are no loger useful\n",
        "X = X[X[category] == 1].drop(columns = ['CATEGORY_CATEG-1','CATEGORY_CATEG-2', 'CATEGORY_CATEG-3'])\n",
        "\n",
        "# Scale Time and lag columns (values too big compared to the other feature's values)\n",
        "X_norm = minMaxNormalize(X)\n",
        "y = working_df[working_df[category] == 1].UNITS_SOLD.to_frame()\n",
        "\n",
        "# Split data into train and test dataset (75-25)\n",
        "X_train, X_test, y_train, y_test = train_test_split(X_norm, y, test_size=0.25, random_state=42)\n",
        "error_train, error_test = trainTestModel(lr_model, X_train,X_test,y_train,y_test)\n",
        "# Normalize RMSE to obtain a 0-1 score\n",
        "error_train = error_train/(y_train.max() - y_train.min())\n",
        "error_test = error_test/(y_test.max() - y_test.min())\n",
        "print(f\"Train error: {error_train}\")\n",
        "print(f\"Test error: {error_test}\")"
      ],
      "metadata": {
        "colab": {
          "base_uri": "https://localhost:8080/"
        },
        "id": "rQ3CPiRutmTI",
        "outputId": "3f1a8164-2184-4781-eb81-680d07e0ac4a"
      },
      "execution_count": 244,
      "outputs": [
        {
          "output_type": "stream",
          "name": "stdout",
          "text": [
            "Train error: UNITS_SOLD    0.105965\n",
            "dtype: float64\n",
            "Test error: UNITS_SOLD    0.116767\n",
            "dtype: float64\n"
          ]
        }
      ]
    },
    {
      "cell_type": "markdown",
      "source": [
        "**Conclusion modelado con Regresion Lineal:**\n",
        "\n",
        "Los resultados obtenidos cuando analizamos separando por categoria, no son pesimos (exceptuando quizas para la categoria 2), pero tampoco son buenos del todo. \n",
        "\n",
        "No parece haber problemas de overfitting, pues el error en el dataset de prueba es bien cercano al de entrenamiento."
      ],
      "metadata": {
        "id": "3rRXd4NKHV3D"
      }
    },
    {
      "cell_type": "markdown",
      "source": [
        "**Red Neuronal (MLPRegressor)**\n",
        "\n",
        "Probemos un algoritmo mas complejo como una red neuronal, a ver si podemos bajar nuestro RMSE..."
      ],
      "metadata": {
        "id": "40skoeh5Iph5"
      }
    },
    {
      "cell_type": "markdown",
      "source": [
        "Let's try first with all features and all data points together"
      ],
      "metadata": {
        "id": "X0aUP-CNKE_P"
      }
    },
    {
      "cell_type": "code",
      "source": [
        "from sklearn.neural_network import MLPRegressor\n",
        "# TS can be typically decomposed into four components:\n",
        "# trend, season, and residual. So let's try 3 hidden layers,\n",
        "# see if our NN can learn to predict each one of them \n",
        "mlp_regr = MLPRegressor((100,100,100), alpha = 0.01, random_state=1, max_iter=500)\n",
        "\n",
        "X = cat_month_days\n",
        "\n",
        "lags = make_lags(working_df.UNITS_SOLD, lags=22)\n",
        "lags = lags.fillna(0.0)\n",
        "\n",
        "X = pd.concat([X,lags], axis = 1)\n",
        "# Scale Time and lag columns (values too big compared to the other feature's values)\n",
        "X_norm = minMaxNormalize(X)\n",
        "y = working_df.loc[:,'UNITS_SOLD']\n",
        "\n",
        "# Split 1,500data into train and test dataset (75-25)\n",
        "X_train, X_test, y_train, y_test = train_test_split(X_norm, y, test_size=0.25, random_state=42)\n",
        "\n",
        "# Train and test NN model\n",
        "error_train, error_test = trainTestModel(mlp_regr, X_train,X_test,y_train,y_test)\n",
        "# Normalize RMSE to obtain a 0-1 score\n",
        "error_train = error_train/(y_train.max() - y_train.min())\n",
        "error_test = error_test/(y_test.max() - y_test.min())\n",
        "print(f\"Train error: {error_train:.2f}\")\n",
        "print(f\"Test error: {error_test:.2f}\")\n",
        "# See R^2 score (best result is 1.0)\n",
        "print(f\"R^2 score on test set: {mlp_regr.score(X_test, y_test):.2f}\")\n"
      ],
      "metadata": {
        "colab": {
          "base_uri": "https://localhost:8080/"
        },
        "id": "eV1Hhi6A5gXS",
        "outputId": "5c393a91-c78b-40e8-e83a-ee42193ed453"
      },
      "execution_count": 251,
      "outputs": [
        {
          "output_type": "stream",
          "name": "stdout",
          "text": [
            "Train error: 0.02\n",
            "Test error: 0.04\n",
            "R^2 score on test set: 0.95\n"
          ]
        }
      ]
    },
    {
      "cell_type": "markdown",
      "source": [
        "Vamos a probar un modelo de RN para cada categoria, a ver que tal es el desempenho"
      ],
      "metadata": {
        "id": "mCFm-z9GRODU"
      }
    },
    {
      "cell_type": "code",
      "source": [
        "# TS can be typically decomposed into four components:\n",
        "# trend, season, and residual. So let's try 3 hidden layers,\n",
        "# see if our NN can learn to predict each one of them \n",
        "mlp_regr = MLPRegressor((100,100,100), alpha = 0.01, random_state=1, max_iter=5000)\n",
        "\n",
        "X = cat_month_days\n",
        "\n",
        "lags = make_lags(working_df.UNITS_SOLD, lags=22)\n",
        "lags = lags.fillna(0.0)\n",
        "\n",
        "X = pd.concat([X,lags], axis = 1)\n",
        "# Select data points for a single category\n",
        "category = 'CATEGORY_CATEG-2'\n",
        "# drop all category-related columns since they are no loger useful\n",
        "X = X[X[category] == 1].drop(columns = ['CATEGORY_CATEG-1','CATEGORY_CATEG-2', 'CATEGORY_CATEG-3'])\n",
        "\n",
        "# Scale Time and lag columns (values too big compared to the other feature's values)\n",
        "X_norm = minMaxNormalize(X)\n",
        "y = working_df[working_df[category] == 1].UNITS_SOLD.to_frame()\n",
        "\n",
        "# Train and test NN model\n",
        "error_train, error_test = trainTestModel(mlp_regr, X_train,X_test,y_train,y_test)\n",
        "# Normalize RMSE to obtain a 0-1 score\n",
        "error_train = error_train/(y_train.max() - y_train.min())\n",
        "error_test = error_test/(y_test.max() - y_test.min())\n",
        "print(f\"Train error: {error_train:.2f}\")\n",
        "print(f\"Test error: {error_test:.2f}\")\n",
        "# See R^2 score (best result is 1.0)\n",
        "print(f\"R^2 score on test set: {mlp_regr.score(X_test, y_test):.2f}\")"
      ],
      "metadata": {
        "colab": {
          "base_uri": "https://localhost:8080/"
        },
        "id": "iO2Wg8-0KSDJ",
        "outputId": "544ef4a0-4b80-4f7d-8eb2-10044ed4acb3"
      },
      "execution_count": 250,
      "outputs": [
        {
          "output_type": "stream",
          "name": "stdout",
          "text": [
            "Train error: 0.02\n",
            "Test error: 0.04\n",
            "R^2 score on test set: 0.95\n"
          ]
        }
      ]
    },
    {
      "cell_type": "code",
      "source": [],
      "metadata": {
        "id": "Oz79OxT_Vl_r"
      },
      "execution_count": null,
      "outputs": []
    }
  ]
}