{
  "nbformat": 4,
  "nbformat_minor": 0,
  "metadata": {
    "colab": {
      "provenance": [],
      "collapsed_sections": [],
      "authorship_tag": "ABX9TyMp6lkN51LCPysdx2snz9OL",
      "include_colab_link": true
    },
    "kernelspec": {
      "name": "python3",
      "display_name": "Python 3"
    },
    "language_info": {
      "name": "python"
    }
  },
  "cells": [
    {
      "cell_type": "markdown",
      "metadata": {
        "id": "view-in-github",
        "colab_type": "text"
      },
      "source": [
        "<a href=\"https://colab.research.google.com/github/dmourlot89/MELI_challenge/blob/main/MELI_DSChallenge_Q3.ipynb\" target=\"_parent\"><img src=\"https://colab.research.google.com/assets/colab-badge.svg\" alt=\"Open In Colab\"/></a>"
      ]
    },
    {
      "cell_type": "markdown",
      "source": [
        "## 3. Similitud entre productos\n",
        "\n",
        "**Descripción:**\n",
        "\n",
        "Un desafío constante en MELI es el de poder agrupar productos similares utilizando algunos atributos de estos como pueden ser el título, la descripción o su imagen.\n",
        "Para este desafío tenemos un dataset “`items_titles.csv`” que tiene títulos de 30 mil productos de 3 categorías diferentes de Mercado Libre Brasil.\n",
        "\n",
        "El objetivo del desafío es poder generar una Jupyter notebook que determine cuán similares son dos títulos del dataset `item_titles_test.csv` generando como output un listado en el cual, ordenando por score de similitud, podamos encontrar los pares de productos más similares en nuestro dataset de test."
      ],
      "metadata": {
        "id": "6te_GFbdlIgm"
      }
    },
    {
      "cell_type": "code",
      "source": [
        "# import required libraries and functions\n",
        "import numpy as np                     # numerical library \n",
        "import pandas as pd                    # Use of daframe structure and operations\n",
        "from nltk.metrics.distance import *    # Distances from NLTK library\n",
        "from itertools import product          # Computes cartesian product of input iterables."
      ],
      "metadata": {
        "id": "qrP5Br5bmf54"
      },
      "execution_count": 2,
      "outputs": []
    },
    {
      "cell_type": "markdown",
      "source": [
        "### Importar dataset\n",
        "\n",
        "Cargar titulos contenidos en el archivo `item_titles.csv`"
      ],
      "metadata": {
        "id": "s8olR9dEtqoN"
      }
    },
    {
      "cell_type": "code",
      "source": [
        "# load dataset\n",
        "url = 'https://raw.githubusercontent.com/dmourlot89/MELI_challenge/main/items_titles.csv'\n",
        "\n",
        "titles_df = pd.read_csv(url)"
      ],
      "metadata": {
        "id": "X712PJTNnCCf"
      },
      "execution_count": 3,
      "outputs": []
    },
    {
      "cell_type": "code",
      "source": [
        "print(f\"Shape of titles_df:\\n{titles_df.shape}\")\n",
        "titles_df.head()"
      ],
      "metadata": {
        "colab": {
          "base_uri": "https://localhost:8080/",
          "height": 241
        },
        "id": "fSve2ctynROb",
        "outputId": "6648e460-af5d-4c18-c049-52524d647f12"
      },
      "execution_count": 7,
      "outputs": [
        {
          "output_type": "stream",
          "name": "stdout",
          "text": [
            "Shape of titles_df:\n",
            "(30000, 1)\n"
          ]
        },
        {
          "output_type": "execute_result",
          "data": {
            "text/plain": [
              "                                      ITE_ITEM_TITLE\n",
              "0  Tênis Ascension Posh Masculino - Preto E Verme...\n",
              "1  Tenis Para Caminhada Super Levinho Spider Corr...\n",
              "2  Tênis Feminino Le Parc Hocks Black/ice Origina...\n",
              "3  Tênis Olympikus Esportivo Academia Nova Tendên...\n",
              "4  Inteligente Led Bicicleta Tauda Luz Usb Bicicl..."
            ],
            "text/html": [
              "\n",
              "  <div id=\"df-3556fdda-ddc6-4398-a992-569c214ad74a\">\n",
              "    <div class=\"colab-df-container\">\n",
              "      <div>\n",
              "<style scoped>\n",
              "    .dataframe tbody tr th:only-of-type {\n",
              "        vertical-align: middle;\n",
              "    }\n",
              "\n",
              "    .dataframe tbody tr th {\n",
              "        vertical-align: top;\n",
              "    }\n",
              "\n",
              "    .dataframe thead th {\n",
              "        text-align: right;\n",
              "    }\n",
              "</style>\n",
              "<table border=\"1\" class=\"dataframe\">\n",
              "  <thead>\n",
              "    <tr style=\"text-align: right;\">\n",
              "      <th></th>\n",
              "      <th>ITE_ITEM_TITLE</th>\n",
              "    </tr>\n",
              "  </thead>\n",
              "  <tbody>\n",
              "    <tr>\n",
              "      <th>0</th>\n",
              "      <td>Tênis Ascension Posh Masculino - Preto E Verme...</td>\n",
              "    </tr>\n",
              "    <tr>\n",
              "      <th>1</th>\n",
              "      <td>Tenis Para Caminhada Super Levinho Spider Corr...</td>\n",
              "    </tr>\n",
              "    <tr>\n",
              "      <th>2</th>\n",
              "      <td>Tênis Feminino Le Parc Hocks Black/ice Origina...</td>\n",
              "    </tr>\n",
              "    <tr>\n",
              "      <th>3</th>\n",
              "      <td>Tênis Olympikus Esportivo Academia Nova Tendên...</td>\n",
              "    </tr>\n",
              "    <tr>\n",
              "      <th>4</th>\n",
              "      <td>Inteligente Led Bicicleta Tauda Luz Usb Bicicl...</td>\n",
              "    </tr>\n",
              "  </tbody>\n",
              "</table>\n",
              "</div>\n",
              "      <button class=\"colab-df-convert\" onclick=\"convertToInteractive('df-3556fdda-ddc6-4398-a992-569c214ad74a')\"\n",
              "              title=\"Convert this dataframe to an interactive table.\"\n",
              "              style=\"display:none;\">\n",
              "        \n",
              "  <svg xmlns=\"http://www.w3.org/2000/svg\" height=\"24px\"viewBox=\"0 0 24 24\"\n",
              "       width=\"24px\">\n",
              "    <path d=\"M0 0h24v24H0V0z\" fill=\"none\"/>\n",
              "    <path d=\"M18.56 5.44l.94 2.06.94-2.06 2.06-.94-2.06-.94-.94-2.06-.94 2.06-2.06.94zm-11 1L8.5 8.5l.94-2.06 2.06-.94-2.06-.94L8.5 2.5l-.94 2.06-2.06.94zm10 10l.94 2.06.94-2.06 2.06-.94-2.06-.94-.94-2.06-.94 2.06-2.06.94z\"/><path d=\"M17.41 7.96l-1.37-1.37c-.4-.4-.92-.59-1.43-.59-.52 0-1.04.2-1.43.59L10.3 9.45l-7.72 7.72c-.78.78-.78 2.05 0 2.83L4 21.41c.39.39.9.59 1.41.59.51 0 1.02-.2 1.41-.59l7.78-7.78 2.81-2.81c.8-.78.8-2.07 0-2.86zM5.41 20L4 18.59l7.72-7.72 1.47 1.35L5.41 20z\"/>\n",
              "  </svg>\n",
              "      </button>\n",
              "      \n",
              "  <style>\n",
              "    .colab-df-container {\n",
              "      display:flex;\n",
              "      flex-wrap:wrap;\n",
              "      gap: 12px;\n",
              "    }\n",
              "\n",
              "    .colab-df-convert {\n",
              "      background-color: #E8F0FE;\n",
              "      border: none;\n",
              "      border-radius: 50%;\n",
              "      cursor: pointer;\n",
              "      display: none;\n",
              "      fill: #1967D2;\n",
              "      height: 32px;\n",
              "      padding: 0 0 0 0;\n",
              "      width: 32px;\n",
              "    }\n",
              "\n",
              "    .colab-df-convert:hover {\n",
              "      background-color: #E2EBFA;\n",
              "      box-shadow: 0px 1px 2px rgba(60, 64, 67, 0.3), 0px 1px 3px 1px rgba(60, 64, 67, 0.15);\n",
              "      fill: #174EA6;\n",
              "    }\n",
              "\n",
              "    [theme=dark] .colab-df-convert {\n",
              "      background-color: #3B4455;\n",
              "      fill: #D2E3FC;\n",
              "    }\n",
              "\n",
              "    [theme=dark] .colab-df-convert:hover {\n",
              "      background-color: #434B5C;\n",
              "      box-shadow: 0px 1px 3px 1px rgba(0, 0, 0, 0.15);\n",
              "      filter: drop-shadow(0px 1px 2px rgba(0, 0, 0, 0.3));\n",
              "      fill: #FFFFFF;\n",
              "    }\n",
              "  </style>\n",
              "\n",
              "      <script>\n",
              "        const buttonEl =\n",
              "          document.querySelector('#df-3556fdda-ddc6-4398-a992-569c214ad74a button.colab-df-convert');\n",
              "        buttonEl.style.display =\n",
              "          google.colab.kernel.accessAllowed ? 'block' : 'none';\n",
              "\n",
              "        async function convertToInteractive(key) {\n",
              "          const element = document.querySelector('#df-3556fdda-ddc6-4398-a992-569c214ad74a');\n",
              "          const dataTable =\n",
              "            await google.colab.kernel.invokeFunction('convertToInteractive',\n",
              "                                                     [key], {});\n",
              "          if (!dataTable) return;\n",
              "\n",
              "          const docLinkHtml = 'Like what you see? Visit the ' +\n",
              "            '<a target=\"_blank\" href=https://colab.research.google.com/notebooks/data_table.ipynb>data table notebook</a>'\n",
              "            + ' to learn more about interactive tables.';\n",
              "          element.innerHTML = '';\n",
              "          dataTable['output_type'] = 'display_data';\n",
              "          await google.colab.output.renderOutput(dataTable, element);\n",
              "          const docLink = document.createElement('div');\n",
              "          docLink.innerHTML = docLinkHtml;\n",
              "          element.appendChild(docLink);\n",
              "        }\n",
              "      </script>\n",
              "    </div>\n",
              "  </div>\n",
              "  "
            ]
          },
          "metadata": {},
          "execution_count": 7
        }
      ]
    },
    {
      "cell_type": "markdown",
      "source": [
        "La libreria de precesamiento del lenguaje natural NLTK nos ofrece varias opciones para el calculo de distancias entre dos cadenas de texto o dos oraciones. Probemos un par de estas, usando el ejemplo dado en la descripcion del challenge."
      ],
      "metadata": {
        "id": "kfsL8m_gvMGa"
      }
    },
    {
      "cell_type": "code",
      "source": [
        "title1= 'Zapatillas Nike'\n",
        "title2= 'Zapatillas Adidas'\n",
        "\n",
        "# transform a bit for use of NLTK distance functions\n",
        "label1 = set(title1.lower().split())\n",
        "label2 = set(title2.lower().split())\n",
        "\n",
        "print(f\"'{title1}' vs '{title2}'\\n\")\n",
        "# NLTK's distance functions (use 1 - distance, since we're looking for similarity)\n",
        "print(f\"Jaccard Index (NLTK): {1 - jaccard_distance(label1,label2):.2f}\")   # Distance metric comparing set-similarity\n",
        "print(f\"MASI Distance (NLTK): {1 - masi_distance(label1,label2):.2f}\")             # Distance metric that takes into account partial agreement"
      ],
      "metadata": {
        "colab": {
          "base_uri": "https://localhost:8080/"
        },
        "id": "B3T9_SLUwNvh",
        "outputId": "4ff67669-3fd2-43ff-f2af-54bfae89bf47"
      },
      "execution_count": 10,
      "outputs": [
        {
          "output_type": "stream",
          "name": "stdout",
          "text": [
            "'Zapatillas Nike' vs 'Zapatillas Adidas'\n",
            "\n",
            "Jaccard Index (NLTK): 0.33\n",
            "MASI Distance (NLTK): 0.11\n"
          ]
        }
      ]
    },
    {
      "cell_type": "markdown",
      "source": [
        "Ambas metricas nos dan una estimado valido de cuan similares son dos titulos, aunque no con los resultados que aparecen en el ejemplo de la orden del desafio. Podemos obtener los mismos valores de score para los titulos \"Zapatillas Nike\" y \"Zapatillas Adidas\", usando la siguiente funcion con algebra de conjuntos."
      ],
      "metadata": {
        "id": "zV_nWvZ93dbR"
      }
    },
    {
      "cell_type": "code",
      "source": [
        "def computeSetScore(title1, title2):\n",
        "  '''\n",
        "  Computes a similarity score between two given titles using sets algebra\n",
        "  '''\n",
        "  label1 = set(title1.lower().split())\n",
        "  label2 = set(title2.lower().split())\n",
        "\n",
        "  union = label1.union(label2)\n",
        "  intersection = label1.intersection(label2)\n",
        "  complement = union - intersection\n",
        "  custom_score = 1 if len(complement) == 0 else len(intersection)/len(complement)\n",
        "\n",
        "  return custom_score"
      ],
      "metadata": {
        "id": "Lm9Ipiap3ckl"
      },
      "execution_count": 21,
      "outputs": []
    },
    {
      "cell_type": "code",
      "source": [
        "print(f\"'{title1}' vs '{title2}'\")\n",
        "print(f\"Sets score: {computeSetScore(title1, title2):.2f}\\n\")\n",
        "print(f\"'{title1}' vs '{title1}'\")\n",
        "print(f\"Sets score: {computeSetScore(title1, title1):.2f}\")"
      ],
      "metadata": {
        "colab": {
          "base_uri": "https://localhost:8080/"
        },
        "id": "MP6F8dqb6CAp",
        "outputId": "0438cbe4-ad96-4b70-8463-225af3555b6f"
      },
      "execution_count": 26,
      "outputs": [
        {
          "output_type": "stream",
          "name": "stdout",
          "text": [
            "'Zapatillas Nike' vs 'Zapatillas Adidas'\n",
            "Sets score: 0.50\n",
            "\n",
            "'Zapatillas Nike' vs 'Zapatillas Nike'\n",
            "Sets score: 1.00\n"
          ]
        }
      ]
    },
    {
      "cell_type": "markdown",
      "source": [
        "### Listado de similitud\n",
        "\n",
        "Ahora podemos proceder a "
      ],
      "metadata": {
        "id": "7vnLp1jZFnYC"
      }
    },
    {
      "cell_type": "code",
      "source": [
        "def buildSimilarityList(titles1, titles2):\n",
        "  '''\n",
        "  Build a new dataframe using the cartesian product of\n",
        "  titles1 and titles2 (find all posible combinations of \n",
        "  titles in both); then compute and add a similarity score column.\n",
        "\n",
        "  titles1: One-column dataframe with a set of titles\n",
        "  titles2: One-column dataframe with a set of titles\n",
        "\n",
        "  sim_df: Three-columns dataframe with pairs of titles and its\n",
        "          corresponding similarity score\n",
        "  '''\n",
        "\n",
        "  sim_df = pd.merge(titles1.assign(key=1), titles2.assign(key=1), \n",
        "                 on='key').drop('key', axis=1)\n",
        "\n",
        "  sim_df['SIMILARITY_SCORE(0,1)'] = sim_df.apply(lambda row : computeSetScore(row[0],\n",
        "                                                                              row[1]),\n",
        "                                                 axis = 1)  \n",
        "  return sim_df"
      ],
      "metadata": {
        "id": "UOMppBxGxymy"
      },
      "execution_count": 84,
      "outputs": []
    },
    {
      "cell_type": "code",
      "source": [
        "sim_df = buildSimilarityList(titles_df.iloc[:100,:], titles_df)\n",
        "sim_df.head()"
      ],
      "metadata": {
        "colab": {
          "base_uri": "https://localhost:8080/",
          "height": 206
        },
        "id": "QSjIvXvY-FSB",
        "outputId": "10492d18-d5a3-4025-d724-7468c185e12e"
      },
      "execution_count": 88,
      "outputs": [
        {
          "output_type": "execute_result",
          "data": {
            "text/plain": [
              "                                    ITE_ITEM_TITLE_x  \\\n",
              "0  Tênis Ascension Posh Masculino - Preto E Verme...   \n",
              "1  Tênis Ascension Posh Masculino - Preto E Verme...   \n",
              "2  Tênis Ascension Posh Masculino - Preto E Verme...   \n",
              "3  Tênis Ascension Posh Masculino - Preto E Verme...   \n",
              "4  Tênis Ascension Posh Masculino - Preto E Verme...   \n",
              "\n",
              "                                    ITE_ITEM_TITLE_y  SIMILARITY_SCORE(0,1)  \n",
              "0  Tênis Ascension Posh Masculino - Preto E Verme...               1.000000  \n",
              "1  Tenis Para Caminhada Super Levinho Spider Corr...               0.000000  \n",
              "2  Tênis Feminino Le Parc Hocks Black/ice Origina...               0.066667  \n",
              "3  Tênis Olympikus Esportivo Academia Nova Tendên...               0.076923  \n",
              "4  Inteligente Led Bicicleta Tauda Luz Usb Bicicl...               0.000000  "
            ],
            "text/html": [
              "\n",
              "  <div id=\"df-47364bb5-317a-495b-852e-61e54d3f1e65\">\n",
              "    <div class=\"colab-df-container\">\n",
              "      <div>\n",
              "<style scoped>\n",
              "    .dataframe tbody tr th:only-of-type {\n",
              "        vertical-align: middle;\n",
              "    }\n",
              "\n",
              "    .dataframe tbody tr th {\n",
              "        vertical-align: top;\n",
              "    }\n",
              "\n",
              "    .dataframe thead th {\n",
              "        text-align: right;\n",
              "    }\n",
              "</style>\n",
              "<table border=\"1\" class=\"dataframe\">\n",
              "  <thead>\n",
              "    <tr style=\"text-align: right;\">\n",
              "      <th></th>\n",
              "      <th>ITE_ITEM_TITLE_x</th>\n",
              "      <th>ITE_ITEM_TITLE_y</th>\n",
              "      <th>SIMILARITY_SCORE(0,1)</th>\n",
              "    </tr>\n",
              "  </thead>\n",
              "  <tbody>\n",
              "    <tr>\n",
              "      <th>0</th>\n",
              "      <td>Tênis Ascension Posh Masculino - Preto E Verme...</td>\n",
              "      <td>Tênis Ascension Posh Masculino - Preto E Verme...</td>\n",
              "      <td>1.000000</td>\n",
              "    </tr>\n",
              "    <tr>\n",
              "      <th>1</th>\n",
              "      <td>Tênis Ascension Posh Masculino - Preto E Verme...</td>\n",
              "      <td>Tenis Para Caminhada Super Levinho Spider Corr...</td>\n",
              "      <td>0.000000</td>\n",
              "    </tr>\n",
              "    <tr>\n",
              "      <th>2</th>\n",
              "      <td>Tênis Ascension Posh Masculino - Preto E Verme...</td>\n",
              "      <td>Tênis Feminino Le Parc Hocks Black/ice Origina...</td>\n",
              "      <td>0.066667</td>\n",
              "    </tr>\n",
              "    <tr>\n",
              "      <th>3</th>\n",
              "      <td>Tênis Ascension Posh Masculino - Preto E Verme...</td>\n",
              "      <td>Tênis Olympikus Esportivo Academia Nova Tendên...</td>\n",
              "      <td>0.076923</td>\n",
              "    </tr>\n",
              "    <tr>\n",
              "      <th>4</th>\n",
              "      <td>Tênis Ascension Posh Masculino - Preto E Verme...</td>\n",
              "      <td>Inteligente Led Bicicleta Tauda Luz Usb Bicicl...</td>\n",
              "      <td>0.000000</td>\n",
              "    </tr>\n",
              "  </tbody>\n",
              "</table>\n",
              "</div>\n",
              "      <button class=\"colab-df-convert\" onclick=\"convertToInteractive('df-47364bb5-317a-495b-852e-61e54d3f1e65')\"\n",
              "              title=\"Convert this dataframe to an interactive table.\"\n",
              "              style=\"display:none;\">\n",
              "        \n",
              "  <svg xmlns=\"http://www.w3.org/2000/svg\" height=\"24px\"viewBox=\"0 0 24 24\"\n",
              "       width=\"24px\">\n",
              "    <path d=\"M0 0h24v24H0V0z\" fill=\"none\"/>\n",
              "    <path d=\"M18.56 5.44l.94 2.06.94-2.06 2.06-.94-2.06-.94-.94-2.06-.94 2.06-2.06.94zm-11 1L8.5 8.5l.94-2.06 2.06-.94-2.06-.94L8.5 2.5l-.94 2.06-2.06.94zm10 10l.94 2.06.94-2.06 2.06-.94-2.06-.94-.94-2.06-.94 2.06-2.06.94z\"/><path d=\"M17.41 7.96l-1.37-1.37c-.4-.4-.92-.59-1.43-.59-.52 0-1.04.2-1.43.59L10.3 9.45l-7.72 7.72c-.78.78-.78 2.05 0 2.83L4 21.41c.39.39.9.59 1.41.59.51 0 1.02-.2 1.41-.59l7.78-7.78 2.81-2.81c.8-.78.8-2.07 0-2.86zM5.41 20L4 18.59l7.72-7.72 1.47 1.35L5.41 20z\"/>\n",
              "  </svg>\n",
              "      </button>\n",
              "      \n",
              "  <style>\n",
              "    .colab-df-container {\n",
              "      display:flex;\n",
              "      flex-wrap:wrap;\n",
              "      gap: 12px;\n",
              "    }\n",
              "\n",
              "    .colab-df-convert {\n",
              "      background-color: #E8F0FE;\n",
              "      border: none;\n",
              "      border-radius: 50%;\n",
              "      cursor: pointer;\n",
              "      display: none;\n",
              "      fill: #1967D2;\n",
              "      height: 32px;\n",
              "      padding: 0 0 0 0;\n",
              "      width: 32px;\n",
              "    }\n",
              "\n",
              "    .colab-df-convert:hover {\n",
              "      background-color: #E2EBFA;\n",
              "      box-shadow: 0px 1px 2px rgba(60, 64, 67, 0.3), 0px 1px 3px 1px rgba(60, 64, 67, 0.15);\n",
              "      fill: #174EA6;\n",
              "    }\n",
              "\n",
              "    [theme=dark] .colab-df-convert {\n",
              "      background-color: #3B4455;\n",
              "      fill: #D2E3FC;\n",
              "    }\n",
              "\n",
              "    [theme=dark] .colab-df-convert:hover {\n",
              "      background-color: #434B5C;\n",
              "      box-shadow: 0px 1px 3px 1px rgba(0, 0, 0, 0.15);\n",
              "      filter: drop-shadow(0px 1px 2px rgba(0, 0, 0, 0.3));\n",
              "      fill: #FFFFFF;\n",
              "    }\n",
              "  </style>\n",
              "\n",
              "      <script>\n",
              "        const buttonEl =\n",
              "          document.querySelector('#df-47364bb5-317a-495b-852e-61e54d3f1e65 button.colab-df-convert');\n",
              "        buttonEl.style.display =\n",
              "          google.colab.kernel.accessAllowed ? 'block' : 'none';\n",
              "\n",
              "        async function convertToInteractive(key) {\n",
              "          const element = document.querySelector('#df-47364bb5-317a-495b-852e-61e54d3f1e65');\n",
              "          const dataTable =\n",
              "            await google.colab.kernel.invokeFunction('convertToInteractive',\n",
              "                                                     [key], {});\n",
              "          if (!dataTable) return;\n",
              "\n",
              "          const docLinkHtml = 'Like what you see? Visit the ' +\n",
              "            '<a target=\"_blank\" href=https://colab.research.google.com/notebooks/data_table.ipynb>data table notebook</a>'\n",
              "            + ' to learn more about interactive tables.';\n",
              "          element.innerHTML = '';\n",
              "          dataTable['output_type'] = 'display_data';\n",
              "          await google.colab.output.renderOutput(dataTable, element);\n",
              "          const docLink = document.createElement('div');\n",
              "          docLink.innerHTML = docLinkHtml;\n",
              "          element.appendChild(docLink);\n",
              "        }\n",
              "      </script>\n",
              "    </div>\n",
              "  </div>\n",
              "  "
            ]
          },
          "metadata": {},
          "execution_count": 88
        }
      ]
    },
    {
      "cell_type": "markdown",
      "source": [
        "### Consideraciones sobre el score de similitud\n",
        "\n",
        "Nuestro score parece funcionar bien para los casos de ejemplo proporcionados. Sin embargo, probemos otros casos posibles."
      ],
      "metadata": {
        "id": "Ls01b8xU7U2-"
      }
    },
    {
      "cell_type": "code",
      "source": [
        "# Same title only with a couple of changes or mispellings\n",
        "title1 = 'Zapatillas Nike'\n",
        "title3= 'Zapatilla Nikes'\n",
        "\n",
        "label1 = set(title1.lower().split())\n",
        "label3 = set(title3.lower().split())\n",
        "\n",
        "print(f\"'{title1}' vs '{title3}'\\n\")\n",
        "print(f\"Sets score: {computeSetScore(title1,title3):.2f}\")\n",
        "print(f\"Jaccard Index (NLTK): {1 - jaccard_distance(label1,label3):.2f}\")\n",
        "print(f\"MASI Distance (NLTK): {1 - masi_distance(label1,label3):.2f}\") "
      ],
      "metadata": {
        "colab": {
          "base_uri": "https://localhost:8080/"
        },
        "id": "96csK-Jy7mlQ",
        "outputId": "73f8fccd-b7bf-4b07-cfd9-2f4e763095cf"
      },
      "execution_count": 91,
      "outputs": [
        {
          "output_type": "stream",
          "name": "stdout",
          "text": [
            "'Zapatillas Nike' vs 'Zapatilla Nikes'\n",
            "\n",
            "Sets score: 0.00\n",
            "Jaccard Index (NLTK): 0.00\n",
            "MASI Distance (NLTK): 0.00\n"
          ]
        }
      ]
    },
    {
      "cell_type": "markdown",
      "source": [
        "Como puede apreciarse, nuestro score (tambien las distancias Jaccard y MASI) asigna similitud=0 a dos cadenas practicamente iguales!! \n",
        "\n",
        "Algo similar ocurre cuando comparamos los dos primeros titulos de nuestro dataset (ver segunda fila de sim_df, arriba). A pesar de tratarse de productos similares (Tenis, en ambos casos), debido a una pequenha diferencia ortografica, los scores basados en algebra de conjuntos le asignan similitud = 0. "
      ],
      "metadata": {
        "id": "B5o9EubVEC7G"
      }
    },
    {
      "cell_type": "code",
      "source": [
        "t1 = titles_df.iloc[0,0]\n",
        "t2 = titles_df.iloc[1,0]\n",
        "\n",
        "l1 = set(t1.lower().split())\n",
        "l2 = set(t2.lower().split())\n",
        "\n",
        "print(f\"Title 1:\\n'{t1}'\")\n",
        "print(f\"Title 2:\\n'{t2}'\\n\")\n",
        "print(f\"Sets score: {computeSetScore(t1,t2):.2f}\")\n",
        "print(f\"Jaccard Index (NLTK): {1 - jaccard_distance(l1,l2):.2f}\")\n",
        "print(f\"MASI Distance (NLTK): {1 - masi_distance(l1,l2):.2f}\")"
      ],
      "metadata": {
        "colab": {
          "base_uri": "https://localhost:8080/"
        },
        "id": "FPQI6v8Wuris",
        "outputId": "357e2b7a-978e-4a2c-8f15-6383a63ae696"
      },
      "execution_count": 93,
      "outputs": [
        {
          "output_type": "stream",
          "name": "stdout",
          "text": [
            "Title 1:\n",
            "'Tênis Ascension Posh Masculino - Preto E Vermelho '\n",
            "Title 2:\n",
            "'Tenis Para Caminhada Super Levinho Spider Corrida '\n",
            "\n",
            "Sets score: 0.00\n",
            "Jaccard Index (NLTK): 0.00\n",
            "MASI Distance (NLTK): 0.00\n"
          ]
        }
      ]
    },
    {
      "cell_type": "markdown",
      "source": [
        "Dependiendo de la logica de negocio, el fallo anterior pudiera ser no solo ineficaz, sino incluso problematico. Probemos una metrica alternativa a ver que tal se desempenha en este caso."
      ],
      "metadata": {
        "id": "FQo3yKSUuYZl"
      }
    },
    {
      "cell_type": "code",
      "source": [
        "def computeEditDistanceScore(title1, title2):\n",
        "  '''\n",
        "  Computes a similarity score using the Levenshtein edit-distance\n",
        "  '''\n",
        "  s1 = ''.join(title1.lower().split())\n",
        "  s2 = ''.join(title2.lower().split())\n",
        "\n",
        "  edit_dist = edit_distance(s1, s2)    # number of actions needed to transform s1 into s2\n",
        "\n",
        "  # a small computation to transform edit_dist into a 0-1 index\n",
        "  edit_score = 1/(edit_dist + 0.01)\n",
        "  \n",
        "  return edit_dist, edit_score\n"
      ],
      "metadata": {
        "id": "giJx4YfxFSGC"
      },
      "execution_count": 94,
      "outputs": []
    },
    {
      "cell_type": "code",
      "source": [
        "print(f\"'{title1}' vs '{title3}'\\n\")\n",
        "s1 = ''.join(title1.split())\n",
        "s3 = ''.join(title3.split())\n",
        "numb_edits, edit_score = computeEditDistanceScore(title1,title3)\n",
        "print(f\"Number of edits: {numb_edits}\")\n",
        "print(f\"Edit score: {edit_score:.2f}\\n\")\n",
        "\n",
        "\n",
        "print(f\"'{t1}' vs '{t2}'\\n\")\n",
        "s1 = ''.join(t1.lower().split())\n",
        "s2 = ''.join(t2.lower().split())\n",
        "numb_edits, edit_score = computeEditDistanceScore(t1,t2)\n",
        "print(f\"Number of edits: {numb_edits}\")\n",
        "print(f\"Edit score: {edit_score:.2f}\")"
      ],
      "metadata": {
        "colab": {
          "base_uri": "https://localhost:8080/"
        },
        "id": "pjFovRrxr2mR",
        "outputId": "ab7d8307-9786-4989-a6d4-b6940e5d2711"
      },
      "execution_count": 95,
      "outputs": [
        {
          "output_type": "stream",
          "name": "stdout",
          "text": [
            "'Zapatillas Nike' vs 'Zapatilla Nikes'\n",
            "\n",
            "Number of edits: 2\n",
            "Edit score: 0.50\n",
            "\n",
            "'Tênis Ascension Posh Masculino - Preto E Vermelho ' vs 'Tenis Para Caminhada Super Levinho Spider Corrida '\n",
            "\n",
            "Number of edits: 33\n",
            "Edit score: 0.03\n"
          ]
        }
      ]
    },
    {
      "cell_type": "markdown",
      "source": [
        "El score basado en el Levenshtein edit-distance es mas robusto ante errores ortograficos y otros pequenhos cambios entre titulos. \n",
        "\n",
        "Una ultima prueba para nuestros scores..."
      ],
      "metadata": {
        "id": "n7ZNboIzIlD2"
      }
    },
    {
      "cell_type": "code",
      "source": [
        "title4= 'Nike Zapatillas'     # invert the order\n",
        "label4 = set(title4.lower().split())\n",
        "s4 = ''.join(title4.split())\n",
        "edit_dist = edit_distance(s1, s4, transpositions = True)    # number of actions needed to transform s1 into s2\n",
        "# a small computation to trasnform edit_dist into a 0-1 index\n",
        "edit_score = 1/(edit_dist + 0.01)\n",
        "print(f\"'{title1}' vs '{title4}'\\n\")\n",
        "print(f\"Sets score: {computeSetScore(title1,title4):.2f}\")\n",
        "print(f\"Jaccard Index (NLTK): {1 - jaccard_distance(label1,label4):.2f}\")\n",
        "print(f\"MASI Distance (NLTK): {1 - masi_distance(label1,label4):.2f}\") \n",
        "print(f\"Number of edits needed: {edit_dist}\")\n",
        "print(f\"Edit-Distance score: {edit_score:.2f}\")\n"
      ],
      "metadata": {
        "colab": {
          "base_uri": "https://localhost:8080/"
        },
        "id": "uWsOZVp9IwKu",
        "outputId": "b2d912e2-5859-4f6f-b7e3-f49425667cdb"
      },
      "execution_count": 97,
      "outputs": [
        {
          "output_type": "stream",
          "name": "stdout",
          "text": [
            "'Zapatillas Nike' vs 'Nike Zapatillas'\n",
            "\n",
            "Sets score: 1.00\n",
            "Jaccard Index (NLTK): 1.00\n",
            "MASI Distance (NLTK): 1.00\n",
            "Number of edits needed: 36\n",
            "Edit-Distance score: 0.03\n"
          ]
        }
      ]
    },
    {
      "cell_type": "markdown",
      "source": [
        "En este ultimo caso nuestro score (al igual que la distancias Jaccard y MASI) reconocen ambos titulos como iguales; esto es, estan compuestos por los mismos elementos (pero sin notar el cambio de orden). Por su parte, para el edit_distance se trata de dos cadenas diferentes que necesitan transformaciones (8 en total). Esto puede resultar de utilidad -aun sin ser optimo. "
      ],
      "metadata": {
        "id": "7MSY5h_8i-Jl"
      }
    },
    {
      "cell_type": "markdown",
      "source": [
        "**Propuesta:**\n",
        "\n",
        "Dependiendo de las reglas y la logica del negocio, podria ser mas util calcular un score mas robusto, capaz de otorgar valores sensatos aun cuando existan diferencias entre los titulos (orden de los elementos, ortografia, etc.) En este caso, propongo un promedio de nuestros scores basados en algebra de conjuntos y Levenshtein edit-distance, respectivamente."
      ],
      "metadata": {
        "id": "eEMMrLdGkHb-"
      }
    },
    {
      "cell_type": "code",
      "source": [
        "def customScore2(title1, title2):\n",
        "  '''\n",
        "  Computes two similarity scores, using set algebra\n",
        "  and Levenshtein edit-distance respectively, then \n",
        "  return the average of the two.\n",
        "  '''\n",
        "\n",
        "  # convert to lowercase in order to ignore capitalization\n",
        "  # differences, then create sets\n",
        "  label1 = set(title1.lower().split())\n",
        "  label2 = set(title2.lower().split())\n",
        "  \n",
        "  union = label1.union(label2)\n",
        "  intersection = label1.intersection(label2)\n",
        "  complement = union - intersection\n",
        "  set_score = 1 if len(complement) == 0 else len(intersection)/len(complement)\n",
        "\n",
        "  # prepare strings for NLTK's edit_distance() function\n",
        "  s1 = ''.join(titles_df.iloc[0,0].split())\n",
        "  s2 = ''.join(titles_df.iloc[2,0].split())\n",
        "  edit_dist = edit_distance(s1, s2, transpositions = True)    # number of actions needed to transform s1 into s2\n",
        "  # a small computation to trasnform edit_dist into a 0-1 index\n",
        "  edit_score = 1/(edit_dist + 0.01)\n",
        "\n",
        "  return (set_score + edit_score)/2"
      ],
      "metadata": {
        "id": "Bj_8nq0KyPqF"
      },
      "execution_count": 20,
      "outputs": []
    },
    {
      "cell_type": "code",
      "source": [],
      "metadata": {
        "id": "KTko2QFaEpW-"
      },
      "execution_count": null,
      "outputs": []
    }
  ]
}