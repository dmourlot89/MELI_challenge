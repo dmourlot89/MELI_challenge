{
  "nbformat": 4,
  "nbformat_minor": 0,
  "metadata": {
    "colab": {
      "provenance": [],
      "collapsed_sections": [],
      "authorship_tag": "ABX9TyOm6lMRsh1+R7OptvPzw9AR",
      "include_colab_link": true
    },
    "kernelspec": {
      "name": "python3",
      "display_name": "Python 3"
    },
    "language_info": {
      "name": "python"
    }
  },
  "cells": [
    {
      "cell_type": "markdown",
      "metadata": {
        "id": "view-in-github",
        "colab_type": "text"
      },
      "source": [
        "<a href=\"https://colab.research.google.com/github/dmourlot89/MELI_challenge/blob/main/MELI_DSChallenge_Q1.ipynb\" target=\"_parent\"><img src=\"https://colab.research.google.com/assets/colab-badge.svg\" alt=\"Open In Colab\"/></a>"
      ]
    },
    {
      "cell_type": "markdown",
      "source": [
        "## 1. Explorar las ofertas relámpago, ¿qué insights puedes generar?\n",
        "\n",
        "**Descripción:**\n",
        "\n",
        "En conjunto con el desafío te compartimos un archivo llamado ofertas_relampago.csv, el cual posee información de los resultados de ofertas del tipo relampago para un periodo de tiempo y un país determinado.\n",
        "\n",
        "Es decir, son ofertas que tienen una duración definida de algunas horas y un porcentaje de unidades (stock) comprometidas. El objetivo de este desafío es hacer un EDA sobre estos datos buscando insights\n",
        "sobre este tipo de ofertas."
      ],
      "metadata": {
        "id": "VlN2HueNalmi"
      }
    },
    {
      "cell_type": "code",
      "source": [
        "# Import neccesary libraries and functions\n",
        "import pandas as pd\n",
        "import matplotlib.pyplot as plt\n",
        "import seaborn as sns"
      ],
      "metadata": {
        "id": "siDBu9YqhsBN"
      },
      "execution_count": null,
      "outputs": []
    },
    {
      "cell_type": "code",
      "source": [
        "# load dataset\n",
        "url = 'https://raw.githubusercontent.com/dmourlot89/MELI_challenge/main/ofertas_relampago.csv'\n",
        "\n",
        "or_df = pd.read_csv(url,parse_dates = [0,1,2], infer_datetime_format = True)"
      ],
      "metadata": {
        "id": "agiOmN2SbdS5"
      },
      "execution_count": null,
      "outputs": []
    },
    {
      "cell_type": "markdown",
      "source": [
        "### Resumen\n",
        "\n",
        "Datos Disponibles:\n",
        "Ofertas Relampago para cada uno de los 61 dias transcurridos entre el 1 de junio y el 31 de julio de 2021.\n",
        "\n",
        "**Principales insights encontrados:**\n",
        "\n",
        "- Los **productos 'Farmaceuticos' **fueron por mucho los mas vendidos durante el periodo, representando por si solos el **55% de todas las unidades vendidas**!\n",
        "\n",
        "- Si unimos la categoria de productos **'PHARMACEUTICS' a las de 'BEAUTY EQUIPMENT', 'HOME&DECOR' y 'COMPUTERS'**, tenemos una verdadera **distribucion de Pareto**, en la cual apenas un **11% de las categorias** agrupan aproximadamente el **80% de las unidades vendidas** durante el periodo. \n",
        "\n",
        "- Entre los **productos mas vendidos** destacan los de la categoria farmaceutica; **en especial las mascaras quirurgicas e industriales**, las cuales representan por si solas **mas del 50% de las ventas en el periodo **(!), los guantes desechables (5%) y los oximetros (3%). (Por supuesto, las mascaras quirurgicas e industriales son tambien, por mucho, las mas ofertadas.)\n",
        "\n",
        "- **De los 10 productos mas ofertados en el periodo, solo tres entran en el top 10 de los mas vendidos**. Estos son las mascaras quirurgicas e industriales, los auriculares, y los led strips. (Muy mal les fue a los relojes.)\n",
        "\n",
        "- A pesar de algunos altibajos, la **tendencia en el numero de ofertas relampago publicadas durante el periodo, fue ascendente**; con un pico notable en la segunda semana del mes de julio de 2021.\n",
        "\n",
        "- Durante el **mes de julio**, hubo un **crecimiento del 67% en la cantidad de ofertas**, con respecto a las del mes de junio. \n",
        "\n",
        "- La cantidad de unidades de productos vendidas cayo consecutivamente durante las ultimas dos semanas de Julio, justo en en el mismo periodo que se registra un alza de la cantidad de ofertas publicadas. No obstante, la cantidad de unidades vendidas en el mes de julio fue mas de dos veces superior a la del mes anterior. \n",
        "\n",
        "- Mientras que las ofertas tendieron a ser mayores los jueves, viernes y sabados; el numero de unidades vendidas tendio a disminuir hacia el final de la semana (incluyendo viernes y sabados).\n",
        "\n",
        "- El domingo no parece ser un buen dia para negocios."
      ],
      "metadata": {
        "id": "ikDEEWJuA5TJ"
      }
    },
    {
      "cell_type": "markdown",
      "source": [
        "## **Inspeccionar Dataset**\n",
        "\n",
        "- Familiarizarse con las columnas y sus valores.\n",
        "- Evaluar la calidad de los datos. \n",
        "- Asegurarse de que los tipos de datos sean los adecuados."
      ],
      "metadata": {
        "id": "ZiOK9dswOcwq"
      }
    },
    {
      "cell_type": "code",
      "source": [
        "print(f\"Dataset shape: {or_df.shape}\")"
      ],
      "metadata": {
        "id": "pOmeKHrDburo",
        "colab": {
          "base_uri": "https://localhost:8080/"
        },
        "outputId": "0a23abf3-8e33-4a46-aecf-6e6e208d4263"
      },
      "execution_count": null,
      "outputs": [
        {
          "output_type": "stream",
          "name": "stdout",
          "text": [
            "Dataset shape: (48746, 13)\n"
          ]
        }
      ]
    },
    {
      "cell_type": "code",
      "source": [
        "or_df.dtypes"
      ],
      "metadata": {
        "colab": {
          "base_uri": "https://localhost:8080/"
        },
        "id": "tXd1i-KgOwHb",
        "outputId": "262af555-ba02-43f1-880a-b0a75deb9d25"
      },
      "execution_count": null,
      "outputs": [
        {
          "output_type": "execute_result",
          "data": {
            "text/plain": [
              "OFFER_START_DATE                  datetime64[ns]\n",
              "OFFER_START_DTTM             datetime64[ns, UTC]\n",
              "OFFER_FINISH_DTTM            datetime64[ns, UTC]\n",
              "OFFER_TYPE                                object\n",
              "INVOLVED_STOCK                             int64\n",
              "REMAINING_STOCK_AFTER_END                  int64\n",
              "SOLD_AMOUNT                              float64\n",
              "SOLD_QUANTITY                            float64\n",
              "ORIGIN                                    object\n",
              "SHIPPING_PAYMENT_TYPE                     object\n",
              "DOM_DOMAIN_AGG1                           object\n",
              "VERTICAL                                  object\n",
              "DOMAIN_ID                                 object\n",
              "dtype: object"
            ]
          },
          "metadata": {},
          "execution_count": 34
        }
      ]
    },
    {
      "cell_type": "code",
      "source": [
        "or_df[or_df['REMAINING_STOCK_AFTER_END']<=0].head(10)"
      ],
      "metadata": {
        "colab": {
          "base_uri": "https://localhost:8080/",
          "height": 601
        },
        "id": "ZLZeKG_cOKs2",
        "outputId": "2575c9c9-3238-4a5e-eae8-ca8b9d8a3005"
      },
      "execution_count": null,
      "outputs": [
        {
          "output_type": "execute_result",
          "data": {
            "text/plain": [
              "   OFFER_START_DATE          OFFER_START_DTTM         OFFER_FINISH_DTTM  \\\n",
              "0        2021-06-22 2021-06-22 16:00:00+00:00 2021-06-22 23:02:43+00:00   \n",
              "4        2021-06-22 2021-06-22 13:00:00+00:00 2021-06-22 15:48:12+00:00   \n",
              "7        2021-06-22 2021-06-22 19:00:00+00:00 2021-06-22 23:05:39+00:00   \n",
              "8        2021-06-22 2021-06-22 19:00:00+00:00 2021-06-22 23:05:32+00:00   \n",
              "12       2021-06-22 2021-06-22 16:00:00+00:00 2021-06-22 22:04:05+00:00   \n",
              "17       2021-06-22 2021-06-22 19:00:00+00:00 2021-06-22 22:43:50+00:00   \n",
              "24       2021-06-22 2021-06-22 16:00:00+00:00 2021-06-22 18:03:56+00:00   \n",
              "26       2021-06-22 2021-06-22 19:00:00+00:00 2021-06-23 00:04:41+00:00   \n",
              "27       2021-06-22 2021-06-22 13:00:00+00:00 2021-06-22 15:46:03+00:00   \n",
              "29       2021-06-22 2021-06-22 13:00:00+00:00 2021-06-22 14:20:21+00:00   \n",
              "\n",
              "        OFFER_TYPE  INVOLVED_STOCK  REMAINING_STOCK_AFTER_END  SOLD_AMOUNT  \\\n",
              "0   lightning_deal               4                         -2         4.72   \n",
              "4   lightning_deal              15                          0        39.65   \n",
              "7   lightning_deal              10                         -1       103.03   \n",
              "8   lightning_deal              10                         -1          NaN   \n",
              "12  lightning_deal               9                          0        12.32   \n",
              "17  lightning_deal               5                          0        16.23   \n",
              "24  lightning_deal               8                          0         9.20   \n",
              "26  lightning_deal               5                          0        20.01   \n",
              "27  lightning_deal              15                          0        45.72   \n",
              "29  lightning_deal               5                         -4        12.18   \n",
              "\n",
              "    SOLD_QUANTITY ORIGIN SHIPPING_PAYMENT_TYPE         DOM_DOMAIN_AGG1  \\\n",
              "0             6.0      A                  none               PETS FOOD   \n",
              "4            15.0    NaN                  none               COMPUTERS   \n",
              "7            11.0    NaN         free_shipping               COMPUTERS   \n",
              "8             NaN    NaN         free_shipping               COMPUTERS   \n",
              "12            9.0      A                  none               PETS FOOD   \n",
              "17            5.0    NaN                  none                 APPAREL   \n",
              "24            8.0      A                  none               PETS FOOD   \n",
              "26            5.0    NaN         free_shipping  TOOLS AND CONSTRUCTION   \n",
              "27           15.0    NaN                  none  TOOLS AND CONSTRUCTION   \n",
              "29            9.0    NaN                  none              HOME&DECOR   \n",
              "\n",
              "           VERTICAL                          DOMAIN_ID  \n",
              "0               CPG                     MLM-BIRD_FOODS  \n",
              "4                CE                     MLM-HEADPHONES  \n",
              "7                CE                     MLM-HEADPHONES  \n",
              "8                CE                     MLM-HEADPHONES  \n",
              "12              CPG            MLM-CATS_AND_DOGS_FOODS  \n",
              "17     APP & SPORTS                       MLM-CLOTHING  \n",
              "24              CPG                     MLM-FISH_FOODS  \n",
              "26  HOME & INDUSTRY                   MLM-SHOWER_HEADS  \n",
              "27  HOME & INDUSTRY                   MLM-SHOWER_HEADS  \n",
              "29  HOME & INDUSTRY  MLM-SOAP_AND_DETERGENT_DISPENSERS  "
            ],
            "text/html": [
              "\n",
              "  <div id=\"df-c74d47ba-4ca5-48cb-8a1e-7fe188babd3a\">\n",
              "    <div class=\"colab-df-container\">\n",
              "      <div>\n",
              "<style scoped>\n",
              "    .dataframe tbody tr th:only-of-type {\n",
              "        vertical-align: middle;\n",
              "    }\n",
              "\n",
              "    .dataframe tbody tr th {\n",
              "        vertical-align: top;\n",
              "    }\n",
              "\n",
              "    .dataframe thead th {\n",
              "        text-align: right;\n",
              "    }\n",
              "</style>\n",
              "<table border=\"1\" class=\"dataframe\">\n",
              "  <thead>\n",
              "    <tr style=\"text-align: right;\">\n",
              "      <th></th>\n",
              "      <th>OFFER_START_DATE</th>\n",
              "      <th>OFFER_START_DTTM</th>\n",
              "      <th>OFFER_FINISH_DTTM</th>\n",
              "      <th>OFFER_TYPE</th>\n",
              "      <th>INVOLVED_STOCK</th>\n",
              "      <th>REMAINING_STOCK_AFTER_END</th>\n",
              "      <th>SOLD_AMOUNT</th>\n",
              "      <th>SOLD_QUANTITY</th>\n",
              "      <th>ORIGIN</th>\n",
              "      <th>SHIPPING_PAYMENT_TYPE</th>\n",
              "      <th>DOM_DOMAIN_AGG1</th>\n",
              "      <th>VERTICAL</th>\n",
              "      <th>DOMAIN_ID</th>\n",
              "    </tr>\n",
              "  </thead>\n",
              "  <tbody>\n",
              "    <tr>\n",
              "      <th>0</th>\n",
              "      <td>2021-06-22</td>\n",
              "      <td>2021-06-22 16:00:00+00:00</td>\n",
              "      <td>2021-06-22 23:02:43+00:00</td>\n",
              "      <td>lightning_deal</td>\n",
              "      <td>4</td>\n",
              "      <td>-2</td>\n",
              "      <td>4.72</td>\n",
              "      <td>6.0</td>\n",
              "      <td>A</td>\n",
              "      <td>none</td>\n",
              "      <td>PETS FOOD</td>\n",
              "      <td>CPG</td>\n",
              "      <td>MLM-BIRD_FOODS</td>\n",
              "    </tr>\n",
              "    <tr>\n",
              "      <th>4</th>\n",
              "      <td>2021-06-22</td>\n",
              "      <td>2021-06-22 13:00:00+00:00</td>\n",
              "      <td>2021-06-22 15:48:12+00:00</td>\n",
              "      <td>lightning_deal</td>\n",
              "      <td>15</td>\n",
              "      <td>0</td>\n",
              "      <td>39.65</td>\n",
              "      <td>15.0</td>\n",
              "      <td>NaN</td>\n",
              "      <td>none</td>\n",
              "      <td>COMPUTERS</td>\n",
              "      <td>CE</td>\n",
              "      <td>MLM-HEADPHONES</td>\n",
              "    </tr>\n",
              "    <tr>\n",
              "      <th>7</th>\n",
              "      <td>2021-06-22</td>\n",
              "      <td>2021-06-22 19:00:00+00:00</td>\n",
              "      <td>2021-06-22 23:05:39+00:00</td>\n",
              "      <td>lightning_deal</td>\n",
              "      <td>10</td>\n",
              "      <td>-1</td>\n",
              "      <td>103.03</td>\n",
              "      <td>11.0</td>\n",
              "      <td>NaN</td>\n",
              "      <td>free_shipping</td>\n",
              "      <td>COMPUTERS</td>\n",
              "      <td>CE</td>\n",
              "      <td>MLM-HEADPHONES</td>\n",
              "    </tr>\n",
              "    <tr>\n",
              "      <th>8</th>\n",
              "      <td>2021-06-22</td>\n",
              "      <td>2021-06-22 19:00:00+00:00</td>\n",
              "      <td>2021-06-22 23:05:32+00:00</td>\n",
              "      <td>lightning_deal</td>\n",
              "      <td>10</td>\n",
              "      <td>-1</td>\n",
              "      <td>NaN</td>\n",
              "      <td>NaN</td>\n",
              "      <td>NaN</td>\n",
              "      <td>free_shipping</td>\n",
              "      <td>COMPUTERS</td>\n",
              "      <td>CE</td>\n",
              "      <td>MLM-HEADPHONES</td>\n",
              "    </tr>\n",
              "    <tr>\n",
              "      <th>12</th>\n",
              "      <td>2021-06-22</td>\n",
              "      <td>2021-06-22 16:00:00+00:00</td>\n",
              "      <td>2021-06-22 22:04:05+00:00</td>\n",
              "      <td>lightning_deal</td>\n",
              "      <td>9</td>\n",
              "      <td>0</td>\n",
              "      <td>12.32</td>\n",
              "      <td>9.0</td>\n",
              "      <td>A</td>\n",
              "      <td>none</td>\n",
              "      <td>PETS FOOD</td>\n",
              "      <td>CPG</td>\n",
              "      <td>MLM-CATS_AND_DOGS_FOODS</td>\n",
              "    </tr>\n",
              "    <tr>\n",
              "      <th>17</th>\n",
              "      <td>2021-06-22</td>\n",
              "      <td>2021-06-22 19:00:00+00:00</td>\n",
              "      <td>2021-06-22 22:43:50+00:00</td>\n",
              "      <td>lightning_deal</td>\n",
              "      <td>5</td>\n",
              "      <td>0</td>\n",
              "      <td>16.23</td>\n",
              "      <td>5.0</td>\n",
              "      <td>NaN</td>\n",
              "      <td>none</td>\n",
              "      <td>APPAREL</td>\n",
              "      <td>APP &amp; SPORTS</td>\n",
              "      <td>MLM-CLOTHING</td>\n",
              "    </tr>\n",
              "    <tr>\n",
              "      <th>24</th>\n",
              "      <td>2021-06-22</td>\n",
              "      <td>2021-06-22 16:00:00+00:00</td>\n",
              "      <td>2021-06-22 18:03:56+00:00</td>\n",
              "      <td>lightning_deal</td>\n",
              "      <td>8</td>\n",
              "      <td>0</td>\n",
              "      <td>9.20</td>\n",
              "      <td>8.0</td>\n",
              "      <td>A</td>\n",
              "      <td>none</td>\n",
              "      <td>PETS FOOD</td>\n",
              "      <td>CPG</td>\n",
              "      <td>MLM-FISH_FOODS</td>\n",
              "    </tr>\n",
              "    <tr>\n",
              "      <th>26</th>\n",
              "      <td>2021-06-22</td>\n",
              "      <td>2021-06-22 19:00:00+00:00</td>\n",
              "      <td>2021-06-23 00:04:41+00:00</td>\n",
              "      <td>lightning_deal</td>\n",
              "      <td>5</td>\n",
              "      <td>0</td>\n",
              "      <td>20.01</td>\n",
              "      <td>5.0</td>\n",
              "      <td>NaN</td>\n",
              "      <td>free_shipping</td>\n",
              "      <td>TOOLS AND CONSTRUCTION</td>\n",
              "      <td>HOME &amp; INDUSTRY</td>\n",
              "      <td>MLM-SHOWER_HEADS</td>\n",
              "    </tr>\n",
              "    <tr>\n",
              "      <th>27</th>\n",
              "      <td>2021-06-22</td>\n",
              "      <td>2021-06-22 13:00:00+00:00</td>\n",
              "      <td>2021-06-22 15:46:03+00:00</td>\n",
              "      <td>lightning_deal</td>\n",
              "      <td>15</td>\n",
              "      <td>0</td>\n",
              "      <td>45.72</td>\n",
              "      <td>15.0</td>\n",
              "      <td>NaN</td>\n",
              "      <td>none</td>\n",
              "      <td>TOOLS AND CONSTRUCTION</td>\n",
              "      <td>HOME &amp; INDUSTRY</td>\n",
              "      <td>MLM-SHOWER_HEADS</td>\n",
              "    </tr>\n",
              "    <tr>\n",
              "      <th>29</th>\n",
              "      <td>2021-06-22</td>\n",
              "      <td>2021-06-22 13:00:00+00:00</td>\n",
              "      <td>2021-06-22 14:20:21+00:00</td>\n",
              "      <td>lightning_deal</td>\n",
              "      <td>5</td>\n",
              "      <td>-4</td>\n",
              "      <td>12.18</td>\n",
              "      <td>9.0</td>\n",
              "      <td>NaN</td>\n",
              "      <td>none</td>\n",
              "      <td>HOME&amp;DECOR</td>\n",
              "      <td>HOME &amp; INDUSTRY</td>\n",
              "      <td>MLM-SOAP_AND_DETERGENT_DISPENSERS</td>\n",
              "    </tr>\n",
              "  </tbody>\n",
              "</table>\n",
              "</div>\n",
              "      <button class=\"colab-df-convert\" onclick=\"convertToInteractive('df-c74d47ba-4ca5-48cb-8a1e-7fe188babd3a')\"\n",
              "              title=\"Convert this dataframe to an interactive table.\"\n",
              "              style=\"display:none;\">\n",
              "        \n",
              "  <svg xmlns=\"http://www.w3.org/2000/svg\" height=\"24px\"viewBox=\"0 0 24 24\"\n",
              "       width=\"24px\">\n",
              "    <path d=\"M0 0h24v24H0V0z\" fill=\"none\"/>\n",
              "    <path d=\"M18.56 5.44l.94 2.06.94-2.06 2.06-.94-2.06-.94-.94-2.06-.94 2.06-2.06.94zm-11 1L8.5 8.5l.94-2.06 2.06-.94-2.06-.94L8.5 2.5l-.94 2.06-2.06.94zm10 10l.94 2.06.94-2.06 2.06-.94-2.06-.94-.94-2.06-.94 2.06-2.06.94z\"/><path d=\"M17.41 7.96l-1.37-1.37c-.4-.4-.92-.59-1.43-.59-.52 0-1.04.2-1.43.59L10.3 9.45l-7.72 7.72c-.78.78-.78 2.05 0 2.83L4 21.41c.39.39.9.59 1.41.59.51 0 1.02-.2 1.41-.59l7.78-7.78 2.81-2.81c.8-.78.8-2.07 0-2.86zM5.41 20L4 18.59l7.72-7.72 1.47 1.35L5.41 20z\"/>\n",
              "  </svg>\n",
              "      </button>\n",
              "      \n",
              "  <style>\n",
              "    .colab-df-container {\n",
              "      display:flex;\n",
              "      flex-wrap:wrap;\n",
              "      gap: 12px;\n",
              "    }\n",
              "\n",
              "    .colab-df-convert {\n",
              "      background-color: #E8F0FE;\n",
              "      border: none;\n",
              "      border-radius: 50%;\n",
              "      cursor: pointer;\n",
              "      display: none;\n",
              "      fill: #1967D2;\n",
              "      height: 32px;\n",
              "      padding: 0 0 0 0;\n",
              "      width: 32px;\n",
              "    }\n",
              "\n",
              "    .colab-df-convert:hover {\n",
              "      background-color: #E2EBFA;\n",
              "      box-shadow: 0px 1px 2px rgba(60, 64, 67, 0.3), 0px 1px 3px 1px rgba(60, 64, 67, 0.15);\n",
              "      fill: #174EA6;\n",
              "    }\n",
              "\n",
              "    [theme=dark] .colab-df-convert {\n",
              "      background-color: #3B4455;\n",
              "      fill: #D2E3FC;\n",
              "    }\n",
              "\n",
              "    [theme=dark] .colab-df-convert:hover {\n",
              "      background-color: #434B5C;\n",
              "      box-shadow: 0px 1px 3px 1px rgba(0, 0, 0, 0.15);\n",
              "      filter: drop-shadow(0px 1px 2px rgba(0, 0, 0, 0.3));\n",
              "      fill: #FFFFFF;\n",
              "    }\n",
              "  </style>\n",
              "\n",
              "      <script>\n",
              "        const buttonEl =\n",
              "          document.querySelector('#df-c74d47ba-4ca5-48cb-8a1e-7fe188babd3a button.colab-df-convert');\n",
              "        buttonEl.style.display =\n",
              "          google.colab.kernel.accessAllowed ? 'block' : 'none';\n",
              "\n",
              "        async function convertToInteractive(key) {\n",
              "          const element = document.querySelector('#df-c74d47ba-4ca5-48cb-8a1e-7fe188babd3a');\n",
              "          const dataTable =\n",
              "            await google.colab.kernel.invokeFunction('convertToInteractive',\n",
              "                                                     [key], {});\n",
              "          if (!dataTable) return;\n",
              "\n",
              "          const docLinkHtml = 'Like what you see? Visit the ' +\n",
              "            '<a target=\"_blank\" href=https://colab.research.google.com/notebooks/data_table.ipynb>data table notebook</a>'\n",
              "            + ' to learn more about interactive tables.';\n",
              "          element.innerHTML = '';\n",
              "          dataTable['output_type'] = 'display_data';\n",
              "          await google.colab.output.renderOutput(dataTable, element);\n",
              "          const docLink = document.createElement('div');\n",
              "          docLink.innerHTML = docLinkHtml;\n",
              "          element.appendChild(docLink);\n",
              "        }\n",
              "      </script>\n",
              "    </div>\n",
              "  </div>\n",
              "  "
            ]
          },
          "metadata": {},
          "execution_count": 35
        }
      ]
    },
    {
      "cell_type": "markdown",
      "source": [
        "### Variables numericas"
      ],
      "metadata": {
        "id": "2-R7JGSTOSxa"
      }
    },
    {
      "cell_type": "code",
      "source": [
        "or_df.describe(percentiles = [.1, .90])"
      ],
      "metadata": {
        "colab": {
          "base_uri": "https://localhost:8080/",
          "height": 300
        },
        "id": "DZ0fcYONiIE0",
        "outputId": "7d576047-d926-4eb5-de71-0089cfd620ca"
      },
      "execution_count": null,
      "outputs": [
        {
          "output_type": "execute_result",
          "data": {
            "text/plain": [
              "       INVOLVED_STOCK  REMAINING_STOCK_AFTER_END   SOLD_AMOUNT  SOLD_QUANTITY\n",
              "count    48746.000000               48746.000000  24579.000000   24579.000000\n",
              "mean        35.007508                  30.565216     51.208898      10.851052\n",
              "std        206.761058                 195.813806    175.254414      45.475305\n",
              "min          1.000000                -192.000000      0.280000       1.000000\n",
              "10%          5.000000                   1.000000      2.918000       1.000000\n",
              "50%         10.000000                   8.000000     12.420000       3.000000\n",
              "90%         30.000000                  24.000000     86.990000      15.000000\n",
              "max       9000.000000                8635.000000   4836.570000    1646.000000"
            ],
            "text/html": [
              "\n",
              "  <div id=\"df-e61e31a3-74ad-4abf-b2c3-45ddb4489bd8\">\n",
              "    <div class=\"colab-df-container\">\n",
              "      <div>\n",
              "<style scoped>\n",
              "    .dataframe tbody tr th:only-of-type {\n",
              "        vertical-align: middle;\n",
              "    }\n",
              "\n",
              "    .dataframe tbody tr th {\n",
              "        vertical-align: top;\n",
              "    }\n",
              "\n",
              "    .dataframe thead th {\n",
              "        text-align: right;\n",
              "    }\n",
              "</style>\n",
              "<table border=\"1\" class=\"dataframe\">\n",
              "  <thead>\n",
              "    <tr style=\"text-align: right;\">\n",
              "      <th></th>\n",
              "      <th>INVOLVED_STOCK</th>\n",
              "      <th>REMAINING_STOCK_AFTER_END</th>\n",
              "      <th>SOLD_AMOUNT</th>\n",
              "      <th>SOLD_QUANTITY</th>\n",
              "    </tr>\n",
              "  </thead>\n",
              "  <tbody>\n",
              "    <tr>\n",
              "      <th>count</th>\n",
              "      <td>48746.000000</td>\n",
              "      <td>48746.000000</td>\n",
              "      <td>24579.000000</td>\n",
              "      <td>24579.000000</td>\n",
              "    </tr>\n",
              "    <tr>\n",
              "      <th>mean</th>\n",
              "      <td>35.007508</td>\n",
              "      <td>30.565216</td>\n",
              "      <td>51.208898</td>\n",
              "      <td>10.851052</td>\n",
              "    </tr>\n",
              "    <tr>\n",
              "      <th>std</th>\n",
              "      <td>206.761058</td>\n",
              "      <td>195.813806</td>\n",
              "      <td>175.254414</td>\n",
              "      <td>45.475305</td>\n",
              "    </tr>\n",
              "    <tr>\n",
              "      <th>min</th>\n",
              "      <td>1.000000</td>\n",
              "      <td>-192.000000</td>\n",
              "      <td>0.280000</td>\n",
              "      <td>1.000000</td>\n",
              "    </tr>\n",
              "    <tr>\n",
              "      <th>10%</th>\n",
              "      <td>5.000000</td>\n",
              "      <td>1.000000</td>\n",
              "      <td>2.918000</td>\n",
              "      <td>1.000000</td>\n",
              "    </tr>\n",
              "    <tr>\n",
              "      <th>50%</th>\n",
              "      <td>10.000000</td>\n",
              "      <td>8.000000</td>\n",
              "      <td>12.420000</td>\n",
              "      <td>3.000000</td>\n",
              "    </tr>\n",
              "    <tr>\n",
              "      <th>90%</th>\n",
              "      <td>30.000000</td>\n",
              "      <td>24.000000</td>\n",
              "      <td>86.990000</td>\n",
              "      <td>15.000000</td>\n",
              "    </tr>\n",
              "    <tr>\n",
              "      <th>max</th>\n",
              "      <td>9000.000000</td>\n",
              "      <td>8635.000000</td>\n",
              "      <td>4836.570000</td>\n",
              "      <td>1646.000000</td>\n",
              "    </tr>\n",
              "  </tbody>\n",
              "</table>\n",
              "</div>\n",
              "      <button class=\"colab-df-convert\" onclick=\"convertToInteractive('df-e61e31a3-74ad-4abf-b2c3-45ddb4489bd8')\"\n",
              "              title=\"Convert this dataframe to an interactive table.\"\n",
              "              style=\"display:none;\">\n",
              "        \n",
              "  <svg xmlns=\"http://www.w3.org/2000/svg\" height=\"24px\"viewBox=\"0 0 24 24\"\n",
              "       width=\"24px\">\n",
              "    <path d=\"M0 0h24v24H0V0z\" fill=\"none\"/>\n",
              "    <path d=\"M18.56 5.44l.94 2.06.94-2.06 2.06-.94-2.06-.94-.94-2.06-.94 2.06-2.06.94zm-11 1L8.5 8.5l.94-2.06 2.06-.94-2.06-.94L8.5 2.5l-.94 2.06-2.06.94zm10 10l.94 2.06.94-2.06 2.06-.94-2.06-.94-.94-2.06-.94 2.06-2.06.94z\"/><path d=\"M17.41 7.96l-1.37-1.37c-.4-.4-.92-.59-1.43-.59-.52 0-1.04.2-1.43.59L10.3 9.45l-7.72 7.72c-.78.78-.78 2.05 0 2.83L4 21.41c.39.39.9.59 1.41.59.51 0 1.02-.2 1.41-.59l7.78-7.78 2.81-2.81c.8-.78.8-2.07 0-2.86zM5.41 20L4 18.59l7.72-7.72 1.47 1.35L5.41 20z\"/>\n",
              "  </svg>\n",
              "      </button>\n",
              "      \n",
              "  <style>\n",
              "    .colab-df-container {\n",
              "      display:flex;\n",
              "      flex-wrap:wrap;\n",
              "      gap: 12px;\n",
              "    }\n",
              "\n",
              "    .colab-df-convert {\n",
              "      background-color: #E8F0FE;\n",
              "      border: none;\n",
              "      border-radius: 50%;\n",
              "      cursor: pointer;\n",
              "      display: none;\n",
              "      fill: #1967D2;\n",
              "      height: 32px;\n",
              "      padding: 0 0 0 0;\n",
              "      width: 32px;\n",
              "    }\n",
              "\n",
              "    .colab-df-convert:hover {\n",
              "      background-color: #E2EBFA;\n",
              "      box-shadow: 0px 1px 2px rgba(60, 64, 67, 0.3), 0px 1px 3px 1px rgba(60, 64, 67, 0.15);\n",
              "      fill: #174EA6;\n",
              "    }\n",
              "\n",
              "    [theme=dark] .colab-df-convert {\n",
              "      background-color: #3B4455;\n",
              "      fill: #D2E3FC;\n",
              "    }\n",
              "\n",
              "    [theme=dark] .colab-df-convert:hover {\n",
              "      background-color: #434B5C;\n",
              "      box-shadow: 0px 1px 3px 1px rgba(0, 0, 0, 0.15);\n",
              "      filter: drop-shadow(0px 1px 2px rgba(0, 0, 0, 0.3));\n",
              "      fill: #FFFFFF;\n",
              "    }\n",
              "  </style>\n",
              "\n",
              "      <script>\n",
              "        const buttonEl =\n",
              "          document.querySelector('#df-e61e31a3-74ad-4abf-b2c3-45ddb4489bd8 button.colab-df-convert');\n",
              "        buttonEl.style.display =\n",
              "          google.colab.kernel.accessAllowed ? 'block' : 'none';\n",
              "\n",
              "        async function convertToInteractive(key) {\n",
              "          const element = document.querySelector('#df-e61e31a3-74ad-4abf-b2c3-45ddb4489bd8');\n",
              "          const dataTable =\n",
              "            await google.colab.kernel.invokeFunction('convertToInteractive',\n",
              "                                                     [key], {});\n",
              "          if (!dataTable) return;\n",
              "\n",
              "          const docLinkHtml = 'Like what you see? Visit the ' +\n",
              "            '<a target=\"_blank\" href=https://colab.research.google.com/notebooks/data_table.ipynb>data table notebook</a>'\n",
              "            + ' to learn more about interactive tables.';\n",
              "          element.innerHTML = '';\n",
              "          dataTable['output_type'] = 'display_data';\n",
              "          await google.colab.output.renderOutput(dataTable, element);\n",
              "          const docLink = document.createElement('div');\n",
              "          docLink.innerHTML = docLinkHtml;\n",
              "          element.appendChild(docLink);\n",
              "        }\n",
              "      </script>\n",
              "    </div>\n",
              "  </div>\n",
              "  "
            ]
          },
          "metadata": {},
          "execution_count": 36
        }
      ]
    },
    {
      "cell_type": "markdown",
      "source": [
        "- Relativamente pocas unidades comprometidas (30 o menos, en el 90% de los casos).\n",
        "- Montos de compra relativamente bajos (90 pesos o menos, en el 90%  de los casos, 8 pesos o menos en el 50% de ellos).\n",
        "- 50% de las ventas son de 3 unidades o menos!\n",
        "\n",
        "**NOTA:** Solo la mitad aproximadamente de las ofertas (filas) contienen informacion de cantidad vendida y monto de la compra."
      ],
      "metadata": {
        "id": "V3hYAp8JE8Bc"
      }
    },
    {
      "cell_type": "markdown",
      "source": [
        "### Variables Categoricas"
      ],
      "metadata": {
        "id": "zpjiMnCNO03h"
      }
    },
    {
      "cell_type": "markdown",
      "source": [
        "Las siguientes columnas no parecen aportar mucha informacion, debido a que contienen muchos valores invalidos/inexistentes o porque contienen un unico valor."
      ],
      "metadata": {
        "id": "S2fPmPMSUQnU"
      }
    },
    {
      "cell_type": "code",
      "source": [
        "or_df['OFFER_TYPE'].value_counts()"
      ],
      "metadata": {
        "colab": {
          "base_uri": "https://localhost:8080/"
        },
        "id": "8HKJyYveUnm9",
        "outputId": "035c608e-80fa-422a-b133-bf1fdce07477"
      },
      "execution_count": null,
      "outputs": [
        {
          "output_type": "execute_result",
          "data": {
            "text/plain": [
              "lightning_deal    48746\n",
              "Name: OFFER_TYPE, dtype: int64"
            ]
          },
          "metadata": {},
          "execution_count": 37
        }
      ]
    },
    {
      "cell_type": "code",
      "source": [
        "or_df['ORIGIN'].value_counts()"
      ],
      "metadata": {
        "colab": {
          "base_uri": "https://localhost:8080/"
        },
        "id": "XUKsuAlsTves",
        "outputId": "634a01ae-8512-41a9-f139-57595ee7dba8"
      },
      "execution_count": null,
      "outputs": [
        {
          "output_type": "execute_result",
          "data": {
            "text/plain": [
              "A    11316\n",
              "Name: ORIGIN, dtype: int64"
            ]
          },
          "metadata": {},
          "execution_count": 38
        }
      ]
    },
    {
      "cell_type": "code",
      "source": [
        "or_df['SHIPPING_PAYMENT_TYPE'].value_counts()"
      ],
      "metadata": {
        "colab": {
          "base_uri": "https://localhost:8080/"
        },
        "id": "uT6uE7U1UGqx",
        "outputId": "86863a3d-333c-4d07-b732-ab1aeec018a4"
      },
      "execution_count": null,
      "outputs": [
        {
          "output_type": "execute_result",
          "data": {
            "text/plain": [
              "free_shipping    26658\n",
              "none             22088\n",
              "Name: SHIPPING_PAYMENT_TYPE, dtype: int64"
            ]
          },
          "metadata": {},
          "execution_count": 39
        }
      ]
    },
    {
      "cell_type": "code",
      "source": [
        "vert = pd.DataFrame(or_df['VERTICAL'].value_counts())\n",
        "total = or_df.shape[0]\n",
        "vert['pctg'] = vert.iloc[:,0]/total\n",
        "vert"
      ],
      "metadata": {
        "colab": {
          "base_uri": "https://localhost:8080/",
          "height": 332
        },
        "id": "LpHz0mQ7WXgv",
        "outputId": "105bc1ed-8b9b-46d4-9f8e-a99fe1847e7b"
      },
      "execution_count": null,
      "outputs": [
        {
          "output_type": "execute_result",
          "data": {
            "text/plain": [
              "                 VERTICAL      pctg\n",
              "APP & SPORTS        13241  0.271633\n",
              "HOME & INDUSTRY     11011  0.225885\n",
              "CE                   8629  0.177020\n",
              "BEAUTY & HEALTH      7150  0.146679\n",
              "CPG                  2714  0.055676\n",
              "T & B                2624  0.053830\n",
              "ACC                  2573  0.052784\n",
              "ENTERTAINMENT         525  0.010770\n",
              "OTHERS                279  0.005724"
            ],
            "text/html": [
              "\n",
              "  <div id=\"df-3e420438-05d5-4220-9a34-1938be64d3d3\">\n",
              "    <div class=\"colab-df-container\">\n",
              "      <div>\n",
              "<style scoped>\n",
              "    .dataframe tbody tr th:only-of-type {\n",
              "        vertical-align: middle;\n",
              "    }\n",
              "\n",
              "    .dataframe tbody tr th {\n",
              "        vertical-align: top;\n",
              "    }\n",
              "\n",
              "    .dataframe thead th {\n",
              "        text-align: right;\n",
              "    }\n",
              "</style>\n",
              "<table border=\"1\" class=\"dataframe\">\n",
              "  <thead>\n",
              "    <tr style=\"text-align: right;\">\n",
              "      <th></th>\n",
              "      <th>VERTICAL</th>\n",
              "      <th>pctg</th>\n",
              "    </tr>\n",
              "  </thead>\n",
              "  <tbody>\n",
              "    <tr>\n",
              "      <th>APP &amp; SPORTS</th>\n",
              "      <td>13241</td>\n",
              "      <td>0.271633</td>\n",
              "    </tr>\n",
              "    <tr>\n",
              "      <th>HOME &amp; INDUSTRY</th>\n",
              "      <td>11011</td>\n",
              "      <td>0.225885</td>\n",
              "    </tr>\n",
              "    <tr>\n",
              "      <th>CE</th>\n",
              "      <td>8629</td>\n",
              "      <td>0.177020</td>\n",
              "    </tr>\n",
              "    <tr>\n",
              "      <th>BEAUTY &amp; HEALTH</th>\n",
              "      <td>7150</td>\n",
              "      <td>0.146679</td>\n",
              "    </tr>\n",
              "    <tr>\n",
              "      <th>CPG</th>\n",
              "      <td>2714</td>\n",
              "      <td>0.055676</td>\n",
              "    </tr>\n",
              "    <tr>\n",
              "      <th>T &amp; B</th>\n",
              "      <td>2624</td>\n",
              "      <td>0.053830</td>\n",
              "    </tr>\n",
              "    <tr>\n",
              "      <th>ACC</th>\n",
              "      <td>2573</td>\n",
              "      <td>0.052784</td>\n",
              "    </tr>\n",
              "    <tr>\n",
              "      <th>ENTERTAINMENT</th>\n",
              "      <td>525</td>\n",
              "      <td>0.010770</td>\n",
              "    </tr>\n",
              "    <tr>\n",
              "      <th>OTHERS</th>\n",
              "      <td>279</td>\n",
              "      <td>0.005724</td>\n",
              "    </tr>\n",
              "  </tbody>\n",
              "</table>\n",
              "</div>\n",
              "      <button class=\"colab-df-convert\" onclick=\"convertToInteractive('df-3e420438-05d5-4220-9a34-1938be64d3d3')\"\n",
              "              title=\"Convert this dataframe to an interactive table.\"\n",
              "              style=\"display:none;\">\n",
              "        \n",
              "  <svg xmlns=\"http://www.w3.org/2000/svg\" height=\"24px\"viewBox=\"0 0 24 24\"\n",
              "       width=\"24px\">\n",
              "    <path d=\"M0 0h24v24H0V0z\" fill=\"none\"/>\n",
              "    <path d=\"M18.56 5.44l.94 2.06.94-2.06 2.06-.94-2.06-.94-.94-2.06-.94 2.06-2.06.94zm-11 1L8.5 8.5l.94-2.06 2.06-.94-2.06-.94L8.5 2.5l-.94 2.06-2.06.94zm10 10l.94 2.06.94-2.06 2.06-.94-2.06-.94-.94-2.06-.94 2.06-2.06.94z\"/><path d=\"M17.41 7.96l-1.37-1.37c-.4-.4-.92-.59-1.43-.59-.52 0-1.04.2-1.43.59L10.3 9.45l-7.72 7.72c-.78.78-.78 2.05 0 2.83L4 21.41c.39.39.9.59 1.41.59.51 0 1.02-.2 1.41-.59l7.78-7.78 2.81-2.81c.8-.78.8-2.07 0-2.86zM5.41 20L4 18.59l7.72-7.72 1.47 1.35L5.41 20z\"/>\n",
              "  </svg>\n",
              "      </button>\n",
              "      \n",
              "  <style>\n",
              "    .colab-df-container {\n",
              "      display:flex;\n",
              "      flex-wrap:wrap;\n",
              "      gap: 12px;\n",
              "    }\n",
              "\n",
              "    .colab-df-convert {\n",
              "      background-color: #E8F0FE;\n",
              "      border: none;\n",
              "      border-radius: 50%;\n",
              "      cursor: pointer;\n",
              "      display: none;\n",
              "      fill: #1967D2;\n",
              "      height: 32px;\n",
              "      padding: 0 0 0 0;\n",
              "      width: 32px;\n",
              "    }\n",
              "\n",
              "    .colab-df-convert:hover {\n",
              "      background-color: #E2EBFA;\n",
              "      box-shadow: 0px 1px 2px rgba(60, 64, 67, 0.3), 0px 1px 3px 1px rgba(60, 64, 67, 0.15);\n",
              "      fill: #174EA6;\n",
              "    }\n",
              "\n",
              "    [theme=dark] .colab-df-convert {\n",
              "      background-color: #3B4455;\n",
              "      fill: #D2E3FC;\n",
              "    }\n",
              "\n",
              "    [theme=dark] .colab-df-convert:hover {\n",
              "      background-color: #434B5C;\n",
              "      box-shadow: 0px 1px 3px 1px rgba(0, 0, 0, 0.15);\n",
              "      filter: drop-shadow(0px 1px 2px rgba(0, 0, 0, 0.3));\n",
              "      fill: #FFFFFF;\n",
              "    }\n",
              "  </style>\n",
              "\n",
              "      <script>\n",
              "        const buttonEl =\n",
              "          document.querySelector('#df-3e420438-05d5-4220-9a34-1938be64d3d3 button.colab-df-convert');\n",
              "        buttonEl.style.display =\n",
              "          google.colab.kernel.accessAllowed ? 'block' : 'none';\n",
              "\n",
              "        async function convertToInteractive(key) {\n",
              "          const element = document.querySelector('#df-3e420438-05d5-4220-9a34-1938be64d3d3');\n",
              "          const dataTable =\n",
              "            await google.colab.kernel.invokeFunction('convertToInteractive',\n",
              "                                                     [key], {});\n",
              "          if (!dataTable) return;\n",
              "\n",
              "          const docLinkHtml = 'Like what you see? Visit the ' +\n",
              "            '<a target=\"_blank\" href=https://colab.research.google.com/notebooks/data_table.ipynb>data table notebook</a>'\n",
              "            + ' to learn more about interactive tables.';\n",
              "          element.innerHTML = '';\n",
              "          dataTable['output_type'] = 'display_data';\n",
              "          await google.colab.output.renderOutput(dataTable, element);\n",
              "          const docLink = document.createElement('div');\n",
              "          docLink.innerHTML = docLinkHtml;\n",
              "          element.appendChild(docLink);\n",
              "        }\n",
              "      </script>\n",
              "    </div>\n",
              "  </div>\n",
              "  "
            ]
          },
          "metadata": {},
          "execution_count": 40
        }
      ]
    },
    {
      "cell_type": "markdown",
      "source": [
        "- Las categorias 'APP & SPORTS' and 'HOME & INDUSTRY' representan el 50% de los verticales en oferta. (Agregando las categorias 'CE' y 'BEAUTY & HEALTH' se alcanza el 80 %.)"
      ],
      "metadata": {
        "id": "MeBEO6YNXagT"
      }
    },
    {
      "cell_type": "code",
      "source": [
        "or_df.VERTICAL.value_counts().plot(kind=\"bar\",\n",
        "                           title=\"Vertical types\",\n",
        "                           rot=90,\n",
        "                           xlabel=\"Vertical\",\n",
        "                           ylabel=\"Offers\")"
      ],
      "metadata": {
        "colab": {
          "base_uri": "https://localhost:8080/",
          "height": 397
        },
        "id": "fMFQ8OotoTgo",
        "outputId": "e560f717-abb3-4fac-d50e-afa56d1817ec"
      },
      "execution_count": null,
      "outputs": [
        {
          "output_type": "execute_result",
          "data": {
            "text/plain": [
              "<matplotlib.axes._subplots.AxesSubplot at 0x7ff8db90ff50>"
            ]
          },
          "metadata": {},
          "execution_count": 41
        },
        {
          "output_type": "display_data",
          "data": {
            "text/plain": [
              "<Figure size 432x288 with 1 Axes>"
            ],
            "image/png": "[encoded data removed]"
          },
          "metadata": {
            "needs_background": "light"
          }
        }
      ]
    },
    {
      "cell_type": "code",
      "source": [
        "dom_domain = pd.DataFrame(or_df['DOM_DOMAIN_AGG1'].value_counts())\n",
        "total = or_df.shape[0]\n",
        "dom_domain['pctg'] = dom_domain.iloc[:,0]/total\n",
        "dom_domain.head(10)"
      ],
      "metadata": {
        "colab": {
          "base_uri": "https://localhost:8080/",
          "height": 363
        },
        "id": "nzIpDa3VU8ci",
        "outputId": "2ad1ac67-de90-468b-930d-a23a5169ec08"
      },
      "execution_count": null,
      "outputs": [
        {
          "output_type": "execute_result",
          "data": {
            "text/plain": [
              "                    DOM_DOMAIN_AGG1      pctg\n",
              "HOME&DECOR                     6742  0.138309\n",
              "APPAREL ACCESORIES             4387  0.089997\n",
              "APPAREL                        3856  0.079104\n",
              "COMPUTERS                      3770  0.077340\n",
              "SPORTS                         3289  0.067472\n",
              "PHARMACEUTICS                  3035  0.062262\n",
              "ELECTRONICS                    3018  0.061913\n",
              "PERSONAL CARE                  3016  0.061872\n",
              "MOBILE                         1841  0.037767\n",
              "AUTOPARTS                      1696  0.034793"
            ],
            "text/html": [
              "\n",
              "  <div id=\"df-9f6c5aab-d9bc-4af3-be47-84af0b8456c5\">\n",
              "    <div class=\"colab-df-container\">\n",
              "      <div>\n",
              "<style scoped>\n",
              "    .dataframe tbody tr th:only-of-type {\n",
              "        vertical-align: middle;\n",
              "    }\n",
              "\n",
              "    .dataframe tbody tr th {\n",
              "        vertical-align: top;\n",
              "    }\n",
              "\n",
              "    .dataframe thead th {\n",
              "        text-align: right;\n",
              "    }\n",
              "</style>\n",
              "<table border=\"1\" class=\"dataframe\">\n",
              "  <thead>\n",
              "    <tr style=\"text-align: right;\">\n",
              "      <th></th>\n",
              "      <th>DOM_DOMAIN_AGG1</th>\n",
              "      <th>pctg</th>\n",
              "    </tr>\n",
              "  </thead>\n",
              "  <tbody>\n",
              "    <tr>\n",
              "      <th>HOME&amp;DECOR</th>\n",
              "      <td>6742</td>\n",
              "      <td>0.138309</td>\n",
              "    </tr>\n",
              "    <tr>\n",
              "      <th>APPAREL ACCESORIES</th>\n",
              "      <td>4387</td>\n",
              "      <td>0.089997</td>\n",
              "    </tr>\n",
              "    <tr>\n",
              "      <th>APPAREL</th>\n",
              "      <td>3856</td>\n",
              "      <td>0.079104</td>\n",
              "    </tr>\n",
              "    <tr>\n",
              "      <th>COMPUTERS</th>\n",
              "      <td>3770</td>\n",
              "      <td>0.077340</td>\n",
              "    </tr>\n",
              "    <tr>\n",
              "      <th>SPORTS</th>\n",
              "      <td>3289</td>\n",
              "      <td>0.067472</td>\n",
              "    </tr>\n",
              "    <tr>\n",
              "      <th>PHARMACEUTICS</th>\n",
              "      <td>3035</td>\n",
              "      <td>0.062262</td>\n",
              "    </tr>\n",
              "    <tr>\n",
              "      <th>ELECTRONICS</th>\n",
              "      <td>3018</td>\n",
              "      <td>0.061913</td>\n",
              "    </tr>\n",
              "    <tr>\n",
              "      <th>PERSONAL CARE</th>\n",
              "      <td>3016</td>\n",
              "      <td>0.061872</td>\n",
              "    </tr>\n",
              "    <tr>\n",
              "      <th>MOBILE</th>\n",
              "      <td>1841</td>\n",
              "      <td>0.037767</td>\n",
              "    </tr>\n",
              "    <tr>\n",
              "      <th>AUTOPARTS</th>\n",
              "      <td>1696</td>\n",
              "      <td>0.034793</td>\n",
              "    </tr>\n",
              "  </tbody>\n",
              "</table>\n",
              "</div>\n",
              "      <button class=\"colab-df-convert\" onclick=\"convertToInteractive('df-9f6c5aab-d9bc-4af3-be47-84af0b8456c5')\"\n",
              "              title=\"Convert this dataframe to an interactive table.\"\n",
              "              style=\"display:none;\">\n",
              "        \n",
              "  <svg xmlns=\"http://www.w3.org/2000/svg\" height=\"24px\"viewBox=\"0 0 24 24\"\n",
              "       width=\"24px\">\n",
              "    <path d=\"M0 0h24v24H0V0z\" fill=\"none\"/>\n",
              "    <path d=\"M18.56 5.44l.94 2.06.94-2.06 2.06-.94-2.06-.94-.94-2.06-.94 2.06-2.06.94zm-11 1L8.5 8.5l.94-2.06 2.06-.94-2.06-.94L8.5 2.5l-.94 2.06-2.06.94zm10 10l.94 2.06.94-2.06 2.06-.94-2.06-.94-.94-2.06-.94 2.06-2.06.94z\"/><path d=\"M17.41 7.96l-1.37-1.37c-.4-.4-.92-.59-1.43-.59-.52 0-1.04.2-1.43.59L10.3 9.45l-7.72 7.72c-.78.78-.78 2.05 0 2.83L4 21.41c.39.39.9.59 1.41.59.51 0 1.02-.2 1.41-.59l7.78-7.78 2.81-2.81c.8-.78.8-2.07 0-2.86zM5.41 20L4 18.59l7.72-7.72 1.47 1.35L5.41 20z\"/>\n",
              "  </svg>\n",
              "      </button>\n",
              "      \n",
              "  <style>\n",
              "    .colab-df-container {\n",
              "      display:flex;\n",
              "      flex-wrap:wrap;\n",
              "      gap: 12px;\n",
              "    }\n",
              "\n",
              "    .colab-df-convert {\n",
              "      background-color: #E8F0FE;\n",
              "      border: none;\n",
              "      border-radius: 50%;\n",
              "      cursor: pointer;\n",
              "      display: none;\n",
              "      fill: #1967D2;\n",
              "      height: 32px;\n",
              "      padding: 0 0 0 0;\n",
              "      width: 32px;\n",
              "    }\n",
              "\n",
              "    .colab-df-convert:hover {\n",
              "      background-color: #E2EBFA;\n",
              "      box-shadow: 0px 1px 2px rgba(60, 64, 67, 0.3), 0px 1px 3px 1px rgba(60, 64, 67, 0.15);\n",
              "      fill: #174EA6;\n",
              "    }\n",
              "\n",
              "    [theme=dark] .colab-df-convert {\n",
              "      background-color: #3B4455;\n",
              "      fill: #D2E3FC;\n",
              "    }\n",
              "\n",
              "    [theme=dark] .colab-df-convert:hover {\n",
              "      background-color: #434B5C;\n",
              "      box-shadow: 0px 1px 3px 1px rgba(0, 0, 0, 0.15);\n",
              "      filter: drop-shadow(0px 1px 2px rgba(0, 0, 0, 0.3));\n",
              "      fill: #FFFFFF;\n",
              "    }\n",
              "  </style>\n",
              "\n",
              "      <script>\n",
              "        const buttonEl =\n",
              "          document.querySelector('#df-9f6c5aab-d9bc-4af3-be47-84af0b8456c5 button.colab-df-convert');\n",
              "        buttonEl.style.display =\n",
              "          google.colab.kernel.accessAllowed ? 'block' : 'none';\n",
              "\n",
              "        async function convertToInteractive(key) {\n",
              "          const element = document.querySelector('#df-9f6c5aab-d9bc-4af3-be47-84af0b8456c5');\n",
              "          const dataTable =\n",
              "            await google.colab.kernel.invokeFunction('convertToInteractive',\n",
              "                                                     [key], {});\n",
              "          if (!dataTable) return;\n",
              "\n",
              "          const docLinkHtml = 'Like what you see? Visit the ' +\n",
              "            '<a target=\"_blank\" href=https://colab.research.google.com/notebooks/data_table.ipynb>data table notebook</a>'\n",
              "            + ' to learn more about interactive tables.';\n",
              "          element.innerHTML = '';\n",
              "          dataTable['output_type'] = 'display_data';\n",
              "          await google.colab.output.renderOutput(dataTable, element);\n",
              "          const docLink = document.createElement('div');\n",
              "          docLink.innerHTML = docLinkHtml;\n",
              "          element.appendChild(docLink);\n",
              "        }\n",
              "      </script>\n",
              "    </div>\n",
              "  </div>\n",
              "  "
            ]
          },
          "metadata": {},
          "execution_count": 42
        }
      ]
    },
    {
      "cell_type": "code",
      "source": [
        "or_df['DOMAIN_ID'].value_counts()"
      ],
      "metadata": {
        "colab": {
          "base_uri": "https://localhost:8080/"
        },
        "id": "ADVUpXYlVM2v",
        "outputId": "7cf3bbcf-2dcd-480d-aa2f-38ed2e7cba1a"
      },
      "execution_count": null,
      "outputs": [
        {
          "output_type": "execute_result",
          "data": {
            "text/plain": [
              "MLM-SURGICAL_AND_INDUSTRIAL_MASKS            1759\n",
              "MLM-HEADPHONES                                761\n",
              "MLM-LED_STRIPS                                518\n",
              "MLM-SUNGLASSES                                472\n",
              "MLM-VEHICLE_LED_BULBS                         454\n",
              "                                             ... \n",
              "MLM-INSECT_KILLER_LIGHTS                        1\n",
              "MLM-WATERING_CANS                               1\n",
              "MLM-BASEBALL_AND_SOFTBALL_FIELDING_GLOVES       1\n",
              "MLM-HABERDASHERY_BEADS                          1\n",
              "MLM-ELECTRIC_SANDWICH_MAKERS                    1\n",
              "Name: DOMAIN_ID, Length: 1266, dtype: int64"
            ]
          },
          "metadata": {},
          "execution_count": 43
        }
      ]
    },
    {
      "cell_type": "code",
      "source": [
        "or_df.DOMAIN_ID.value_counts()[:10].plot(kind=\"bar\",\n",
        "                           title=\"Top 10 Products Offered\",\n",
        "                           rot=90,\n",
        "                           xlabel=\"DOMAIN_ID\",\n",
        "                           ylabel=\"Offers\")"
      ],
      "metadata": {
        "colab": {
          "base_uri": "https://localhost:8080/",
          "height": 511
        },
        "id": "sRvfbxxhp1nK",
        "outputId": "f09b7d87-0a9c-477b-a2f7-c3cb61cab350"
      },
      "execution_count": null,
      "outputs": [
        {
          "output_type": "execute_result",
          "data": {
            "text/plain": [
              "<matplotlib.axes._subplots.AxesSubplot at 0x7ff8de1b5750>"
            ]
          },
          "metadata": {},
          "execution_count": 44
        },
        {
          "output_type": "display_data",
          "data": {
            "text/plain": [
              "<Figure size 432x288 with 1 Axes>"
            ],
            "image/png": "[encoded data removed]"
          },
          "metadata": {
            "needs_background": "light"
          }
        }
      ]
    },
    {
      "cell_type": "markdown",
      "source": [
        "- Las mascarillas medicas e industriales son por mucho el producto mas ofertado, seguido de los audifonos (con dos veces menos ofertas)."
      ],
      "metadata": {
        "id": "CrmeCJX9Z-7V"
      }
    },
    {
      "cell_type": "markdown",
      "source": [
        "### Variables Tipo Date"
      ],
      "metadata": {
        "id": "q_-8fQ747XxC"
      }
    },
    {
      "cell_type": "code",
      "source": [
        "print(or_df.OFFER_START_DATE.min())\n",
        "print(or_df.OFFER_START_DATE.max())"
      ],
      "metadata": {
        "colab": {
          "base_uri": "https://localhost:8080/"
        },
        "id": "a6iG29na7gEj",
        "outputId": "3638482d-bb06-490d-cae1-300e93938aa5"
      },
      "execution_count": null,
      "outputs": [
        {
          "output_type": "stream",
          "name": "stdout",
          "text": [
            "2021-06-01 00:00:00\n",
            "2021-07-31 00:00:00\n"
          ]
        }
      ]
    },
    {
      "cell_type": "code",
      "source": [
        "or_df.OFFER_START_DATE.unique().shape"
      ],
      "metadata": {
        "colab": {
          "base_uri": "https://localhost:8080/"
        },
        "id": "cQqAzhxA8Gbu",
        "outputId": "6a8f2c04-0862-482e-c5ca-bd2d3b9348ed"
      },
      "execution_count": null,
      "outputs": [
        {
          "output_type": "execute_result",
          "data": {
            "text/plain": [
              "(61,)"
            ]
          },
          "metadata": {},
          "execution_count": 46
        }
      ]
    },
    {
      "cell_type": "markdown",
      "source": [
        "Tenemos ofertas para cada uno de los 61 dias transcurridos entre el 1 de junio y el 31 de julio de 2021."
      ],
      "metadata": {
        "id": "JjaSWa-J7-87"
      }
    },
    {
      "cell_type": "markdown",
      "source": [
        "## **Transformaciones**\n",
        "\n",
        "Crear un dataframe de trabajo, realizando modificaciones a nuestro dataset original.\n"
      ],
      "metadata": {
        "id": "G90ZedvPhNgX"
      }
    },
    {
      "cell_type": "code",
      "source": [
        "working_df = or_df.copy()"
      ],
      "metadata": {
        "id": "HVcMa3ithy0D"
      },
      "execution_count": null,
      "outputs": []
    },
    {
      "cell_type": "markdown",
      "source": [
        "- Eliminar columnas que no aportan informacion"
      ],
      "metadata": {
        "id": "_j5wVXmehT-G"
      }
    },
    {
      "cell_type": "code",
      "source": [
        "working_df.drop(labels = ['OFFER_TYPE', 'ORIGIN', 'SHIPPING_PAYMENT_TYPE'], axis = 1, inplace = True)"
      ],
      "metadata": {
        "id": "VXcYygREhv1q"
      },
      "execution_count": null,
      "outputs": []
    },
    {
      "cell_type": "code",
      "source": [
        "print(working_df.shape)\n",
        "working_df.head()"
      ],
      "metadata": {
        "colab": {
          "base_uri": "https://localhost:8080/",
          "height": 374
        },
        "id": "43ETLBH8ix92",
        "outputId": "97b73dec-deac-42b6-cad5-cff727149827"
      },
      "execution_count": null,
      "outputs": [
        {
          "output_type": "stream",
          "name": "stdout",
          "text": [
            "(48746, 10)\n"
          ]
        },
        {
          "output_type": "execute_result",
          "data": {
            "text/plain": [
              "  OFFER_START_DATE          OFFER_START_DTTM         OFFER_FINISH_DTTM  \\\n",
              "0       2021-06-22 2021-06-22 16:00:00+00:00 2021-06-22 23:02:43+00:00   \n",
              "1       2021-06-22 2021-06-22 13:00:00+00:00 2021-06-22 19:00:02+00:00   \n",
              "2       2021-06-22 2021-06-22 07:00:00+00:00 2021-06-22 13:00:01+00:00   \n",
              "3       2021-06-22 2021-06-22 19:00:00+00:00 2021-06-23 01:36:12+00:00   \n",
              "4       2021-06-22 2021-06-22 13:00:00+00:00 2021-06-22 15:48:12+00:00   \n",
              "\n",
              "   INVOLVED_STOCK  REMAINING_STOCK_AFTER_END  SOLD_AMOUNT  SOLD_QUANTITY  \\\n",
              "0               4                         -2         4.72            6.0   \n",
              "1               5                          5          NaN            NaN   \n",
              "2              15                         12        10.73            3.0   \n",
              "3              15                         13         7.03            2.0   \n",
              "4              15                          0        39.65           15.0   \n",
              "\n",
              "  DOM_DOMAIN_AGG1 VERTICAL                    DOMAIN_ID  \n",
              "0       PETS FOOD      CPG               MLM-BIRD_FOODS  \n",
              "1    PET PRODUCTS   OTHERS  MLM-ANIMAL_AND_PET_PRODUCTS  \n",
              "2       COMPUTERS       CE                 MLM-SPEAKERS  \n",
              "3       COMPUTERS       CE               MLM-HEADPHONES  \n",
              "4       COMPUTERS       CE               MLM-HEADPHONES  "
            ],
            "text/html": [
              "\n",
              "  <div id=\"df-b12686ac-92ac-433e-bbac-7ff2bec3450b\">\n",
              "    <div class=\"colab-df-container\">\n",
              "      <div>\n",
              "<style scoped>\n",
              "    .dataframe tbody tr th:only-of-type {\n",
              "        vertical-align: middle;\n",
              "    }\n",
              "\n",
              "    .dataframe tbody tr th {\n",
              "        vertical-align: top;\n",
              "    }\n",
              "\n",
              "    .dataframe thead th {\n",
              "        text-align: right;\n",
              "    }\n",
              "</style>\n",
              "<table border=\"1\" class=\"dataframe\">\n",
              "  <thead>\n",
              "    <tr style=\"text-align: right;\">\n",
              "      <th></th>\n",
              "      <th>OFFER_START_DATE</th>\n",
              "      <th>OFFER_START_DTTM</th>\n",
              "      <th>OFFER_FINISH_DTTM</th>\n",
              "      <th>INVOLVED_STOCK</th>\n",
              "      <th>REMAINING_STOCK_AFTER_END</th>\n",
              "      <th>SOLD_AMOUNT</th>\n",
              "      <th>SOLD_QUANTITY</th>\n",
              "      <th>DOM_DOMAIN_AGG1</th>\n",
              "      <th>VERTICAL</th>\n",
              "      <th>DOMAIN_ID</th>\n",
              "    </tr>\n",
              "  </thead>\n",
              "  <tbody>\n",
              "    <tr>\n",
              "      <th>0</th>\n",
              "      <td>2021-06-22</td>\n",
              "      <td>2021-06-22 16:00:00+00:00</td>\n",
              "      <td>2021-06-22 23:02:43+00:00</td>\n",
              "      <td>4</td>\n",
              "      <td>-2</td>\n",
              "      <td>4.72</td>\n",
              "      <td>6.0</td>\n",
              "      <td>PETS FOOD</td>\n",
              "      <td>CPG</td>\n",
              "      <td>MLM-BIRD_FOODS</td>\n",
              "    </tr>\n",
              "    <tr>\n",
              "      <th>1</th>\n",
              "      <td>2021-06-22</td>\n",
              "      <td>2021-06-22 13:00:00+00:00</td>\n",
              "      <td>2021-06-22 19:00:02+00:00</td>\n",
              "      <td>5</td>\n",
              "      <td>5</td>\n",
              "      <td>NaN</td>\n",
              "      <td>NaN</td>\n",
              "      <td>PET PRODUCTS</td>\n",
              "      <td>OTHERS</td>\n",
              "      <td>MLM-ANIMAL_AND_PET_PRODUCTS</td>\n",
              "    </tr>\n",
              "    <tr>\n",
              "      <th>2</th>\n",
              "      <td>2021-06-22</td>\n",
              "      <td>2021-06-22 07:00:00+00:00</td>\n",
              "      <td>2021-06-22 13:00:01+00:00</td>\n",
              "      <td>15</td>\n",
              "      <td>12</td>\n",
              "      <td>10.73</td>\n",
              "      <td>3.0</td>\n",
              "      <td>COMPUTERS</td>\n",
              "      <td>CE</td>\n",
              "      <td>MLM-SPEAKERS</td>\n",
              "    </tr>\n",
              "    <tr>\n",
              "      <th>3</th>\n",
              "      <td>2021-06-22</td>\n",
              "      <td>2021-06-22 19:00:00+00:00</td>\n",
              "      <td>2021-06-23 01:36:12+00:00</td>\n",
              "      <td>15</td>\n",
              "      <td>13</td>\n",
              "      <td>7.03</td>\n",
              "      <td>2.0</td>\n",
              "      <td>COMPUTERS</td>\n",
              "      <td>CE</td>\n",
              "      <td>MLM-HEADPHONES</td>\n",
              "    </tr>\n",
              "    <tr>\n",
              "      <th>4</th>\n",
              "      <td>2021-06-22</td>\n",
              "      <td>2021-06-22 13:00:00+00:00</td>\n",
              "      <td>2021-06-22 15:48:12+00:00</td>\n",
              "      <td>15</td>\n",
              "      <td>0</td>\n",
              "      <td>39.65</td>\n",
              "      <td>15.0</td>\n",
              "      <td>COMPUTERS</td>\n",
              "      <td>CE</td>\n",
              "      <td>MLM-HEADPHONES</td>\n",
              "    </tr>\n",
              "  </tbody>\n",
              "</table>\n",
              "</div>\n",
              "      <button class=\"colab-df-convert\" onclick=\"convertToInteractive('df-b12686ac-92ac-433e-bbac-7ff2bec3450b')\"\n",
              "              title=\"Convert this dataframe to an interactive table.\"\n",
              "              style=\"display:none;\">\n",
              "        \n",
              "  <svg xmlns=\"http://www.w3.org/2000/svg\" height=\"24px\"viewBox=\"0 0 24 24\"\n",
              "       width=\"24px\">\n",
              "    <path d=\"M0 0h24v24H0V0z\" fill=\"none\"/>\n",
              "    <path d=\"M18.56 5.44l.94 2.06.94-2.06 2.06-.94-2.06-.94-.94-2.06-.94 2.06-2.06.94zm-11 1L8.5 8.5l.94-2.06 2.06-.94-2.06-.94L8.5 2.5l-.94 2.06-2.06.94zm10 10l.94 2.06.94-2.06 2.06-.94-2.06-.94-.94-2.06-.94 2.06-2.06.94z\"/><path d=\"M17.41 7.96l-1.37-1.37c-.4-.4-.92-.59-1.43-.59-.52 0-1.04.2-1.43.59L10.3 9.45l-7.72 7.72c-.78.78-.78 2.05 0 2.83L4 21.41c.39.39.9.59 1.41.59.51 0 1.02-.2 1.41-.59l7.78-7.78 2.81-2.81c.8-.78.8-2.07 0-2.86zM5.41 20L4 18.59l7.72-7.72 1.47 1.35L5.41 20z\"/>\n",
              "  </svg>\n",
              "      </button>\n",
              "      \n",
              "  <style>\n",
              "    .colab-df-container {\n",
              "      display:flex;\n",
              "      flex-wrap:wrap;\n",
              "      gap: 12px;\n",
              "    }\n",
              "\n",
              "    .colab-df-convert {\n",
              "      background-color: #E8F0FE;\n",
              "      border: none;\n",
              "      border-radius: 50%;\n",
              "      cursor: pointer;\n",
              "      display: none;\n",
              "      fill: #1967D2;\n",
              "      height: 32px;\n",
              "      padding: 0 0 0 0;\n",
              "      width: 32px;\n",
              "    }\n",
              "\n",
              "    .colab-df-convert:hover {\n",
              "      background-color: #E2EBFA;\n",
              "      box-shadow: 0px 1px 2px rgba(60, 64, 67, 0.3), 0px 1px 3px 1px rgba(60, 64, 67, 0.15);\n",
              "      fill: #174EA6;\n",
              "    }\n",
              "\n",
              "    [theme=dark] .colab-df-convert {\n",
              "      background-color: #3B4455;\n",
              "      fill: #D2E3FC;\n",
              "    }\n",
              "\n",
              "    [theme=dark] .colab-df-convert:hover {\n",
              "      background-color: #434B5C;\n",
              "      box-shadow: 0px 1px 3px 1px rgba(0, 0, 0, 0.15);\n",
              "      filter: drop-shadow(0px 1px 2px rgba(0, 0, 0, 0.3));\n",
              "      fill: #FFFFFF;\n",
              "    }\n",
              "  </style>\n",
              "\n",
              "      <script>\n",
              "        const buttonEl =\n",
              "          document.querySelector('#df-b12686ac-92ac-433e-bbac-7ff2bec3450b button.colab-df-convert');\n",
              "        buttonEl.style.display =\n",
              "          google.colab.kernel.accessAllowed ? 'block' : 'none';\n",
              "\n",
              "        async function convertToInteractive(key) {\n",
              "          const element = document.querySelector('#df-b12686ac-92ac-433e-bbac-7ff2bec3450b');\n",
              "          const dataTable =\n",
              "            await google.colab.kernel.invokeFunction('convertToInteractive',\n",
              "                                                     [key], {});\n",
              "          if (!dataTable) return;\n",
              "\n",
              "          const docLinkHtml = 'Like what you see? Visit the ' +\n",
              "            '<a target=\"_blank\" href=https://colab.research.google.com/notebooks/data_table.ipynb>data table notebook</a>'\n",
              "            + ' to learn more about interactive tables.';\n",
              "          element.innerHTML = '';\n",
              "          dataTable['output_type'] = 'display_data';\n",
              "          await google.colab.output.renderOutput(dataTable, element);\n",
              "          const docLink = document.createElement('div');\n",
              "          docLink.innerHTML = docLinkHtml;\n",
              "          element.appendChild(docLink);\n",
              "        }\n",
              "      </script>\n",
              "    </div>\n",
              "  </div>\n",
              "  "
            ]
          },
          "metadata": {},
          "execution_count": 49
        }
      ]
    },
    {
      "cell_type": "markdown",
      "source": [
        "- Calcular valores faltantes de SOLD_QUANTITY = (INVOLVED_STOCK - REMAINING_STOCK_AFTER_END)"
      ],
      "metadata": {
        "id": "HlpurSiajyvF"
      }
    },
    {
      "cell_type": "code",
      "source": [
        "working_df.SOLD_QUANTITY.fillna(working_df.INVOLVED_STOCK - working_df.REMAINING_STOCK_AFTER_END, inplace = True)"
      ],
      "metadata": {
        "id": "t8pFN4PajvPw"
      },
      "execution_count": null,
      "outputs": []
    },
    {
      "cell_type": "code",
      "source": [
        "working_df[['INVOLVED_STOCK', 'REMAINING_STOCK_AFTER_END', 'SOLD_QUANTITY']].head(10)"
      ],
      "metadata": {
        "colab": {
          "base_uri": "https://localhost:8080/",
          "height": 363
        },
        "id": "bC0KDVcymI2U",
        "outputId": "5e54d3d5-2d64-4323-9fed-e5997345b843"
      },
      "execution_count": null,
      "outputs": [
        {
          "output_type": "execute_result",
          "data": {
            "text/plain": [
              "   INVOLVED_STOCK  REMAINING_STOCK_AFTER_END  SOLD_QUANTITY\n",
              "0               4                         -2            6.0\n",
              "1               5                          5            0.0\n",
              "2              15                         12            3.0\n",
              "3              15                         13            2.0\n",
              "4              15                          0           15.0\n",
              "5              23                         23            0.0\n",
              "6              10                         10            0.0\n",
              "7              10                         -1           11.0\n",
              "8              10                         -1           11.0\n",
              "9              15                         13            2.0"
            ],
            "text/html": [
              "\n",
              "  <div id=\"df-0d775d8f-309b-4f41-8d24-2faeb1f194f3\">\n",
              "    <div class=\"colab-df-container\">\n",
              "      <div>\n",
              "<style scoped>\n",
              "    .dataframe tbody tr th:only-of-type {\n",
              "        vertical-align: middle;\n",
              "    }\n",
              "\n",
              "    .dataframe tbody tr th {\n",
              "        vertical-align: top;\n",
              "    }\n",
              "\n",
              "    .dataframe thead th {\n",
              "        text-align: right;\n",
              "    }\n",
              "</style>\n",
              "<table border=\"1\" class=\"dataframe\">\n",
              "  <thead>\n",
              "    <tr style=\"text-align: right;\">\n",
              "      <th></th>\n",
              "      <th>INVOLVED_STOCK</th>\n",
              "      <th>REMAINING_STOCK_AFTER_END</th>\n",
              "      <th>SOLD_QUANTITY</th>\n",
              "    </tr>\n",
              "  </thead>\n",
              "  <tbody>\n",
              "    <tr>\n",
              "      <th>0</th>\n",
              "      <td>4</td>\n",
              "      <td>-2</td>\n",
              "      <td>6.0</td>\n",
              "    </tr>\n",
              "    <tr>\n",
              "      <th>1</th>\n",
              "      <td>5</td>\n",
              "      <td>5</td>\n",
              "      <td>0.0</td>\n",
              "    </tr>\n",
              "    <tr>\n",
              "      <th>2</th>\n",
              "      <td>15</td>\n",
              "      <td>12</td>\n",
              "      <td>3.0</td>\n",
              "    </tr>\n",
              "    <tr>\n",
              "      <th>3</th>\n",
              "      <td>15</td>\n",
              "      <td>13</td>\n",
              "      <td>2.0</td>\n",
              "    </tr>\n",
              "    <tr>\n",
              "      <th>4</th>\n",
              "      <td>15</td>\n",
              "      <td>0</td>\n",
              "      <td>15.0</td>\n",
              "    </tr>\n",
              "    <tr>\n",
              "      <th>5</th>\n",
              "      <td>23</td>\n",
              "      <td>23</td>\n",
              "      <td>0.0</td>\n",
              "    </tr>\n",
              "    <tr>\n",
              "      <th>6</th>\n",
              "      <td>10</td>\n",
              "      <td>10</td>\n",
              "      <td>0.0</td>\n",
              "    </tr>\n",
              "    <tr>\n",
              "      <th>7</th>\n",
              "      <td>10</td>\n",
              "      <td>-1</td>\n",
              "      <td>11.0</td>\n",
              "    </tr>\n",
              "    <tr>\n",
              "      <th>8</th>\n",
              "      <td>10</td>\n",
              "      <td>-1</td>\n",
              "      <td>11.0</td>\n",
              "    </tr>\n",
              "    <tr>\n",
              "      <th>9</th>\n",
              "      <td>15</td>\n",
              "      <td>13</td>\n",
              "      <td>2.0</td>\n",
              "    </tr>\n",
              "  </tbody>\n",
              "</table>\n",
              "</div>\n",
              "      <button class=\"colab-df-convert\" onclick=\"convertToInteractive('df-0d775d8f-309b-4f41-8d24-2faeb1f194f3')\"\n",
              "              title=\"Convert this dataframe to an interactive table.\"\n",
              "              style=\"display:none;\">\n",
              "        \n",
              "  <svg xmlns=\"http://www.w3.org/2000/svg\" height=\"24px\"viewBox=\"0 0 24 24\"\n",
              "       width=\"24px\">\n",
              "    <path d=\"M0 0h24v24H0V0z\" fill=\"none\"/>\n",
              "    <path d=\"M18.56 5.44l.94 2.06.94-2.06 2.06-.94-2.06-.94-.94-2.06-.94 2.06-2.06.94zm-11 1L8.5 8.5l.94-2.06 2.06-.94-2.06-.94L8.5 2.5l-.94 2.06-2.06.94zm10 10l.94 2.06.94-2.06 2.06-.94-2.06-.94-.94-2.06-.94 2.06-2.06.94z\"/><path d=\"M17.41 7.96l-1.37-1.37c-.4-.4-.92-.59-1.43-.59-.52 0-1.04.2-1.43.59L10.3 9.45l-7.72 7.72c-.78.78-.78 2.05 0 2.83L4 21.41c.39.39.9.59 1.41.59.51 0 1.02-.2 1.41-.59l7.78-7.78 2.81-2.81c.8-.78.8-2.07 0-2.86zM5.41 20L4 18.59l7.72-7.72 1.47 1.35L5.41 20z\"/>\n",
              "  </svg>\n",
              "      </button>\n",
              "      \n",
              "  <style>\n",
              "    .colab-df-container {\n",
              "      display:flex;\n",
              "      flex-wrap:wrap;\n",
              "      gap: 12px;\n",
              "    }\n",
              "\n",
              "    .colab-df-convert {\n",
              "      background-color: #E8F0FE;\n",
              "      border: none;\n",
              "      border-radius: 50%;\n",
              "      cursor: pointer;\n",
              "      display: none;\n",
              "      fill: #1967D2;\n",
              "      height: 32px;\n",
              "      padding: 0 0 0 0;\n",
              "      width: 32px;\n",
              "    }\n",
              "\n",
              "    .colab-df-convert:hover {\n",
              "      background-color: #E2EBFA;\n",
              "      box-shadow: 0px 1px 2px rgba(60, 64, 67, 0.3), 0px 1px 3px 1px rgba(60, 64, 67, 0.15);\n",
              "      fill: #174EA6;\n",
              "    }\n",
              "\n",
              "    [theme=dark] .colab-df-convert {\n",
              "      background-color: #3B4455;\n",
              "      fill: #D2E3FC;\n",
              "    }\n",
              "\n",
              "    [theme=dark] .colab-df-convert:hover {\n",
              "      background-color: #434B5C;\n",
              "      box-shadow: 0px 1px 3px 1px rgba(0, 0, 0, 0.15);\n",
              "      filter: drop-shadow(0px 1px 2px rgba(0, 0, 0, 0.3));\n",
              "      fill: #FFFFFF;\n",
              "    }\n",
              "  </style>\n",
              "\n",
              "      <script>\n",
              "        const buttonEl =\n",
              "          document.querySelector('#df-0d775d8f-309b-4f41-8d24-2faeb1f194f3 button.colab-df-convert');\n",
              "        buttonEl.style.display =\n",
              "          google.colab.kernel.accessAllowed ? 'block' : 'none';\n",
              "\n",
              "        async function convertToInteractive(key) {\n",
              "          const element = document.querySelector('#df-0d775d8f-309b-4f41-8d24-2faeb1f194f3');\n",
              "          const dataTable =\n",
              "            await google.colab.kernel.invokeFunction('convertToInteractive',\n",
              "                                                     [key], {});\n",
              "          if (!dataTable) return;\n",
              "\n",
              "          const docLinkHtml = 'Like what you see? Visit the ' +\n",
              "            '<a target=\"_blank\" href=https://colab.research.google.com/notebooks/data_table.ipynb>data table notebook</a>'\n",
              "            + ' to learn more about interactive tables.';\n",
              "          element.innerHTML = '';\n",
              "          dataTable['output_type'] = 'display_data';\n",
              "          await google.colab.output.renderOutput(dataTable, element);\n",
              "          const docLink = document.createElement('div');\n",
              "          docLink.innerHTML = docLinkHtml;\n",
              "          element.appendChild(docLink);\n",
              "        }\n",
              "      </script>\n",
              "    </div>\n",
              "  </div>\n",
              "  "
            ]
          },
          "metadata": {},
          "execution_count": 51
        }
      ]
    },
    {
      "cell_type": "code",
      "source": [
        "working_df[['INVOLVED_STOCK', 'REMAINING_STOCK_AFTER_END', 'SOLD_QUANTITY']].count()"
      ],
      "metadata": {
        "colab": {
          "base_uri": "https://localhost:8080/"
        },
        "id": "XZm0EzQzmfTq",
        "outputId": "64a5983b-7f12-4624-caa2-3b1302091f39"
      },
      "execution_count": null,
      "outputs": [
        {
          "output_type": "execute_result",
          "data": {
            "text/plain": [
              "INVOLVED_STOCK               48746\n",
              "REMAINING_STOCK_AFTER_END    48746\n",
              "SOLD_QUANTITY                48746\n",
              "dtype: int64"
            ]
          },
          "metadata": {},
          "execution_count": 52
        }
      ]
    },
    {
      "cell_type": "markdown",
      "source": [
        "- Crear columnas 'MONTH', 'DAY', 'WEEK', 'DAY_IN_WEEK'"
      ],
      "metadata": {
        "id": "bfmr-mKA9ZhM"
      }
    },
    {
      "cell_type": "code",
      "source": [
        "month_mapping = {6: 'June', 7: 'July'}\n",
        "working_df['MONTH'] = working_df.OFFER_START_DATE.dt.month.map(month_mapping)   \n",
        "working_df['WEEK'] = working_df.OFFER_START_DATE.dt.week\n",
        "working_df['DAY'] = working_df.OFFER_START_DATE.dt.day              # day in month\n",
        "working_df['DAY_IN_WEEK'] = working_df.OFFER_START_DATE.dt.weekday"
      ],
      "metadata": {
        "id": "w1U00QV8mr2y",
        "colab": {
          "base_uri": "https://localhost:8080/"
        },
        "outputId": "eb96297e-abc2-4ceb-ff16-a75fef8f8b2b"
      },
      "execution_count": null,
      "outputs": [
        {
          "output_type": "stream",
          "name": "stderr",
          "text": [
            "/usr/local/lib/python3.7/dist-packages/ipykernel_launcher.py:3: FutureWarning: Series.dt.weekofyear and Series.dt.week have been deprecated.  Please use Series.dt.isocalendar().week instead.\n",
            "  This is separate from the ipykernel package so we can avoid doing imports until\n"
          ]
        }
      ]
    },
    {
      "cell_type": "code",
      "source": [
        "working_df[['OFFER_START_DATE', 'MONTH','WEEK', 'DAY', 'DAY_IN_WEEK']].head()"
      ],
      "metadata": {
        "colab": {
          "base_uri": "https://localhost:8080/",
          "height": 206
        },
        "id": "-PeUh5Du_d26",
        "outputId": "cca792fd-b8f8-435f-f919-edbeacf7715c"
      },
      "execution_count": null,
      "outputs": [
        {
          "output_type": "execute_result",
          "data": {
            "text/plain": [
              "  OFFER_START_DATE MONTH  WEEK  DAY DAY_IN_WEEK\n",
              "0       2021-06-22  June    25   22     Tuesday\n",
              "1       2021-06-22  June    25   22     Tuesday\n",
              "2       2021-06-22  June    25   22     Tuesday\n",
              "3       2021-06-22  June    25   22     Tuesday\n",
              "4       2021-06-22  June    25   22     Tuesday"
            ],
            "text/html": [
              "\n",
              "  <div id=\"df-2c1bdfe5-a116-421d-918f-12124e18109a\">\n",
              "    <div class=\"colab-df-container\">\n",
              "      <div>\n",
              "<style scoped>\n",
              "    .dataframe tbody tr th:only-of-type {\n",
              "        vertical-align: middle;\n",
              "    }\n",
              "\n",
              "    .dataframe tbody tr th {\n",
              "        vertical-align: top;\n",
              "    }\n",
              "\n",
              "    .dataframe thead th {\n",
              "        text-align: right;\n",
              "    }\n",
              "</style>\n",
              "<table border=\"1\" class=\"dataframe\">\n",
              "  <thead>\n",
              "    <tr style=\"text-align: right;\">\n",
              "      <th></th>\n",
              "      <th>OFFER_START_DATE</th>\n",
              "      <th>MONTH</th>\n",
              "      <th>WEEK</th>\n",
              "      <th>DAY</th>\n",
              "      <th>DAY_IN_WEEK</th>\n",
              "    </tr>\n",
              "  </thead>\n",
              "  <tbody>\n",
              "    <tr>\n",
              "      <th>0</th>\n",
              "      <td>2021-06-22</td>\n",
              "      <td>June</td>\n",
              "      <td>25</td>\n",
              "      <td>22</td>\n",
              "      <td>Tuesday</td>\n",
              "    </tr>\n",
              "    <tr>\n",
              "      <th>1</th>\n",
              "      <td>2021-06-22</td>\n",
              "      <td>June</td>\n",
              "      <td>25</td>\n",
              "      <td>22</td>\n",
              "      <td>Tuesday</td>\n",
              "    </tr>\n",
              "    <tr>\n",
              "      <th>2</th>\n",
              "      <td>2021-06-22</td>\n",
              "      <td>June</td>\n",
              "      <td>25</td>\n",
              "      <td>22</td>\n",
              "      <td>Tuesday</td>\n",
              "    </tr>\n",
              "    <tr>\n",
              "      <th>3</th>\n",
              "      <td>2021-06-22</td>\n",
              "      <td>June</td>\n",
              "      <td>25</td>\n",
              "      <td>22</td>\n",
              "      <td>Tuesday</td>\n",
              "    </tr>\n",
              "    <tr>\n",
              "      <th>4</th>\n",
              "      <td>2021-06-22</td>\n",
              "      <td>June</td>\n",
              "      <td>25</td>\n",
              "      <td>22</td>\n",
              "      <td>Tuesday</td>\n",
              "    </tr>\n",
              "  </tbody>\n",
              "</table>\n",
              "</div>\n",
              "      <button class=\"colab-df-convert\" onclick=\"convertToInteractive('df-2c1bdfe5-a116-421d-918f-12124e18109a')\"\n",
              "              title=\"Convert this dataframe to an interactive table.\"\n",
              "              style=\"display:none;\">\n",
              "        \n",
              "  <svg xmlns=\"http://www.w3.org/2000/svg\" height=\"24px\"viewBox=\"0 0 24 24\"\n",
              "       width=\"24px\">\n",
              "    <path d=\"M0 0h24v24H0V0z\" fill=\"none\"/>\n",
              "    <path d=\"M18.56 5.44l.94 2.06.94-2.06 2.06-.94-2.06-.94-.94-2.06-.94 2.06-2.06.94zm-11 1L8.5 8.5l.94-2.06 2.06-.94-2.06-.94L8.5 2.5l-.94 2.06-2.06.94zm10 10l.94 2.06.94-2.06 2.06-.94-2.06-.94-.94-2.06-.94 2.06-2.06.94z\"/><path d=\"M17.41 7.96l-1.37-1.37c-.4-.4-.92-.59-1.43-.59-.52 0-1.04.2-1.43.59L10.3 9.45l-7.72 7.72c-.78.78-.78 2.05 0 2.83L4 21.41c.39.39.9.59 1.41.59.51 0 1.02-.2 1.41-.59l7.78-7.78 2.81-2.81c.8-.78.8-2.07 0-2.86zM5.41 20L4 18.59l7.72-7.72 1.47 1.35L5.41 20z\"/>\n",
              "  </svg>\n",
              "      </button>\n",
              "      \n",
              "  <style>\n",
              "    .colab-df-container {\n",
              "      display:flex;\n",
              "      flex-wrap:wrap;\n",
              "      gap: 12px;\n",
              "    }\n",
              "\n",
              "    .colab-df-convert {\n",
              "      background-color: #E8F0FE;\n",
              "      border: none;\n",
              "      border-radius: 50%;\n",
              "      cursor: pointer;\n",
              "      display: none;\n",
              "      fill: #1967D2;\n",
              "      height: 32px;\n",
              "      padding: 0 0 0 0;\n",
              "      width: 32px;\n",
              "    }\n",
              "\n",
              "    .colab-df-convert:hover {\n",
              "      background-color: #E2EBFA;\n",
              "      box-shadow: 0px 1px 2px rgba(60, 64, 67, 0.3), 0px 1px 3px 1px rgba(60, 64, 67, 0.15);\n",
              "      fill: #174EA6;\n",
              "    }\n",
              "\n",
              "    [theme=dark] .colab-df-convert {\n",
              "      background-color: #3B4455;\n",
              "      fill: #D2E3FC;\n",
              "    }\n",
              "\n",
              "    [theme=dark] .colab-df-convert:hover {\n",
              "      background-color: #434B5C;\n",
              "      box-shadow: 0px 1px 3px 1px rgba(0, 0, 0, 0.15);\n",
              "      filter: drop-shadow(0px 1px 2px rgba(0, 0, 0, 0.3));\n",
              "      fill: #FFFFFF;\n",
              "    }\n",
              "  </style>\n",
              "\n",
              "      <script>\n",
              "        const buttonEl =\n",
              "          document.querySelector('#df-2c1bdfe5-a116-421d-918f-12124e18109a button.colab-df-convert');\n",
              "        buttonEl.style.display =\n",
              "          google.colab.kernel.accessAllowed ? 'block' : 'none';\n",
              "\n",
              "        async function convertToInteractive(key) {\n",
              "          const element = document.querySelector('#df-2c1bdfe5-a116-421d-918f-12124e18109a');\n",
              "          const dataTable =\n",
              "            await google.colab.kernel.invokeFunction('convertToInteractive',\n",
              "                                                     [key], {});\n",
              "          if (!dataTable) return;\n",
              "\n",
              "          const docLinkHtml = 'Like what you see? Visit the ' +\n",
              "            '<a target=\"_blank\" href=https://colab.research.google.com/notebooks/data_table.ipynb>data table notebook</a>'\n",
              "            + ' to learn more about interactive tables.';\n",
              "          element.innerHTML = '';\n",
              "          dataTable['output_type'] = 'display_data';\n",
              "          await google.colab.output.renderOutput(dataTable, element);\n",
              "          const docLink = document.createElement('div');\n",
              "          docLink.innerHTML = docLinkHtml;\n",
              "          element.appendChild(docLink);\n",
              "        }\n",
              "      </script>\n",
              "    </div>\n",
              "  </div>\n",
              "  "
            ]
          },
          "metadata": {},
          "execution_count": 91
        }
      ]
    },
    {
      "cell_type": "markdown",
      "source": [
        "- Create column 'OFFER_DURATION_HOURS', para representar la duracion en horas de la oferta. "
      ],
      "metadata": {
        "id": "FtNXtXOvB40z"
      }
    },
    {
      "cell_type": "code",
      "source": [
        "working_df['OFFER_DURATION_HOURS'] = round((working_df.OFFER_FINISH_DTTM - working_df.OFFER_START_DTTM)/pd.Timedelta(hours = 1), 2)                                          "
      ],
      "metadata": {
        "id": "gRa0Qzci_54k"
      },
      "execution_count": null,
      "outputs": []
    },
    {
      "cell_type": "code",
      "source": [
        "working_df[['OFFER_START_DTTM', 'OFFER_FINISH_DTTM', 'OFFER_DURATION_HOURS']].head()"
      ],
      "metadata": {
        "colab": {
          "base_uri": "https://localhost:8080/",
          "height": 206
        },
        "id": "r3_IoJh4EdvG",
        "outputId": "0baa715d-6ae2-44be-b7e7-322baebac912"
      },
      "execution_count": null,
      "outputs": [
        {
          "output_type": "execute_result",
          "data": {
            "text/plain": [
              "           OFFER_START_DTTM         OFFER_FINISH_DTTM  OFFER_DURATION_HOURS\n",
              "0 2021-06-22 16:00:00+00:00 2021-06-22 23:02:43+00:00                  7.05\n",
              "1 2021-06-22 13:00:00+00:00 2021-06-22 19:00:02+00:00                  6.00\n",
              "2 2021-06-22 07:00:00+00:00 2021-06-22 13:00:01+00:00                  6.00\n",
              "3 2021-06-22 19:00:00+00:00 2021-06-23 01:36:12+00:00                  6.60\n",
              "4 2021-06-22 13:00:00+00:00 2021-06-22 15:48:12+00:00                  2.80"
            ],
            "text/html": [
              "\n",
              "  <div id=\"df-ca8eeb96-e9d2-45c8-a14a-0dec4b4a5b68\">\n",
              "    <div class=\"colab-df-container\">\n",
              "      <div>\n",
              "<style scoped>\n",
              "    .dataframe tbody tr th:only-of-type {\n",
              "        vertical-align: middle;\n",
              "    }\n",
              "\n",
              "    .dataframe tbody tr th {\n",
              "        vertical-align: top;\n",
              "    }\n",
              "\n",
              "    .dataframe thead th {\n",
              "        text-align: right;\n",
              "    }\n",
              "</style>\n",
              "<table border=\"1\" class=\"dataframe\">\n",
              "  <thead>\n",
              "    <tr style=\"text-align: right;\">\n",
              "      <th></th>\n",
              "      <th>OFFER_START_DTTM</th>\n",
              "      <th>OFFER_FINISH_DTTM</th>\n",
              "      <th>OFFER_DURATION_HOURS</th>\n",
              "    </tr>\n",
              "  </thead>\n",
              "  <tbody>\n",
              "    <tr>\n",
              "      <th>0</th>\n",
              "      <td>2021-06-22 16:00:00+00:00</td>\n",
              "      <td>2021-06-22 23:02:43+00:00</td>\n",
              "      <td>7.05</td>\n",
              "    </tr>\n",
              "    <tr>\n",
              "      <th>1</th>\n",
              "      <td>2021-06-22 13:00:00+00:00</td>\n",
              "      <td>2021-06-22 19:00:02+00:00</td>\n",
              "      <td>6.00</td>\n",
              "    </tr>\n",
              "    <tr>\n",
              "      <th>2</th>\n",
              "      <td>2021-06-22 07:00:00+00:00</td>\n",
              "      <td>2021-06-22 13:00:01+00:00</td>\n",
              "      <td>6.00</td>\n",
              "    </tr>\n",
              "    <tr>\n",
              "      <th>3</th>\n",
              "      <td>2021-06-22 19:00:00+00:00</td>\n",
              "      <td>2021-06-23 01:36:12+00:00</td>\n",
              "      <td>6.60</td>\n",
              "    </tr>\n",
              "    <tr>\n",
              "      <th>4</th>\n",
              "      <td>2021-06-22 13:00:00+00:00</td>\n",
              "      <td>2021-06-22 15:48:12+00:00</td>\n",
              "      <td>2.80</td>\n",
              "    </tr>\n",
              "  </tbody>\n",
              "</table>\n",
              "</div>\n",
              "      <button class=\"colab-df-convert\" onclick=\"convertToInteractive('df-ca8eeb96-e9d2-45c8-a14a-0dec4b4a5b68')\"\n",
              "              title=\"Convert this dataframe to an interactive table.\"\n",
              "              style=\"display:none;\">\n",
              "        \n",
              "  <svg xmlns=\"http://www.w3.org/2000/svg\" height=\"24px\"viewBox=\"0 0 24 24\"\n",
              "       width=\"24px\">\n",
              "    <path d=\"M0 0h24v24H0V0z\" fill=\"none\"/>\n",
              "    <path d=\"M18.56 5.44l.94 2.06.94-2.06 2.06-.94-2.06-.94-.94-2.06-.94 2.06-2.06.94zm-11 1L8.5 8.5l.94-2.06 2.06-.94-2.06-.94L8.5 2.5l-.94 2.06-2.06.94zm10 10l.94 2.06.94-2.06 2.06-.94-2.06-.94-.94-2.06-.94 2.06-2.06.94z\"/><path d=\"M17.41 7.96l-1.37-1.37c-.4-.4-.92-.59-1.43-.59-.52 0-1.04.2-1.43.59L10.3 9.45l-7.72 7.72c-.78.78-.78 2.05 0 2.83L4 21.41c.39.39.9.59 1.41.59.51 0 1.02-.2 1.41-.59l7.78-7.78 2.81-2.81c.8-.78.8-2.07 0-2.86zM5.41 20L4 18.59l7.72-7.72 1.47 1.35L5.41 20z\"/>\n",
              "  </svg>\n",
              "      </button>\n",
              "      \n",
              "  <style>\n",
              "    .colab-df-container {\n",
              "      display:flex;\n",
              "      flex-wrap:wrap;\n",
              "      gap: 12px;\n",
              "    }\n",
              "\n",
              "    .colab-df-convert {\n",
              "      background-color: #E8F0FE;\n",
              "      border: none;\n",
              "      border-radius: 50%;\n",
              "      cursor: pointer;\n",
              "      display: none;\n",
              "      fill: #1967D2;\n",
              "      height: 32px;\n",
              "      padding: 0 0 0 0;\n",
              "      width: 32px;\n",
              "    }\n",
              "\n",
              "    .colab-df-convert:hover {\n",
              "      background-color: #E2EBFA;\n",
              "      box-shadow: 0px 1px 2px rgba(60, 64, 67, 0.3), 0px 1px 3px 1px rgba(60, 64, 67, 0.15);\n",
              "      fill: #174EA6;\n",
              "    }\n",
              "\n",
              "    [theme=dark] .colab-df-convert {\n",
              "      background-color: #3B4455;\n",
              "      fill: #D2E3FC;\n",
              "    }\n",
              "\n",
              "    [theme=dark] .colab-df-convert:hover {\n",
              "      background-color: #434B5C;\n",
              "      box-shadow: 0px 1px 3px 1px rgba(0, 0, 0, 0.15);\n",
              "      filter: drop-shadow(0px 1px 2px rgba(0, 0, 0, 0.3));\n",
              "      fill: #FFFFFF;\n",
              "    }\n",
              "  </style>\n",
              "\n",
              "      <script>\n",
              "        const buttonEl =\n",
              "          document.querySelector('#df-ca8eeb96-e9d2-45c8-a14a-0dec4b4a5b68 button.colab-df-convert');\n",
              "        buttonEl.style.display =\n",
              "          google.colab.kernel.accessAllowed ? 'block' : 'none';\n",
              "\n",
              "        async function convertToInteractive(key) {\n",
              "          const element = document.querySelector('#df-ca8eeb96-e9d2-45c8-a14a-0dec4b4a5b68');\n",
              "          const dataTable =\n",
              "            await google.colab.kernel.invokeFunction('convertToInteractive',\n",
              "                                                     [key], {});\n",
              "          if (!dataTable) return;\n",
              "\n",
              "          const docLinkHtml = 'Like what you see? Visit the ' +\n",
              "            '<a target=\"_blank\" href=https://colab.research.google.com/notebooks/data_table.ipynb>data table notebook</a>'\n",
              "            + ' to learn more about interactive tables.';\n",
              "          element.innerHTML = '';\n",
              "          dataTable['output_type'] = 'display_data';\n",
              "          await google.colab.output.renderOutput(dataTable, element);\n",
              "          const docLink = document.createElement('div');\n",
              "          docLink.innerHTML = docLinkHtml;\n",
              "          element.appendChild(docLink);\n",
              "        }\n",
              "      </script>\n",
              "    </div>\n",
              "  </div>\n",
              "  "
            ]
          },
          "metadata": {},
          "execution_count": 56
        }
      ]
    },
    {
      "cell_type": "code",
      "source": [
        "working_df['OFFER_DURATION_HOURS'].describe()"
      ],
      "metadata": {
        "colab": {
          "base_uri": "https://localhost:8080/"
        },
        "id": "gI5PMu4-G_8c",
        "outputId": "ea2696d5-8009-45fa-a2ac-b3088cf71657"
      },
      "execution_count": null,
      "outputs": [
        {
          "output_type": "execute_result",
          "data": {
            "text/plain": [
              "count    48746.000000\n",
              "mean         5.707880\n",
              "std          2.113108\n",
              "min          0.000000\n",
              "25%          6.000000\n",
              "50%          6.000000\n",
              "75%          6.000000\n",
              "max        104.750000\n",
              "Name: OFFER_DURATION_HOURS, dtype: float64"
            ]
          },
          "metadata": {},
          "execution_count": 57
        }
      ]
    },
    {
      "cell_type": "markdown",
      "source": [
        "## **Analisis**\n",
        "\n",
        "Buscar insights en los datos."
      ],
      "metadata": {
        "id": "H37a6s7MGmJn"
      }
    },
    {
      "cell_type": "markdown",
      "source": [
        "Existe alguna correlacion entre la duracion de una oferta y la cantidad de productos vendidos?"
      ],
      "metadata": {
        "id": "tFCdkpkBx00h"
      }
    },
    {
      "cell_type": "code",
      "source": [
        "sns.regplot(x=\"OFFER_DURATION_HOURS\", y=\"SOLD_QUANTITY\", data=working_df, x_jitter=.1, fit_reg = True)\n",
        "working_df[['OFFER_DURATION_HOURS', 'SOLD_QUANTITY']].corr()"
      ],
      "metadata": {
        "colab": {
          "base_uri": "https://localhost:8080/",
          "height": 375
        },
        "id": "KxGRjzzdEv2F",
        "outputId": "cdbd2ec6-12a3-493c-bcb5-f7145ccba96e"
      },
      "execution_count": null,
      "outputs": [
        {
          "output_type": "execute_result",
          "data": {
            "text/plain": [
              "                      OFFER_DURATION_HOURS  SOLD_QUANTITY\n",
              "OFFER_DURATION_HOURS              1.000000       0.047768\n",
              "SOLD_QUANTITY                     0.047768       1.000000"
            ],
            "text/html": [
              "\n",
              "  <div id=\"df-baed462b-7ad9-49dc-8843-4a021cbe809c\">\n",
              "    <div class=\"colab-df-container\">\n",
              "      <div>\n",
              "<style scoped>\n",
              "    .dataframe tbody tr th:only-of-type {\n",
              "        vertical-align: middle;\n",
              "    }\n",
              "\n",
              "    .dataframe tbody tr th {\n",
              "        vertical-align: top;\n",
              "    }\n",
              "\n",
              "    .dataframe thead th {\n",
              "        text-align: right;\n",
              "    }\n",
              "</style>\n",
              "<table border=\"1\" class=\"dataframe\">\n",
              "  <thead>\n",
              "    <tr style=\"text-align: right;\">\n",
              "      <th></th>\n",
              "      <th>OFFER_DURATION_HOURS</th>\n",
              "      <th>SOLD_QUANTITY</th>\n",
              "    </tr>\n",
              "  </thead>\n",
              "  <tbody>\n",
              "    <tr>\n",
              "      <th>OFFER_DURATION_HOURS</th>\n",
              "      <td>1.000000</td>\n",
              "      <td>0.047768</td>\n",
              "    </tr>\n",
              "    <tr>\n",
              "      <th>SOLD_QUANTITY</th>\n",
              "      <td>0.047768</td>\n",
              "      <td>1.000000</td>\n",
              "    </tr>\n",
              "  </tbody>\n",
              "</table>\n",
              "</div>\n",
              "      <button class=\"colab-df-convert\" onclick=\"convertToInteractive('df-baed462b-7ad9-49dc-8843-4a021cbe809c')\"\n",
              "              title=\"Convert this dataframe to an interactive table.\"\n",
              "              style=\"display:none;\">\n",
              "        \n",
              "  <svg xmlns=\"http://www.w3.org/2000/svg\" height=\"24px\"viewBox=\"0 0 24 24\"\n",
              "       width=\"24px\">\n",
              "    <path d=\"M0 0h24v24H0V0z\" fill=\"none\"/>\n",
              "    <path d=\"M18.56 5.44l.94 2.06.94-2.06 2.06-.94-2.06-.94-.94-2.06-.94 2.06-2.06.94zm-11 1L8.5 8.5l.94-2.06 2.06-.94-2.06-.94L8.5 2.5l-.94 2.06-2.06.94zm10 10l.94 2.06.94-2.06 2.06-.94-2.06-.94-.94-2.06-.94 2.06-2.06.94z\"/><path d=\"M17.41 7.96l-1.37-1.37c-.4-.4-.92-.59-1.43-.59-.52 0-1.04.2-1.43.59L10.3 9.45l-7.72 7.72c-.78.78-.78 2.05 0 2.83L4 21.41c.39.39.9.59 1.41.59.51 0 1.02-.2 1.41-.59l7.78-7.78 2.81-2.81c.8-.78.8-2.07 0-2.86zM5.41 20L4 18.59l7.72-7.72 1.47 1.35L5.41 20z\"/>\n",
              "  </svg>\n",
              "      </button>\n",
              "      \n",
              "  <style>\n",
              "    .colab-df-container {\n",
              "      display:flex;\n",
              "      flex-wrap:wrap;\n",
              "      gap: 12px;\n",
              "    }\n",
              "\n",
              "    .colab-df-convert {\n",
              "      background-color: #E8F0FE;\n",
              "      border: none;\n",
              "      border-radius: 50%;\n",
              "      cursor: pointer;\n",
              "      display: none;\n",
              "      fill: #1967D2;\n",
              "      height: 32px;\n",
              "      padding: 0 0 0 0;\n",
              "      width: 32px;\n",
              "    }\n",
              "\n",
              "    .colab-df-convert:hover {\n",
              "      background-color: #E2EBFA;\n",
              "      box-shadow: 0px 1px 2px rgba(60, 64, 67, 0.3), 0px 1px 3px 1px rgba(60, 64, 67, 0.15);\n",
              "      fill: #174EA6;\n",
              "    }\n",
              "\n",
              "    [theme=dark] .colab-df-convert {\n",
              "      background-color: #3B4455;\n",
              "      fill: #D2E3FC;\n",
              "    }\n",
              "\n",
              "    [theme=dark] .colab-df-convert:hover {\n",
              "      background-color: #434B5C;\n",
              "      box-shadow: 0px 1px 3px 1px rgba(0, 0, 0, 0.15);\n",
              "      filter: drop-shadow(0px 1px 2px rgba(0, 0, 0, 0.3));\n",
              "      fill: #FFFFFF;\n",
              "    }\n",
              "  </style>\n",
              "\n",
              "      <script>\n",
              "        const buttonEl =\n",
              "          document.querySelector('#df-baed462b-7ad9-49dc-8843-4a021cbe809c button.colab-df-convert');\n",
              "        buttonEl.style.display =\n",
              "          google.colab.kernel.accessAllowed ? 'block' : 'none';\n",
              "\n",
              "        async function convertToInteractive(key) {\n",
              "          const element = document.querySelector('#df-baed462b-7ad9-49dc-8843-4a021cbe809c');\n",
              "          const dataTable =\n",
              "            await google.colab.kernel.invokeFunction('convertToInteractive',\n",
              "                                                     [key], {});\n",
              "          if (!dataTable) return;\n",
              "\n",
              "          const docLinkHtml = 'Like what you see? Visit the ' +\n",
              "            '<a target=\"_blank\" href=https://colab.research.google.com/notebooks/data_table.ipynb>data table notebook</a>'\n",
              "            + ' to learn more about interactive tables.';\n",
              "          element.innerHTML = '';\n",
              "          dataTable['output_type'] = 'display_data';\n",
              "          await google.colab.output.renderOutput(dataTable, element);\n",
              "          const docLink = document.createElement('div');\n",
              "          docLink.innerHTML = docLinkHtml;\n",
              "          element.appendChild(docLink);\n",
              "        }\n",
              "      </script>\n",
              "    </div>\n",
              "  </div>\n",
              "  "
            ]
          },
          "metadata": {},
          "execution_count": 58
        },
        {
          "output_type": "display_data",
          "data": {
            "text/plain": [
              "<Figure size 432x288 with 1 Axes>"
            ],
            "image/png": "[encoded data removed]"
          },
          "metadata": {
            "needs_background": "light"
          }
        }
      ]
    },
    {
      "cell_type": "markdown",
      "source": [
        "- Ninguna correlacion entre la duracion de la oferta (en horas) y la cantidad de unidades vendidas."
      ],
      "metadata": {
        "id": "pW6MxwfgIL0R"
      }
    },
    {
      "cell_type": "markdown",
      "source": [
        "**Ventas por productos y categorias**"
      ],
      "metadata": {
        "id": "cWJsnook1ITu"
      }
    },
    {
      "cell_type": "code",
      "source": [
        "top_sellers_dom = working_df[['SOLD_QUANTITY','DOM_DOMAIN_AGG1', 'DOMAIN_ID']].groupby(['DOM_DOMAIN_AGG1']).sum()\n",
        "top_sellers_dom['PCTG'] = top_sellers_dom.SOLD_QUANTITY/top_sellers_dom.SOLD_QUANTITY.sum()\n",
        "top_sellers_dom = top_sellers_dom.sort_values(by = 'SOLD_QUANTITY', ascending = False)\n",
        "top_sellers_dom. head(10)"
      ],
      "metadata": {
        "id": "eQRc_vGCH8oH",
        "colab": {
          "base_uri": "https://localhost:8080/",
          "height": 394
        },
        "outputId": "c0593aaa-1ae7-471d-e670-78fe895b666d"
      },
      "execution_count": null,
      "outputs": [
        {
          "output_type": "execute_result",
          "data": {
            "text/plain": [
              "                    SOLD_QUANTITY      PCTG\n",
              "DOM_DOMAIN_AGG1                            \n",
              "PHARMACEUTICS            147723.0  0.547751\n",
              "BEAUTY EQUIPMENT          24323.0  0.090189\n",
              "HOME&DECOR                18348.0  0.068034\n",
              "COMPUTERS                 12627.0  0.046820\n",
              "APPAREL                    7846.0  0.029093\n",
              "APPAREL ACCESORIES         7654.0  0.028381\n",
              "SPORTS                     7628.0  0.028284\n",
              "PERSONAL CARE              6160.0  0.022841\n",
              "MOBILE                     5752.0  0.021328\n",
              "ELECTRONICS                5711.0  0.021176"
            ],
            "text/html": [
              "\n",
              "  <div id=\"df-cc9a4e9e-0e88-4fd9-9ce9-498a9b5ef27f\">\n",
              "    <div class=\"colab-df-container\">\n",
              "      <div>\n",
              "<style scoped>\n",
              "    .dataframe tbody tr th:only-of-type {\n",
              "        vertical-align: middle;\n",
              "    }\n",
              "\n",
              "    .dataframe tbody tr th {\n",
              "        vertical-align: top;\n",
              "    }\n",
              "\n",
              "    .dataframe thead th {\n",
              "        text-align: right;\n",
              "    }\n",
              "</style>\n",
              "<table border=\"1\" class=\"dataframe\">\n",
              "  <thead>\n",
              "    <tr style=\"text-align: right;\">\n",
              "      <th></th>\n",
              "      <th>SOLD_QUANTITY</th>\n",
              "      <th>PCTG</th>\n",
              "    </tr>\n",
              "    <tr>\n",
              "      <th>DOM_DOMAIN_AGG1</th>\n",
              "      <th></th>\n",
              "      <th></th>\n",
              "    </tr>\n",
              "  </thead>\n",
              "  <tbody>\n",
              "    <tr>\n",
              "      <th>PHARMACEUTICS</th>\n",
              "      <td>147723.0</td>\n",
              "      <td>0.547751</td>\n",
              "    </tr>\n",
              "    <tr>\n",
              "      <th>BEAUTY EQUIPMENT</th>\n",
              "      <td>24323.0</td>\n",
              "      <td>0.090189</td>\n",
              "    </tr>\n",
              "    <tr>\n",
              "      <th>HOME&amp;DECOR</th>\n",
              "      <td>18348.0</td>\n",
              "      <td>0.068034</td>\n",
              "    </tr>\n",
              "    <tr>\n",
              "      <th>COMPUTERS</th>\n",
              "      <td>12627.0</td>\n",
              "      <td>0.046820</td>\n",
              "    </tr>\n",
              "    <tr>\n",
              "      <th>APPAREL</th>\n",
              "      <td>7846.0</td>\n",
              "      <td>0.029093</td>\n",
              "    </tr>\n",
              "    <tr>\n",
              "      <th>APPAREL ACCESORIES</th>\n",
              "      <td>7654.0</td>\n",
              "      <td>0.028381</td>\n",
              "    </tr>\n",
              "    <tr>\n",
              "      <th>SPORTS</th>\n",
              "      <td>7628.0</td>\n",
              "      <td>0.028284</td>\n",
              "    </tr>\n",
              "    <tr>\n",
              "      <th>PERSONAL CARE</th>\n",
              "      <td>6160.0</td>\n",
              "      <td>0.022841</td>\n",
              "    </tr>\n",
              "    <tr>\n",
              "      <th>MOBILE</th>\n",
              "      <td>5752.0</td>\n",
              "      <td>0.021328</td>\n",
              "    </tr>\n",
              "    <tr>\n",
              "      <th>ELECTRONICS</th>\n",
              "      <td>5711.0</td>\n",
              "      <td>0.021176</td>\n",
              "    </tr>\n",
              "  </tbody>\n",
              "</table>\n",
              "</div>\n",
              "      <button class=\"colab-df-convert\" onclick=\"convertToInteractive('df-cc9a4e9e-0e88-4fd9-9ce9-498a9b5ef27f')\"\n",
              "              title=\"Convert this dataframe to an interactive table.\"\n",
              "              style=\"display:none;\">\n",
              "        \n",
              "  <svg xmlns=\"http://www.w3.org/2000/svg\" height=\"24px\"viewBox=\"0 0 24 24\"\n",
              "       width=\"24px\">\n",
              "    <path d=\"M0 0h24v24H0V0z\" fill=\"none\"/>\n",
              "    <path d=\"M18.56 5.44l.94 2.06.94-2.06 2.06-.94-2.06-.94-.94-2.06-.94 2.06-2.06.94zm-11 1L8.5 8.5l.94-2.06 2.06-.94-2.06-.94L8.5 2.5l-.94 2.06-2.06.94zm10 10l.94 2.06.94-2.06 2.06-.94-2.06-.94-.94-2.06-.94 2.06-2.06.94z\"/><path d=\"M17.41 7.96l-1.37-1.37c-.4-.4-.92-.59-1.43-.59-.52 0-1.04.2-1.43.59L10.3 9.45l-7.72 7.72c-.78.78-.78 2.05 0 2.83L4 21.41c.39.39.9.59 1.41.59.51 0 1.02-.2 1.41-.59l7.78-7.78 2.81-2.81c.8-.78.8-2.07 0-2.86zM5.41 20L4 18.59l7.72-7.72 1.47 1.35L5.41 20z\"/>\n",
              "  </svg>\n",
              "      </button>\n",
              "      \n",
              "  <style>\n",
              "    .colab-df-container {\n",
              "      display:flex;\n",
              "      flex-wrap:wrap;\n",
              "      gap: 12px;\n",
              "    }\n",
              "\n",
              "    .colab-df-convert {\n",
              "      background-color: #E8F0FE;\n",
              "      border: none;\n",
              "      border-radius: 50%;\n",
              "      cursor: pointer;\n",
              "      display: none;\n",
              "      fill: #1967D2;\n",
              "      height: 32px;\n",
              "      padding: 0 0 0 0;\n",
              "      width: 32px;\n",
              "    }\n",
              "\n",
              "    .colab-df-convert:hover {\n",
              "      background-color: #E2EBFA;\n",
              "      box-shadow: 0px 1px 2px rgba(60, 64, 67, 0.3), 0px 1px 3px 1px rgba(60, 64, 67, 0.15);\n",
              "      fill: #174EA6;\n",
              "    }\n",
              "\n",
              "    [theme=dark] .colab-df-convert {\n",
              "      background-color: #3B4455;\n",
              "      fill: #D2E3FC;\n",
              "    }\n",
              "\n",
              "    [theme=dark] .colab-df-convert:hover {\n",
              "      background-color: #434B5C;\n",
              "      box-shadow: 0px 1px 3px 1px rgba(0, 0, 0, 0.15);\n",
              "      filter: drop-shadow(0px 1px 2px rgba(0, 0, 0, 0.3));\n",
              "      fill: #FFFFFF;\n",
              "    }\n",
              "  </style>\n",
              "\n",
              "      <script>\n",
              "        const buttonEl =\n",
              "          document.querySelector('#df-cc9a4e9e-0e88-4fd9-9ce9-498a9b5ef27f button.colab-df-convert');\n",
              "        buttonEl.style.display =\n",
              "          google.colab.kernel.accessAllowed ? 'block' : 'none';\n",
              "\n",
              "        async function convertToInteractive(key) {\n",
              "          const element = document.querySelector('#df-cc9a4e9e-0e88-4fd9-9ce9-498a9b5ef27f');\n",
              "          const dataTable =\n",
              "            await google.colab.kernel.invokeFunction('convertToInteractive',\n",
              "                                                     [key], {});\n",
              "          if (!dataTable) return;\n",
              "\n",
              "          const docLinkHtml = 'Like what you see? Visit the ' +\n",
              "            '<a target=\"_blank\" href=https://colab.research.google.com/notebooks/data_table.ipynb>data table notebook</a>'\n",
              "            + ' to learn more about interactive tables.';\n",
              "          element.innerHTML = '';\n",
              "          dataTable['output_type'] = 'display_data';\n",
              "          await google.colab.output.renderOutput(dataTable, element);\n",
              "          const docLink = document.createElement('div');\n",
              "          docLink.innerHTML = docLinkHtml;\n",
              "          element.appendChild(docLink);\n",
              "        }\n",
              "      </script>\n",
              "    </div>\n",
              "  </div>\n",
              "  "
            ]
          },
          "metadata": {},
          "execution_count": 87
        }
      ]
    },
    {
      "cell_type": "code",
      "source": [
        "plt.title(\"Sales by Domain Category\")\n",
        "plt.xlabel(\"DOM_DOMAIN_AGG1\")\n",
        "plt.ylabel(\"Numb. of Sales\")\n",
        "plt.xticks(rotation = 90)\n",
        "plt.bar(top_sellers_dom.index[:22],top_sellers_dom.SOLD_QUANTITY[:22])        "
      ],
      "metadata": {
        "colab": {
          "base_uri": "https://localhost:8080/",
          "height": 444
        },
        "id": "DWqcDCqb2SGt",
        "outputId": "1659c709-7d2f-49cd-b07d-b6dc328dd998"
      },
      "execution_count": null,
      "outputs": [
        {
          "output_type": "execute_result",
          "data": {
            "text/plain": [
              "<BarContainer object of 22 artists>"
            ]
          },
          "metadata": {},
          "execution_count": 83
        },
        {
          "output_type": "display_data",
          "data": {
            "text/plain": [
              "<Figure size 432x288 with 1 Axes>"
            ],
            "image/png": "[encoded data removed]"
          },
          "metadata": {
            "needs_background": "light"
          }
        }
      ]
    },
    {
      "cell_type": "markdown",
      "source": [
        "- Los productos 'Farmaceuticos' fueron por mucho los mas vendidos durante el periodo, representando el 55% de todas las unidades vendidas!\n",
        "- Si unimos la categoria de productos 'PHARMACEUTICS' a las de 'BEAUTY EQUIPMENT', 'HOME&DECOR'  y 'COMPUTERS', tenemos una verdadera distribucion de Pareto, en la cual apenas un 11% de las categorias comprenden aproximadamente el 80% de las unidades vendidas durante el periodo."
      ],
      "metadata": {
        "id": "UKXxtnEDCA1W"
      }
    },
    {
      "cell_type": "markdown",
      "source": [
        "**Productos mas vendidos**"
      ],
      "metadata": {
        "id": "TtrNGvg0HXQB"
      }
    },
    {
      "cell_type": "markdown",
      "source": [
        "Cuales fueron los 20 productos mas vendidos en el periodo?"
      ],
      "metadata": {
        "id": "PU8mHu5cHowK"
      }
    },
    {
      "cell_type": "code",
      "source": [
        "top_sellers_prod = working_df[['SOLD_QUANTITY', 'DOMAIN_ID']].groupby(['DOMAIN_ID']).sum()\n",
        "top_sellers_prod['PCTG_UNITS_SOLD'] = top_sellers_prod.SOLD_QUANTITY/top_sellers_prod.SOLD_QUANTITY.sum()\n",
        "top_sellers_prod = top_sellers_prod.sort_values(by = 'SOLD_QUANTITY', ascending = False)\n",
        "top_sellers_prod. head(10)"
      ],
      "metadata": {
        "colab": {
          "base_uri": "https://localhost:8080/",
          "height": 394
        },
        "id": "gcwIk-oN6_Nt",
        "outputId": "b8e51211-6003-4cd1-a927-4add0a8a5076"
      },
      "execution_count": null,
      "outputs": [
        {
          "output_type": "execute_result",
          "data": {
            "text/plain": [
              "                                   SOLD_QUANTITY      PCTG\n",
              "DOMAIN_ID                                                 \n",
              "MLM-SURGICAL_AND_INDUSTRIAL_MASKS       141377.0  0.524220\n",
              "MLM-DISPOSABLE_GLOVES                    13477.0  0.049972\n",
              "MLM-OXIMETERS                             8632.0  0.032007\n",
              "MLM-HEADPHONES                            4721.0  0.017505\n",
              "MLM-THERMOMETERS                          3777.0  0.014005\n",
              "MLM-LED_STRIPS                            2015.0  0.007472\n",
              "MLM-CELLPHONES                            1843.0  0.006834\n",
              "MLM-SPEAKERS                              1755.0  0.006507\n",
              "MLM-CHRISTMAS_LIGHTS                      1691.0  0.006270\n",
              "MLM-THERMOSES                             1590.0  0.005896"
            ],
            "text/html": [
              "\n",
              "  <div id=\"df-e7ddecfa-f818-4c73-8103-6e7c9b0980af\">\n",
              "    <div class=\"colab-df-container\">\n",
              "      <div>\n",
              "<style scoped>\n",
              "    .dataframe tbody tr th:only-of-type {\n",
              "        vertical-align: middle;\n",
              "    }\n",
              "\n",
              "    .dataframe tbody tr th {\n",
              "        vertical-align: top;\n",
              "    }\n",
              "\n",
              "    .dataframe thead th {\n",
              "        text-align: right;\n",
              "    }\n",
              "</style>\n",
              "<table border=\"1\" class=\"dataframe\">\n",
              "  <thead>\n",
              "    <tr style=\"text-align: right;\">\n",
              "      <th></th>\n",
              "      <th>SOLD_QUANTITY</th>\n",
              "      <th>PCTG</th>\n",
              "    </tr>\n",
              "    <tr>\n",
              "      <th>DOMAIN_ID</th>\n",
              "      <th></th>\n",
              "      <th></th>\n",
              "    </tr>\n",
              "  </thead>\n",
              "  <tbody>\n",
              "    <tr>\n",
              "      <th>MLM-SURGICAL_AND_INDUSTRIAL_MASKS</th>\n",
              "      <td>141377.0</td>\n",
              "      <td>0.524220</td>\n",
              "    </tr>\n",
              "    <tr>\n",
              "      <th>MLM-DISPOSABLE_GLOVES</th>\n",
              "      <td>13477.0</td>\n",
              "      <td>0.049972</td>\n",
              "    </tr>\n",
              "    <tr>\n",
              "      <th>MLM-OXIMETERS</th>\n",
              "      <td>8632.0</td>\n",
              "      <td>0.032007</td>\n",
              "    </tr>\n",
              "    <tr>\n",
              "      <th>MLM-HEADPHONES</th>\n",
              "      <td>4721.0</td>\n",
              "      <td>0.017505</td>\n",
              "    </tr>\n",
              "    <tr>\n",
              "      <th>MLM-THERMOMETERS</th>\n",
              "      <td>3777.0</td>\n",
              "      <td>0.014005</td>\n",
              "    </tr>\n",
              "    <tr>\n",
              "      <th>MLM-LED_STRIPS</th>\n",
              "      <td>2015.0</td>\n",
              "      <td>0.007472</td>\n",
              "    </tr>\n",
              "    <tr>\n",
              "      <th>MLM-CELLPHONES</th>\n",
              "      <td>1843.0</td>\n",
              "      <td>0.006834</td>\n",
              "    </tr>\n",
              "    <tr>\n",
              "      <th>MLM-SPEAKERS</th>\n",
              "      <td>1755.0</td>\n",
              "      <td>0.006507</td>\n",
              "    </tr>\n",
              "    <tr>\n",
              "      <th>MLM-CHRISTMAS_LIGHTS</th>\n",
              "      <td>1691.0</td>\n",
              "      <td>0.006270</td>\n",
              "    </tr>\n",
              "    <tr>\n",
              "      <th>MLM-THERMOSES</th>\n",
              "      <td>1590.0</td>\n",
              "      <td>0.005896</td>\n",
              "    </tr>\n",
              "  </tbody>\n",
              "</table>\n",
              "</div>\n",
              "      <button class=\"colab-df-convert\" onclick=\"convertToInteractive('df-e7ddecfa-f818-4c73-8103-6e7c9b0980af')\"\n",
              "              title=\"Convert this dataframe to an interactive table.\"\n",
              "              style=\"display:none;\">\n",
              "        \n",
              "  <svg xmlns=\"http://www.w3.org/2000/svg\" height=\"24px\"viewBox=\"0 0 24 24\"\n",
              "       width=\"24px\">\n",
              "    <path d=\"M0 0h24v24H0V0z\" fill=\"none\"/>\n",
              "    <path d=\"M18.56 5.44l.94 2.06.94-2.06 2.06-.94-2.06-.94-.94-2.06-.94 2.06-2.06.94zm-11 1L8.5 8.5l.94-2.06 2.06-.94-2.06-.94L8.5 2.5l-.94 2.06-2.06.94zm10 10l.94 2.06.94-2.06 2.06-.94-2.06-.94-.94-2.06-.94 2.06-2.06.94z\"/><path d=\"M17.41 7.96l-1.37-1.37c-.4-.4-.92-.59-1.43-.59-.52 0-1.04.2-1.43.59L10.3 9.45l-7.72 7.72c-.78.78-.78 2.05 0 2.83L4 21.41c.39.39.9.59 1.41.59.51 0 1.02-.2 1.41-.59l7.78-7.78 2.81-2.81c.8-.78.8-2.07 0-2.86zM5.41 20L4 18.59l7.72-7.72 1.47 1.35L5.41 20z\"/>\n",
              "  </svg>\n",
              "      </button>\n",
              "      \n",
              "  <style>\n",
              "    .colab-df-container {\n",
              "      display:flex;\n",
              "      flex-wrap:wrap;\n",
              "      gap: 12px;\n",
              "    }\n",
              "\n",
              "    .colab-df-convert {\n",
              "      background-color: #E8F0FE;\n",
              "      border: none;\n",
              "      border-radius: 50%;\n",
              "      cursor: pointer;\n",
              "      display: none;\n",
              "      fill: #1967D2;\n",
              "      height: 32px;\n",
              "      padding: 0 0 0 0;\n",
              "      width: 32px;\n",
              "    }\n",
              "\n",
              "    .colab-df-convert:hover {\n",
              "      background-color: #E2EBFA;\n",
              "      box-shadow: 0px 1px 2px rgba(60, 64, 67, 0.3), 0px 1px 3px 1px rgba(60, 64, 67, 0.15);\n",
              "      fill: #174EA6;\n",
              "    }\n",
              "\n",
              "    [theme=dark] .colab-df-convert {\n",
              "      background-color: #3B4455;\n",
              "      fill: #D2E3FC;\n",
              "    }\n",
              "\n",
              "    [theme=dark] .colab-df-convert:hover {\n",
              "      background-color: #434B5C;\n",
              "      box-shadow: 0px 1px 3px 1px rgba(0, 0, 0, 0.15);\n",
              "      filter: drop-shadow(0px 1px 2px rgba(0, 0, 0, 0.3));\n",
              "      fill: #FFFFFF;\n",
              "    }\n",
              "  </style>\n",
              "\n",
              "      <script>\n",
              "        const buttonEl =\n",
              "          document.querySelector('#df-e7ddecfa-f818-4c73-8103-6e7c9b0980af button.colab-df-convert');\n",
              "        buttonEl.style.display =\n",
              "          google.colab.kernel.accessAllowed ? 'block' : 'none';\n",
              "\n",
              "        async function convertToInteractive(key) {\n",
              "          const element = document.querySelector('#df-e7ddecfa-f818-4c73-8103-6e7c9b0980af');\n",
              "          const dataTable =\n",
              "            await google.colab.kernel.invokeFunction('convertToInteractive',\n",
              "                                                     [key], {});\n",
              "          if (!dataTable) return;\n",
              "\n",
              "          const docLinkHtml = 'Like what you see? Visit the ' +\n",
              "            '<a target=\"_blank\" href=https://colab.research.google.com/notebooks/data_table.ipynb>data table notebook</a>'\n",
              "            + ' to learn more about interactive tables.';\n",
              "          element.innerHTML = '';\n",
              "          dataTable['output_type'] = 'display_data';\n",
              "          await google.colab.output.renderOutput(dataTable, element);\n",
              "          const docLink = document.createElement('div');\n",
              "          docLink.innerHTML = docLinkHtml;\n",
              "          element.appendChild(docLink);\n",
              "        }\n",
              "      </script>\n",
              "    </div>\n",
              "  </div>\n",
              "  "
            ]
          },
          "metadata": {},
          "execution_count": 89
        }
      ]
    },
    {
      "cell_type": "markdown",
      "source": [
        "- Como era de esperar, entre los productos mas vendidos destacan los de la categoria farmaceutica; en especial las mascaras quirurgicas e industriales, las cuales representan por si solas mas del 50% de las ventas en el periodo (!), los guantes desechables (5%) y los oximetros (3%). (Por supuesto, las mascaras quirurgicas e industriales son tambien, por mucho, las mas ofertadas.)\n",
        "\n",
        "- De los 10 productos mas ofertados en el periodo, solo tres entran en el top 10 de los mas vendidos. Estos son las mascaras quirurgicas e industriales, los auriculares, y los led strips. (Muy mal les fue a los relojes)"
      ],
      "metadata": {
        "id": "BkfZuNOKIW1X"
      }
    },
    {
      "cell_type": "markdown",
      "source": [
        "**Analisis de temporadas y fechas**"
      ],
      "metadata": {
        "id": "Dit1f9_NNESG"
      }
    },
    {
      "cell_type": "markdown",
      "source": [
        "Ofertas mensuales"
      ],
      "metadata": {
        "id": "qUe3o3CBPc16"
      }
    },
    {
      "cell_type": "code",
      "source": [
        "fig, (ax1, ax2) = plt.subplots(1, 2, figsize=(15, 8))\n",
        "# plot weekly offers in the two months periods\n",
        "weekly_offers = working_df[['WEEK','DOMAIN_ID']].groupby('WEEK').count()\n",
        "ax1.set(\n",
        "    title = \"Weekly Offers\",\n",
        "    xlabel = \"WEEK\",\n",
        "    ylabel = \"No. Offers\"\n",
        ")\n",
        "xticks = ['Jun 1','Jun 2', 'Jun 3', 'Jun 4', 'Jul 1', 'Jul 2', 'Jul 3', 'Jul 4', 'Jul 5']\n",
        "ax1.plot(xticks, weekly_offers.DOMAIN_ID)\n",
        "\n",
        "# plot offers by month\n",
        "monthly_offers = working_df[['MONTH','DOMAIN_ID']].groupby('MONTH').count().sort_values(by = \"DOMAIN_ID\")\n",
        "ax2.set(\n",
        "    title = \"Monthly Offers\",\n",
        "    xlabel = \"MONTH\",\n",
        "    ylabel = \"No. Offers\"\n",
        ")\n",
        "ax2.bar(monthly_offers.index,monthly_offers.DOMAIN_ID) \n",
        "plt.show()"
      ],
      "metadata": {
        "colab": {
          "base_uri": "https://localhost:8080/",
          "height": 513
        },
        "id": "mteHjjIuQA_h",
        "outputId": "bcf040b8-b1bf-4b5e-db0b-3185f4755280"
      },
      "execution_count": null,
      "outputs": [
        {
          "output_type": "display_data",
          "data": {
            "text/plain": [
              "<Figure size 1080x576 with 2 Axes>"
            ],
            "image/png": "[encoded data removed]"
          },
          "metadata": {
            "needs_background": "light"
          }
        }
      ]
    },
    {
      "cell_type": "markdown",
      "source": [
        "- A pesar de algunos altibajos, la tendencia en el numero de ofertas relampago publicadas durante el periodo, fue ascendente; con un pico notable en la segunda semana del mes de julio de 2021.\n",
        "- Durante el mes de julio, hubo un crecimiento del 67% en la cantidad de ofertas, con respecto a las del mes de junio."
      ],
      "metadata": {
        "id": "Kf2DxppwVmdS"
      }
    },
    {
      "cell_type": "markdown",
      "source": [
        "Veamos si las ventas se comportaron de manera similar...."
      ],
      "metadata": {
        "id": "O17HK9gIfLfK"
      }
    },
    {
      "cell_type": "code",
      "source": [
        "fig, (ax1, ax2) = plt.subplots(1, 2, figsize=(15, 8))\n",
        "fig.suptitle('SALES\\nPeriod: Jun 1st-July 31th, 2021')\n",
        "# plot weekly sales in the two months periods\n",
        "weekly_sales = working_df[['WEEK','SOLD_QUANTITY']].groupby('WEEK').sum()\n",
        "ax1.set(\n",
        "    title = \"Weekly Sales\",\n",
        "    xlabel = \"WEEK\",\n",
        "    ylabel = \"Units Sold\"\n",
        ")\n",
        "xticks = ['Jun 1','Jun 2', 'Jun 3', 'Jun 4', 'Jul 1', 'Jul 2', 'Jul 3', 'Jul 4', 'Jul 5']\n",
        "ax1.plot(xticks, weekly_sales.SOLD_QUANTITY)\n",
        "\n",
        "# plot sales by monthSOLD_QUANTITY\n",
        "monthly_sales = working_df[['MONTH','SOLD_QUANTITY']].groupby('MONTH').sum().sort_values(by = \"SOLD_QUANTITY\")\n",
        "ax2.set(\n",
        "    title = \"Monthly Sales\",\n",
        "    xlabel = \"MONTH\",\n",
        "    ylabel = \"Units Sold\"\n",
        ")\n",
        "ax2.bar(monthly_sales.index,monthly_sales.SOLD_QUANTITY) \n",
        "plt.show()"
      ],
      "metadata": {
        "colab": {
          "base_uri": "https://localhost:8080/",
          "height": 554
        },
        "id": "TEnOgAxTTUxq",
        "outputId": "f0a49adf-2202-4abc-d143-9e26a7a6d0b9"
      },
      "execution_count": null,
      "outputs": [
        {
          "output_type": "display_data",
          "data": {
            "text/plain": [
              "<Figure size 1080x576 with 2 Axes>"
            ],
            "image/png": "[encoded data removed]"
          },
          "metadata": {
            "needs_background": "light"
          }
        }
      ]
    },
    {
      "cell_type": "markdown",
      "source": [
        "- La cantidad de unidades de productos vendidas cayo consecutivamente durante las ultimas dos semanas de Julio, justo en en el mismo periodo que se registra un alza de la cantidad de ofertas publicadas.\n",
        "\n",
        "- No obstante, la cantidad de unidades vendidas en el mes de julio fue mas de dos veces superior a la del mes anterior. "
      ],
      "metadata": {
        "id": "6lD-C-XGgzIG"
      }
    },
    {
      "cell_type": "markdown",
      "source": [
        "**Ofertas y ventas por dias de la semana**"
      ],
      "metadata": {
        "id": "Lp5c2JUbngs0"
      }
    },
    {
      "cell_type": "code",
      "source": [
        "fig, (ax1, ax2) = plt.subplots(1, 2, figsize=(15, 8))\n",
        "fig.suptitle(\"OFFERS & SALES BY DAY OF WEEK\")\n",
        "# plot offers by day of the week\n",
        "week_mapping = {0: 'Monday', 1: 'Tuesday', 2: 'Wednesday', 3: 'Thursday',\n",
        "                4: 'Friday', 5: 'Saturday', 6: 'Sunday'}\n",
        "offers_by_diw = working_df[['DAY_IN_WEEK','DOMAIN_ID']].groupby('DAY_IN_WEEK').count()\n",
        "ax1.set(\n",
        "    title = \"Offers by Day\",\n",
        "    xlabel = \"DAY\",\n",
        "    ylabel = \"No. Offers\"\n",
        ")\n",
        "ax1.bar(offers_by_diw.index.map(week_mapping),offers_by_diw.DOMAIN_ID) \n",
        "\n",
        "\n",
        "# plot sales by day of the week\n",
        "sales_by_diw = working_df[['DAY_IN_WEEK','SOLD_QUANTITY']].groupby('DAY_IN_WEEK').sum()\n",
        "ax2.set(\n",
        "    title = \"Sales by Day\",\n",
        "    xlabel = \"DAY\",\n",
        "    ylabel = \"Units Sold\"\n",
        ")\n",
        "\n",
        "ax2.bar(sales_by_diw.index.map(week_mapping),sales_by_diw.SOLD_QUANTITY, color = \"g\") \n",
        "plt.show()bar plotbar plot"
      ],
      "metadata": {
        "colab": {
          "base_uri": "https://localhost:8080/",
          "height": 554
        },
        "id": "7_8R4ZFPf1Nk",
        "outputId": "a9cbfce7-ed99-4718-a5f5-f730d66788e9"
      },
      "execution_count": null,
      "outputs": [
        {
          "output_type": "display_data",
          "data": {
            "text/plain": [
              "<Figure size 1080x576 with 2 Axes>"
            ],
            "image/png": "[encoded data removed]"
          },
          "metadata": {
            "needs_background": "light"
          }
        }
      ]
    },
    {
      "cell_type": "markdown",
      "source": [
        "- INTERESANTE: Mientras que las ofertas tendieron a ser mayores los jueves, viernes y sabados; el numero compras/unidades vendidas tendio a disminuir hacia el final de la semana (incluyendo viernes y sabados).\n",
        "\n",
        "- El domingo no parece ser un buen dia para negocios.\n"
      ],
      "metadata": {
        "id": "2U0_yrmjvjYp"
      }
    },
    {
      "cell_type": "code",
      "source": [],
      "metadata": {
        "id": "uMG9ScwRpXxX"
      },
      "execution_count": null,
      "outputs": []
    }
  ]
}